{
 "cells": [
  {
   "cell_type": "markdown",
   "metadata": {},
   "source": [
    "# 2) Data - Types, Values, Variables and Names"
   ]
  },
  {
   "cell_type": "markdown",
   "metadata": {},
   "source": [
    "We begin with Python's data types and the values that they can contain. Then we see how to represent data as literal values and variables."
   ]
  },
  {
   "cell_type": "markdown",
   "metadata": {},
   "source": [
    "---"
   ]
  },
  {
   "cell_type": "markdown",
   "metadata": {},
   "source": [
    "### Types"
   ]
  },
  {
   "cell_type": "markdown",
   "metadata": {},
   "source": [
    "Below is a table that shows the basic data types in Python. The column \"mutable\" indicates whether the value can be changed after creation."
   ]
  },
  {
   "cell_type": "markdown",
   "metadata": {},
   "source": [
    "    ----------------------------------------\n",
    "    |                |           |         |\n",
    "    | Name           | Type      | Mutable |\n",
    "    |                |           |         |\n",
    "    ----------------------------------------\n",
    "    | Boolean        | bool      | no      |\n",
    "    | Integer        | int       | no      |\n",
    "    | Floating point | float     | no      |\n",
    "    | Complex        | complex   | no      |\n",
    "    | Text string    | str       | no      |\n",
    "    | List           | list      | yes     |\n",
    "    | Tuple          | tuple     | no      |\n",
    "    | Bytes          | bytes     | no      |\n",
    "    | ByteArray      | bytearray | yes     |\n",
    "    | Set            | set       | yes     |\n",
    "    | Frozen set     | frozenset | no      |\n",
    "    | Dictionary     | dict      | yes     |\n",
    "    ----------------------------------------"
   ]
  },
  {
   "cell_type": "markdown",
   "metadata": {},
   "source": [
    "---"
   ]
  },
  {
   "cell_type": "markdown",
   "metadata": {},
   "source": [
    "### Variables"
   ]
  },
  {
   "cell_type": "markdown",
   "metadata": {},
   "source": [
    "There are certain rules that are to be followed in the naming of variables. Python variables may only contain lowercase letters, uppercase letters, digits and underscores. They are case-sensitive, they must not begin with a digit, names that begin with an underscore are treated differently and they cannot be one of Python's reserved words (known as keywords). You can find a list of the keywords using:"
   ]
  },
  {
   "cell_type": "code",
   "execution_count": 1,
   "metadata": {},
   "outputs": [
    {
     "name": "stdout",
     "output_type": "stream",
     "text": [
      "\n",
      "Here is a list of the Python keywords.  Enter any keyword to get more help.\n",
      "\n",
      "False               class               from                or\n",
      "None                continue            global              pass\n",
      "True                def                 if                  raise\n",
      "and                 del                 import              return\n",
      "as                  elif                in                  try\n",
      "assert              else                is                  while\n",
      "async               except              lambda              with\n",
      "await               finally             nonlocal            yield\n",
      "break               for                 not                 \n",
      "\n"
     ]
    }
   ],
   "source": [
    "help(\"keywords\")"
   ]
  },
  {
   "cell_type": "markdown",
   "metadata": {},
   "source": [
    "Remember that assignment of a variable does not copy a value, it just attaches a name to the object that contains the data. The name is a reference to a thing rather than the thing itself. If we wish to know the type of anything we can use type(). If an object is immutable (like an integer), it's value cannot be changed, so assigning two names to an object means they are essentially read-only. But if both names point to a mutable object, you can change the object's value via either name and you will see the changed value when looking up either variable name. See the below example using lists:"
   ]
  },
  {
   "cell_type": "code",
   "execution_count": 4,
   "metadata": {},
   "outputs": [
    {
     "data": {
      "text/plain": [
       "([2, 4, 6], [2, 4, 6])"
      ]
     },
     "execution_count": 4,
     "metadata": {},
     "output_type": "execute_result"
    }
   ],
   "source": [
    "# Name assignment for mutable objects\n",
    "\n",
    "a = [2, 4, 6]\n",
    "b = a\n",
    "a, b"
   ]
  },
  {
   "cell_type": "code",
   "execution_count": 5,
   "metadata": {},
   "outputs": [
    {
     "data": {
      "text/plain": [
       "([99, 4, 6], [99, 4, 6])"
      ]
     },
     "execution_count": 5,
     "metadata": {},
     "output_type": "execute_result"
    }
   ],
   "source": [
    "# After making a change to one list\n",
    "\n",
    "a[0] = 99\n",
    "a, b"
   ]
  }
 ],
 "metadata": {
  "kernelspec": {
   "display_name": "Python 3",
   "language": "python",
   "name": "python3"
  },
  "language_info": {
   "codemirror_mode": {
    "name": "ipython",
    "version": 3
   },
   "file_extension": ".py",
   "mimetype": "text/x-python",
   "name": "python",
   "nbconvert_exporter": "python",
   "pygments_lexer": "ipython3",
   "version": "3.8.3"
  },
  "toc": {
   "base_numbering": 1,
   "nav_menu": {},
   "number_sections": false,
   "sideBar": true,
   "skip_h1_title": false,
   "title_cell": "Table of Contents",
   "title_sidebar": "Contents",
   "toc_cell": false,
   "toc_position": {},
   "toc_section_display": true,
   "toc_window_display": false
  }
 },
 "nbformat": 4,
 "nbformat_minor": 4
}
