{
 "cells": [
  {
   "cell_type": "markdown",
   "metadata": {},
   "source": [
    "# 5) Text Strings"
   ]
  },
  {
   "cell_type": "markdown",
   "metadata": {},
   "source": [
    "Unlike other languages, strings in Python are immutable. You cannot change a string in place, but you can copy parts of strings to another string to get the same effect. Python has a variety of types of strings, indicated by the letter before the first quote. f or F starts and f-string which is used for formatting. r or R starts a raw string and is used to prevent escape sequences in the string. The combination fr or FR starts a raw f-string, and a u starts a unicode string, which is the same as a plain string."
   ]
  },
  {
   "cell_type": "markdown",
   "metadata": {},
   "source": [
    "Python lets us escape the meaning of some characters within strings to achieve effects that would otherwise be difficult to express. For example, the most common escape sequence is \\n which begins a new line. Similarly, \\t us used as a tab for aligning text. Note, however, that a raw string negates esacpe sequences, so will be printed exactly as written."
   ]
  },
  {
   "cell_type": "markdown",
   "metadata": {},
   "source": [
    "---"
   ]
  },
  {
   "cell_type": "markdown",
   "metadata": {},
   "source": [
    "### Slicing, splitting and joining"
   ]
  },
  {
   "cell_type": "markdown",
   "metadata": {},
   "source": [
    "We cab extract part of a string using a slice. We define a slice using square brackets, a start value, an end value and an optional step count between them. Some of these values can be omitted as follows:\n",
    "\n",
    "[:] - Extracts the entire sequence from start to end\n",
    "\n",
    "[start:] - Specifies from the start offset to the end\n",
    "\n",
    "[:end] - Specifies from the beginning to the end offset (minus 1)\n",
    "\n",
    "[start:end] - Specifies from the start offset to the end offset (minus 1)\n",
    "\n",
    "[start:end:step] - Specifies from the start offset to the end offset (minus 1), skipping every step elements."
   ]
  },
  {
   "cell_type": "markdown",
   "metadata": {},
   "source": [
    "Given a negative step size we can step backwards through a string, for example:"
   ]
  },
  {
   "cell_type": "code",
   "execution_count": 1,
   "metadata": {},
   "outputs": [
    {
     "data": {
      "text/plain": [
       "'yeldarB'"
      ]
     },
     "execution_count": 1,
     "metadata": {},
     "output_type": "execute_result"
    }
   ],
   "source": [
    "# Using a negative step count\n",
    "\n",
    "my_name = \"Bradley\"\n",
    "my_name[::-1]"
   ]
  },
  {
   "cell_type": "markdown",
   "metadata": {},
   "source": [
    "We can use the built-in string split() function to break a string into a list of small strings based on some separator. The opposite method is join() which collapses a list of strings into a single string:"
   ]
  },
  {
   "cell_type": "code",
   "execution_count": 4,
   "metadata": {},
   "outputs": [
    {
     "data": {
      "text/plain": [
       "['1', ' 2', ' 3', ' 4', ' 5', ' 6', ' 7', ' 8', ' 9']"
      ]
     },
     "execution_count": 4,
     "metadata": {},
     "output_type": "execute_result"
    }
   ],
   "source": [
    "# Using the split() method\n",
    "\n",
    "string_numbers = '1, 2, 3, 4, 5, 6, 7, 8, 9'\n",
    "list_numbers = string_numbers.split(',')\n",
    "list_numbers"
   ]
  },
  {
   "cell_type": "code",
   "execution_count": 5,
   "metadata": {},
   "outputs": [
    {
     "data": {
      "text/plain": [
       "'1, 2, 3, 4, 5, 6, 7, 8, 9'"
      ]
     },
     "execution_count": 5,
     "metadata": {},
     "output_type": "execute_result"
    }
   ],
   "source": [
    "# Using the join() method\n",
    "\n",
    "list_numbers = ['1', '2', '3', '4', '5', '6', '7', '8', '9']\n",
    "string_numbers = ', '.join(list_numbers)\n",
    "string_numbers"
   ]
  },
  {
   "cell_type": "markdown",
   "metadata": {},
   "source": [
    "It is common to want to strop the leading or trailing padding characters from a string. The strip() function allows you to get rid of whitespace characters (' ', '\\t', '\\n'). strip() strips both ends, lstrip() strips only from the left and rstrip() only from the right. Other methods that can be used on strings include: capitalize(), title(), upper(), lower() andd swapcase(), which can all be seen below:"
   ]
  },
  {
   "cell_type": "code",
   "execution_count": 9,
   "metadata": {},
   "outputs": [
    {
     "data": {
      "text/plain": [
       "'My name is bradley'"
      ]
     },
     "execution_count": 9,
     "metadata": {},
     "output_type": "execute_result"
    }
   ],
   "source": [
    "# Define a string to apply methods to\n",
    "name = \"My name is Bradley\"\n",
    "\n",
    "# Capitalize the first word\n",
    "name.capitalize()"
   ]
  },
  {
   "cell_type": "code",
   "execution_count": 10,
   "metadata": {},
   "outputs": [
    {
     "data": {
      "text/plain": [
       "'My Name Is Bradley'"
      ]
     },
     "execution_count": 10,
     "metadata": {},
     "output_type": "execute_result"
    }
   ],
   "source": [
    "# Capitalize all words\n",
    "name.title()"
   ]
  },
  {
   "cell_type": "code",
   "execution_count": 11,
   "metadata": {},
   "outputs": [
    {
     "data": {
      "text/plain": [
       "'MY NAME IS BRADLEY'"
      ]
     },
     "execution_count": 11,
     "metadata": {},
     "output_type": "execute_result"
    }
   ],
   "source": [
    "# Convert all characters to uppercase\n",
    "name.upper()"
   ]
  },
  {
   "cell_type": "code",
   "execution_count": 12,
   "metadata": {},
   "outputs": [
    {
     "data": {
      "text/plain": [
       "'my name is bradley'"
      ]
     },
     "execution_count": 12,
     "metadata": {},
     "output_type": "execute_result"
    }
   ],
   "source": [
    "# Convert all chcaracters to lowercase\n",
    "name.lower()"
   ]
  },
  {
   "cell_type": "code",
   "execution_count": 13,
   "metadata": {},
   "outputs": [
    {
     "data": {
      "text/plain": [
       "'mY NAME IS bRADLEY'"
      ]
     },
     "execution_count": 13,
     "metadata": {},
     "output_type": "execute_result"
    }
   ],
   "source": [
    "# Swap uppercase and lowercase\n",
    "name.swapcase()"
   ]
  },
  {
   "cell_type": "markdown",
   "metadata": {},
   "source": [
    "---"
   ]
  },
  {
   "cell_type": "markdown",
   "metadata": {},
   "source": [
    "### Formatting strings"
   ]
  },
  {
   "cell_type": "markdown",
   "metadata": {},
   "source": [
    "Python has three ways of formatting strings: old style (supported in Python 2 and 3), new style (Python 2.6 and newer) and f-strings (Python 3.6 and newer). We shall discuss the second two methods. The new style method of formatting has the form format_string.format(data). The arguments to the format() function need to be in the same order as the {} placeholders in the format string:"
   ]
  },
  {
   "cell_type": "code",
   "execution_count": 15,
   "metadata": {},
   "outputs": [
    {
     "data": {
      "text/plain": [
       "'My name is Joe Bloggs and I am 20 years old'"
      ]
     },
     "execution_count": 15,
     "metadata": {},
     "output_type": "execute_result"
    }
   ],
   "source": [
    "# A formatted string with {} and .format()\n",
    "\n",
    "name = \"Joe Bloggs\"\n",
    "age = '20'\n",
    "\n",
    "'My name is {} and I am {} years old'.format(name, age)"
   ]
  },
  {
   "cell_type": "markdown",
   "metadata": {},
   "source": [
    "With the new style formatting we can specify the arguments by position or by name:"
   ]
  },
  {
   "cell_type": "code",
   "execution_count": 16,
   "metadata": {},
   "outputs": [
    {
     "data": {
      "text/plain": [
       "'My name is Joe Bloggs and I am 20 years old'"
      ]
     },
     "execution_count": 16,
     "metadata": {},
     "output_type": "execute_result"
    }
   ],
   "source": [
    "# Formatting by position\n",
    "'My name is {0} and I am {1} years old'.format(name, age)"
   ]
  },
  {
   "cell_type": "code",
   "execution_count": 17,
   "metadata": {},
   "outputs": [
    {
     "data": {
      "text/plain": [
       "'My name is Joe Bloggs and I am 20 years old'"
      ]
     },
     "execution_count": 17,
     "metadata": {},
     "output_type": "execute_result"
    }
   ],
   "source": [
    "# Formatting by name\n",
    "'My name is {name} and I am {age} years old'.format(name = name, age = age)"
   ]
  },
  {
   "cell_type": "markdown",
   "metadata": {},
   "source": [
    "We can define non default formatting for these strings using the following:\n",
    "- An initial colon (':')\n",
    "- An optional fill characters (' ')\n",
    "- An optional alignment character ('<', '>' '^' for left, right and center, respectively)\n",
    "- An optional sign for numbers\n",
    "- An optional minwidth\n",
    "- An optional maxchars"
   ]
  },
  {
   "cell_type": "markdown",
   "metadata": {},
   "source": [
    "f-strings appeared in Python 3.6 and are now the recommended way of formatting strings. to make an f-string, type the letter f before the initial quote and include variable names or expressions within {} to get their values into the string.. The difference from the previous method is that the things that would normally be in the .format() can now be passed directly to the main string."
   ]
  },
  {
   "cell_type": "code",
   "execution_count": 18,
   "metadata": {},
   "outputs": [
    {
     "data": {
      "text/plain": [
       "'My name is Joe Bloggs and I am 20 years old'"
      ]
     },
     "execution_count": 18,
     "metadata": {},
     "output_type": "execute_result"
    }
   ],
   "source": [
    "# Using an f-string\n",
    "f'My name is {name} and I am {age} years old'"
   ]
  }
 ],
 "metadata": {
  "kernelspec": {
   "display_name": "Python 3",
   "language": "python",
   "name": "python3"
  },
  "language_info": {
   "codemirror_mode": {
    "name": "ipython",
    "version": 3
   },
   "file_extension": ".py",
   "mimetype": "text/x-python",
   "name": "python",
   "nbconvert_exporter": "python",
   "pygments_lexer": "ipython3",
   "version": "3.8.3"
  }
 },
 "nbformat": 4,
 "nbformat_minor": 4
}
