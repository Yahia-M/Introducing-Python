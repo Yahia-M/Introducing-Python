{
 "cells": [
  {
   "cell_type": "markdown",
   "metadata": {},
   "source": [
    "# 18) The Web, Untangled <a class=\"tocSkip\">"
   ]
  },
  {
   "cell_type": "markdown",
   "metadata": {},
   "source": [
    "The World Wide Web is designed with three main ideas:\n",
    "\n",
    "    - HTTP (HyperText Transfer Protocol)\n",
    "    A protocol for web clients and servers to interchange requests and responses.\n",
    "    \n",
    "    - HTML (HyperText Markup Language)\n",
    "    A presentation format for results.\n",
    "    \n",
    "    - URL (Uniform Resource Locator)\n",
    "    A way to uniquely represent a server and a resource on that server."
   ]
  },
  {
   "cell_type": "markdown",
   "metadata": {},
   "source": [
    "In its simplest usage, a web client connected to a web server with HTTP, requested a URL and received HTML. Almost every computer language has been used to write web clients and web servers. The dynamic languages Perl, PHP and Ruby have been especially popular. The web is a client-server system. The client makes a request to a server: it opens a TCP/IP connection, sends the URL and other information via HTTP and receives a response. The format of the response is also defined by HTTP. It includes the status of the request and the response's data and format."
   ]
  },
  {
   "cell_type": "markdown",
   "metadata": {},
   "source": [
    "An important aspect of HTTP is that is stateless. Each HTTP connection that you make is independent of all other. This simplifies basic web operations but complicates others, for example:\n",
    "\n",
    "- Caching - Remote content that does not change should be saved by the web client and used to avoid downloading from the server again.\n",
    "\n",
    "- Sessions - A shopping website should remember the contents of your shopping cart.\n",
    "\n",
    "- Authentication - Sites that require your username and password should remember them while you are logged in."
   ]
  },
  {
   "cell_type": "markdown",
   "metadata": {},
   "source": [
    "Solutions to statelessness include cookies, in which the server sends the client enough specific information to be able to identify uniquely when the client sends the cookie back."
   ]
  },
  {
   "cell_type": "markdown",
   "metadata": {},
   "source": [
    "### Web clients"
   ]
  },
  {
   "cell_type": "markdown",
   "metadata": {},
   "source": [
    "Let us use Python's standard web library to get something from a website. The URL in the following example returns information from a test website:"
   ]
  },
  {
   "cell_type": "code",
   "execution_count": 6,
   "metadata": {},
   "outputs": [],
   "source": [
    "import urllib.request as ur"
   ]
  },
  {
   "cell_type": "code",
   "execution_count": 13,
   "metadata": {},
   "outputs": [],
   "source": [
    "# Connection\n",
    "\n",
    "url = 'http://www.example.com/'\n",
    "conn = ur.urlopen(url)"
   ]
  },
  {
   "cell_type": "code",
   "execution_count": 8,
   "metadata": {},
   "outputs": [
    {
     "name": "stdout",
     "output_type": "stream",
     "text": [
      "200\n"
     ]
    }
   ],
   "source": [
    "# Print the connection status\n",
    "\n",
    "print(conn.status)"
   ]
  },
  {
   "cell_type": "markdown",
   "metadata": {},
   "source": [
    "One of the most important parts of the response is the HTTP status code. A 200 means that everything worked fine. There are dozens of HTTP status codes, grouped into five ranges by their first digit:\n",
    "\n",
    "    1xx (information)\n",
    "    The server received the request but has some extra information for the client.\n",
    "    \n",
    "    2xx (success)\n",
    "    It worked; every success code other than 200 conveys extra details.\n",
    "    \n",
    "    3xx (redirection)\n",
    "    The resource moved, so the response returns the new URL to the client.\n",
    "    \n",
    "    4xx (client error)\n",
    "    Some problem from the client side, such as the well known 404 (not found).\n",
    "    \n",
    "    5xx (server error)\n",
    "    500 is the generic whoops; you might see a 502 (bad gateway) if there is some disconnect between a web server and a backend application server."
   ]
  },
  {
   "cell_type": "markdown",
   "metadata": {},
   "source": [
    "To get the data contents from the web page use the read() method of the connection variable. This returns a bytes value that can be converted to a string:"
   ]
  },
  {
   "cell_type": "code",
   "execution_count": 14,
   "metadata": {},
   "outputs": [
    {
     "data": {
      "text/plain": [
       "'<!doctype html>\\n<html>\\n<head>\\n    <title>Example Domain</title>\\n\\n    <meta charset=\"utf-8\" />\\n    <meta http-equiv=\"Content-type\" content=\"text/html; charset=utf-8\" />\\n    <meta name=\"viewport\" content=\"width=device-width, initial-scale=1\" />\\n    <style type=\"text/css\">\\n    body {\\n        background-color: #f0f0f2;\\n        margin: 0;\\n        padding: 0;\\n        font-family: -apple-system, system-ui, BlinkMacSystemFont, \"Segoe UI\", \"Open Sans\", \"Helvetica Neue\", Helvetica, Arial, sans-serif;\\n        \\n    }\\n    div {\\n        width: 600px;\\n        margin: 5em auto;\\n        padding: 2em;\\n        background-color: #fdfdff;\\n        border-radius: 0.5em;\\n        box-shadow: 2px 3px 7px 2px rgba(0,0,0,0.02);\\n    }\\n    a:link, a:visited {\\n        color: #38488f;\\n        text-decoration: none;\\n    }\\n    @media (max-width: 700px) {\\n        div {\\n            margin: 0 auto;\\n            width: auto;\\n        }\\n    }\\n    </style>    \\n</head>\\n\\n<body>\\n<div>\\n    <h1>Example Domain</h1>\\n    <p>This domain is for use in illustrative examples in documents. You may use this\\n    domain in literature without prior coordination or asking for permission.</p>\\n    <p><a href=\"https://www.iana.org/domains/example\">More information...</a></p>\\n</div>\\n</body>\\n</html>\\n'"
      ]
     },
     "execution_count": 14,
     "metadata": {},
     "output_type": "execute_result"
    }
   ],
   "source": [
    "# Get data and convert to string\n",
    "\n",
    "data = conn.read()\n",
    "str_data = data.decode('utf8')\n",
    "str_data"
   ]
  },
  {
   "cell_type": "markdown",
   "metadata": {},
   "source": [
    "### Web servers"
   ]
  },
  {
   "cell_type": "markdown",
   "metadata": {},
   "source": [
    "Web developers have found Python to be an excellent language for writing web servers and server-side programs. This has led to a variety of Python-based web frameworks. A web framework provides features with which you can build websites, so it does more than a simple web (HTTP) server. You will see features such as routing (URL to server function), templates (HTML with dynamic inclusions), debugging and more. Python web development made a leap with the definition of the Web Server Gateway Interface (WSGI), a universal API between Python web applications and web servers. The following web framework uses WSGI."
   ]
  },
  {
   "cell_type": "markdown",
   "metadata": {},
   "source": [
    "Web servers handle the HTTP and WSGI details, but you use web frameworks to actually write the Python code that powers the site. There are many Python web frameworks; at a minimum a web framework handles client requests and server responses. Most major web frameworks also include HTTP protocol handling, authentication, authorization, establishing session, getting parameters, validating parameters and more."
   ]
  },
  {
   "cell_type": "markdown",
   "metadata": {},
   "source": [
    "#### Bottle"
   ]
  },
  {
   "cell_type": "markdown",
   "metadata": {},
   "source": [
    "Bottle is a web framework that consists of a single Python file so it is easy to try and deploy. The following code will run a test web server and return a line of text when your browser accesses the URL http://localhost:9999/."
   ]
  },
  {
   "cell_type": "code",
   "execution_count": 18,
   "metadata": {},
   "outputs": [],
   "source": [
    "from bottle import route, run, static_file"
   ]
  },
  {
   "cell_type": "code",
   "execution_count": 20,
   "metadata": {},
   "outputs": [
    {
     "name": "stderr",
     "output_type": "stream",
     "text": [
      "Bottle v0.12.19 server starting up (using WSGIRefServer())...\n",
      "Listening on http://localhost:9999/\n",
      "Hit Ctrl-C to quit.\n",
      "\n"
     ]
    }
   ],
   "source": [
    "# Generating home page\n",
    "\n",
    "@route('/')\n",
    "def home():\n",
    "    return \"This is a home page\"\n",
    "\n",
    "run(host = 'localhost', port = 9999)"
   ]
  },
  {
   "cell_type": "markdown",
   "metadata": {},
   "source": [
    "Bottle uses the route decorator to associate a URL with the following function; in this case, / (the home page) is handled by the home() function. There are many features to bottle. In particular, you can try adding these arguments when you call run():\n",
    "\n",
    "    - debug = True creates a debugging page if you get an HTTP error.\n",
    "    - reloader = True reloads the page in the browser if you change any of the Python code."
   ]
  },
  {
   "cell_type": "markdown",
   "metadata": {},
   "source": [
    "### Web APIs and REST"
   ]
  },
  {
   "cell_type": "markdown",
   "metadata": {},
   "source": [
    "Often, data is available only within web pages. If you want to access it, you need to access the pages through a web browser and read it. If the authors of the website made any changes since the last time you visited, the location and style of the data might have changed. Instead of publishing web pages, you can provide data though a web application programming interface (API). Clients access your service by making requests to URLs and getting back responses containing status and data. Instead of HTML pages, the data is in formats that are easier for programs to consume, such as JSON or XML. Sometimes you might want a little bit of information, but what you need is available only in HTML pages, surrounded by extraneous content. We could extract the data manually, but it is more reproducible to create an automated web fetcher called a crawler. After the contents have been retrieved from the remote web servers, a scraper parses it to find the required data."
   ]
  },
  {
   "cell_type": "markdown",
   "metadata": {},
   "source": [
    "If you already have the HTML data from a website and just want to extract data from it, BeautifulSoup is a good choice. HTML parsing is harder than it sounds. This is because much of the HTML on public web pages is technically invalid: unclosed tags, incorrect nesting and other complications. Let us build a full program. It searches for videos using an API at the Internet Archive. This is one of the few APIs that allows anonymous access. The program then does the following:\n",
    "\n",
    "- Prompts you for part of a movie or video title\n",
    "- Searches for it at the Internet Archive\n",
    "- Returns a list of identifiers, names and descriptions\n",
    "- Lists them and asks you to select one\n",
    "- Displays that video in your web browser"
   ]
  },
  {
   "cell_type": "code",
   "execution_count": 68,
   "metadata": {},
   "outputs": [],
   "source": [
    "import sys\n",
    "import webbrowser\n",
    "import requests"
   ]
  },
  {
   "cell_type": "code",
   "execution_count": 69,
   "metadata": {},
   "outputs": [],
   "source": [
    "# Searches for a title on the Internet Archive\n",
    "\n",
    "def search(title):\n",
    "    ''' Return a list of 3-item tuples (identifier, title, description) about videos. '''\n",
    "    \n",
    "    search_url = \"https://archive.org/advancedsearch.php\"\n",
    "    params = {\n",
    "            \"q\": \"title:({}) AND mediatype:(movies)\".format(title),\n",
    "            \"fl\": \"identifier, title, description\",\n",
    "            \"output\": \"json\",\n",
    "            \"rows\": 10,\n",
    "            \"page\": 1,\n",
    "            }\n",
    "    resp = requests.get(search_url, params = params)\n",
    "    data = resp.json()\n",
    "    docs = [(doc[\"identifier\"], doc[\"title\"], doc[\"description\"]) for doc in data[\"response\"][\"docs\"]]\n",
    "    \n",
    "    return docs"
   ]
  },
  {
   "cell_type": "code",
   "execution_count": 70,
   "metadata": {},
   "outputs": [],
   "source": [
    "# Lets the user choose one of the searches\n",
    "\n",
    "def choose(docs):\n",
    "    ''' Print line number, title and truncated dscription for each tuple in :docs.\n",
    "    Get the user to pick a line number. If it is valid, return the first item in the chosen tuple.\n",
    "    Otherwise, return None. '''\n",
    "\n",
    "    last = len(docs) - 1\n",
    "    for num, doc in enumerate(docs):\n",
    "        print(f\"{num}: ({doc[1]}){doc[2][:30]}...\")\n",
    "    \n",
    "    index = input(f\"Which would you like to see (0 to {last})? \")\n",
    "    try:\n",
    "        return docs[int(index)][0]\n",
    "    except:\n",
    "        return None"
   ]
  },
  {
   "cell_type": "code",
   "execution_count": 71,
   "metadata": {},
   "outputs": [],
   "source": [
    "# Displays the chosen url in a browser\n",
    "\n",
    "def display(identifier):\n",
    "    ''' Display the Archive video with :identifiier in the browser. '''\n",
    "    details_url = \"https://archive.org.details/{}\".format(identifier)\n",
    "    print('Loading', details_url)\n",
    "    webbrowser.open(details_url)"
   ]
  },
  {
   "cell_type": "code",
   "execution_count": 72,
   "metadata": {},
   "outputs": [],
   "source": [
    "# Combines the above functions\n",
    "\n",
    "def main(title):\n",
    "    ''' Find any movies that match :title. Get the users choice and display in browser. '''\n",
    "    \n",
    "    identifiers = search(title)\n",
    "    if identifiers:\n",
    "        identifier = choose(identifiers)\n",
    "        if identifier:\n",
    "            display(identifier)\n",
    "        else:\n",
    "            print('Nothing selected')\n",
    "    else:\n",
    "        print('Nothing found for ', title)        "
   ]
  }
 ],
 "metadata": {
  "kernelspec": {
   "display_name": "Python 3",
   "language": "python",
   "name": "python3"
  },
  "language_info": {
   "codemirror_mode": {
    "name": "ipython",
    "version": 3
   },
   "file_extension": ".py",
   "mimetype": "text/x-python",
   "name": "python",
   "nbconvert_exporter": "python",
   "pygments_lexer": "ipython3",
   "version": "3.8.3"
  },
  "toc": {
   "base_numbering": 1,
   "nav_menu": {},
   "number_sections": false,
   "sideBar": true,
   "skip_h1_title": false,
   "title_cell": "Table of Contents",
   "title_sidebar": "Contents",
   "toc_cell": false,
   "toc_position": {},
   "toc_section_display": true,
   "toc_window_display": true
  }
 },
 "nbformat": 4,
 "nbformat_minor": 4
}
