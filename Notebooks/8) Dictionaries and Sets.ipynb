{
 "cells": [
  {
   "cell_type": "markdown",
   "metadata": {},
   "source": [
    "# 8) Dictionaries and Sets <a class=\"tocSkip\">"
   ]
  },
  {
   "cell_type": "markdown",
   "metadata": {},
   "source": [
    "### Dictionaries"
   ]
  },
  {
   "cell_type": "markdown",
   "metadata": {},
   "source": [
    "A dictionary is similar to a list, but the order of the items does not matter and they are not selected by an offset. Instead, we specify a unique key to associate with each value. The key is often a string, but can be any of Python's immutable types. Dictionaries are mutable so we can add, delete and change key-value elements. To create a dictionary we use curly brackets around comma separated key:value pairs."
   ]
  },
  {
   "cell_type": "code",
   "execution_count": 1,
   "metadata": {},
   "outputs": [],
   "source": [
    "# Example dictionary\n",
    "\n",
    "dictionary = {'A': 1,\n",
    "              'B': 2,\n",
    "              'C': 3}"
   ]
  },
  {
   "cell_type": "markdown",
   "metadata": {},
   "source": [
    "We add items to dictionaries by referring to the item by its key and assign a value. If the key was already present, the existing value is replaced, otherwise it is added to the dictionary with its value. If you use a key more than once, the last value is shown."
   ]
  },
  {
   "cell_type": "markdown",
   "metadata": {},
   "source": [
    "We can get an item from a dictionary by specifying the dictionary and a key to get the corresponding value. If the key is not in the dictionary it will raise a KeyError. We can avoid this using the get() function. We provide the dictionary, key and an optional value which occurs if the key is not found:"
   ]
  },
  {
   "cell_type": "code",
   "execution_count": 2,
   "metadata": {},
   "outputs": [
    {
     "data": {
      "text/plain": [
       "'Not in the dictionary'"
      ]
     },
     "execution_count": 2,
     "metadata": {},
     "output_type": "execute_result"
    }
   ],
   "source": [
    "# Using the get() function\n",
    "\n",
    "dictionary.get('D', 'Not in the dictionary')"
   ]
  },
  {
   "cell_type": "markdown",
   "metadata": {},
   "source": [
    "We can get all the keys in a dictionary using the keys() function, the values using values() and all key-value pairs using items()."
   ]
  },
  {
   "cell_type": "code",
   "execution_count": 4,
   "metadata": {},
   "outputs": [
    {
     "data": {
      "text/plain": [
       "dict_keys(['A', 'B', 'C'])"
      ]
     },
     "execution_count": 4,
     "metadata": {},
     "output_type": "execute_result"
    }
   ],
   "source": [
    "# Using the keys() method\n",
    "\n",
    "dictionary.keys()"
   ]
  },
  {
   "cell_type": "code",
   "execution_count": 6,
   "metadata": {},
   "outputs": [
    {
     "data": {
      "text/plain": [
       "dict_values([1, 2, 3])"
      ]
     },
     "execution_count": 6,
     "metadata": {},
     "output_type": "execute_result"
    }
   ],
   "source": [
    "# Using the values() method\n",
    "\n",
    "dictionary.values()"
   ]
  },
  {
   "cell_type": "code",
   "execution_count": 7,
   "metadata": {},
   "outputs": [
    {
     "data": {
      "text/plain": [
       "dict_items([('A', 1), ('B', 2), ('C', 3)])"
      ]
     },
     "execution_count": 7,
     "metadata": {},
     "output_type": "execute_result"
    }
   ],
   "source": [
    "# Using the items() method\n",
    "\n",
    "dictionary.items()"
   ]
  },
  {
   "cell_type": "markdown",
   "metadata": {},
   "source": [
    "As of Python 3.5 there is a new way to merge dictionaries using **. Consider the following dictionaries:"
   ]
  },
  {
   "cell_type": "code",
   "execution_count": 9,
   "metadata": {},
   "outputs": [
    {
     "data": {
      "text/plain": [
       "{'A': 1, 'B': 2, 'C': 3, 'D': 4, 'E': 5, 'F': 6, 'G': 7, 'H': 8, 'I': 9}"
      ]
     },
     "execution_count": 9,
     "metadata": {},
     "output_type": "execute_result"
    }
   ],
   "source": [
    "dict1 = {'A': 1,\n",
    "         'B': 2,\n",
    "         'C': 3}\n",
    "\n",
    "dict2 = {'D': 4,\n",
    "         'E': 5,\n",
    "         'F': 6}\n",
    "\n",
    "dict3 = {'G': 7,\n",
    "         'H': 8,\n",
    "         'I': 9}\n",
    "\n",
    "combined_dict = {**dict1, **dict2, **dict3}\n",
    "combined_dict"
   ]
  },
  {
   "cell_type": "markdown",
   "metadata": {},
   "source": [
    "There are two ways that we can copy a dictionary. To copy keys and values from a dictionary to another dictionary we can use copy(). This is a shallow copy and works if the dictionary values are immutable. If they are not, we need deepcopy(). Much like lists and tuples, dictionaries can be compared with the operators == and !=. Python compares the keys and values one by one; the order in which they were originally created does not matter."
   ]
  },
  {
   "cell_type": "markdown",
   "metadata": {},
   "source": [
    "Iterating over a dictionary returns the keys. To iterate over the values rather than the keys, you use the dictionary's values() function, and to return both the key and value as a tuple, you can use the items() function. Examples of all three are below:"
   ]
  },
  {
   "cell_type": "code",
   "execution_count": 11,
   "metadata": {},
   "outputs": [
    {
     "name": "stdout",
     "output_type": "stream",
     "text": [
      "A\n",
      "B\n",
      "C\n",
      "D\n",
      "E\n",
      "F\n",
      "G\n",
      "H\n",
      "I\n",
      "1\n",
      "2\n",
      "3\n",
      "4\n",
      "5\n",
      "6\n",
      "7\n",
      "8\n",
      "9\n"
     ]
    }
   ],
   "source": [
    "# Iterating over keys\n",
    "\n",
    "for key in combined_dict:\n",
    "    print(key)"
   ]
  },
  {
   "cell_type": "code",
   "execution_count": 13,
   "metadata": {},
   "outputs": [
    {
     "name": "stdout",
     "output_type": "stream",
     "text": [
      "1\n",
      "2\n",
      "3\n",
      "4\n",
      "5\n",
      "6\n",
      "7\n",
      "8\n",
      "9\n"
     ]
    }
   ],
   "source": [
    "# Iterating over values\n",
    "\n",
    "for value in combined_dict.values():\n",
    "    print(value)"
   ]
  },
  {
   "cell_type": "code",
   "execution_count": 14,
   "metadata": {},
   "outputs": [
    {
     "name": "stdout",
     "output_type": "stream",
     "text": [
      "('A', 1)\n",
      "('B', 2)\n",
      "('C', 3)\n",
      "('D', 4)\n",
      "('E', 5)\n",
      "('F', 6)\n",
      "('G', 7)\n",
      "('H', 8)\n",
      "('I', 9)\n"
     ]
    }
   ],
   "source": [
    "# Iterating over items\n",
    "\n",
    "for item in combined_dict.items():\n",
    "    print(item)"
   ]
  },
  {
   "cell_type": "markdown",
   "metadata": {},
   "source": [
    "#### Dictionary comprehension"
   ]
  },
  {
   "cell_type": "markdown",
   "metadata": {},
   "source": [
    "As with lists there are also dictionary comprehensions which take the form:\n",
    "\n",
    "    {key_expression: value_expression for expression in iterable}\n",
    "    \n",
    "Dictionary comprehensions can also include conditional statements of the form:\n",
    "\n",
    "    {key_expression: value_expression for expression in iterable if condition}"
   ]
  },
  {
   "cell_type": "code",
   "execution_count": 15,
   "metadata": {},
   "outputs": [
    {
     "data": {
      "text/plain": [
       "{'o': 4, 'n': 1, 'm': 1, 'a': 2, 't': 1, 'p': 1, 'e': 1, 'i': 1}"
      ]
     },
     "execution_count": 15,
     "metadata": {},
     "output_type": "execute_result"
    }
   ],
   "source": [
    "# Example dictionary comprehension\n",
    "\n",
    "word = 'onomatopoeia'\n",
    "\n",
    "letter_counts = {letter: word.count(letter) for letter in word}\n",
    "letter_counts"
   ]
  },
  {
   "cell_type": "code",
   "execution_count": 16,
   "metadata": {},
   "outputs": [
    {
     "data": {
      "text/plain": [
       "{'o': 4, 'a': 2, 'e': 1, 'i': 1}"
      ]
     },
     "execution_count": 16,
     "metadata": {},
     "output_type": "execute_result"
    }
   ],
   "source": [
    "# Example dictionary comprehension with condition (only count vowels)\n",
    "\n",
    "vowels = 'aeiou'\n",
    "word = 'onomatopoeia'\n",
    "\n",
    "vowel_counts = {letter: word.count(letter) for letter in word if letter in vowels}\n",
    "vowel_counts"
   ]
  },
  {
   "cell_type": "markdown",
   "metadata": {},
   "source": [
    "---"
   ]
  },
  {
   "cell_type": "markdown",
   "metadata": {},
   "source": [
    "### Sets"
   ]
  },
  {
   "cell_type": "markdown",
   "metadata": {},
   "source": [
    "A set is like a dictionary without its values, leaving only the keys. As with a dictionary, each key must be unique. You use a set when you only want to know that something exists and nothing else about it. To create a set we use the set() function or enclose one or more comma separated values in curly brackets. Note however that {} does not create an empty set but an empty dictionary."
   ]
  },
  {
   "cell_type": "code",
   "execution_count": 20,
   "metadata": {},
   "outputs": [
    {
     "data": {
      "text/plain": [
       "{'e', 'l', 'r', 's', 't'}"
      ]
     },
     "execution_count": 20,
     "metadata": {},
     "output_type": "execute_result"
    }
   ],
   "source": [
    "# Defining a set\n",
    "\n",
    "set('letters')"
   ]
  },
  {
   "cell_type": "markdown",
   "metadata": {},
   "source": [
    "Note how the set records just one item despite the letters t and e appearing twice. We can get the length of the set with len(), add an item with add() and delete and item with remove(). A common use for a set is to define a dictionary where the values are sets. Consider the following dictionary of drinks and their ingredients:"
   ]
  },
  {
   "cell_type": "code",
   "execution_count": 21,
   "metadata": {},
   "outputs": [],
   "source": [
    "# Example dictionary with sets as values\n",
    "\n",
    "drinks = {\n",
    "    'martini': {'vodka', 'vermouth'},\n",
    "    'black russian': {'vodka', 'kahlua'},\n",
    "    'white russian': {'cream', 'kahlua', 'vodka'},\n",
    "    'manhattan': {'rye', 'vermouth', 'bitters'},\n",
    "    'screwdriver': {'orange juice', 'vodka'}\n",
    "}"
   ]
  },
  {
   "cell_type": "markdown",
   "metadata": {},
   "source": [
    "We can use this to find what drinks contain particular ingredients:"
   ]
  },
  {
   "cell_type": "code",
   "execution_count": 24,
   "metadata": {},
   "outputs": [
    {
     "name": "stdout",
     "output_type": "stream",
     "text": [
      "martini\n",
      "black russian\n",
      "white russian\n",
      "screwdriver\n"
     ]
    }
   ],
   "source": [
    "# Find keys in dictionary based on their set\n",
    "\n",
    "for name, contents in drinks.items():\n",
    "    if 'vodka' in contents:\n",
    "        print(name)"
   ]
  },
  {
   "cell_type": "markdown",
   "metadata": {},
   "source": [
    "If we wish to check for combinations of set values we use the set intersection operator, &. Suppose we want to find any drink that has orange juice or vermouth:"
   ]
  },
  {
   "cell_type": "code",
   "execution_count": 25,
   "metadata": {},
   "outputs": [
    {
     "name": "stdout",
     "output_type": "stream",
     "text": [
      "martini\n",
      "manhattan\n",
      "screwdriver\n"
     ]
    }
   ],
   "source": [
    "# Find keys in dictionary based on combinations of set values\n",
    "\n",
    "for name, contents in drinks.items():\n",
    "    if contents & {'vermouth', 'orange juice'}:\n",
    "        print(name)"
   ]
  },
  {
   "cell_type": "markdown",
   "metadata": {},
   "source": [
    "The following are examples of more set operators. Some have special punctuation, some have special functions, and some have both. The intersection (members common to both sets) are prescribed with & and the union (members of either set) are found by using |. The difference (members of the first set but not the second) is obtained using the character - and the exclusive or (items in one set or the other, but not both) uses ^."
   ]
  },
  {
   "cell_type": "code",
   "execution_count": 26,
   "metadata": {},
   "outputs": [],
   "source": [
    "# Define two different sets\n",
    "\n",
    "a = {1, 2, 3}\n",
    "b = {2, 3, 4}"
   ]
  },
  {
   "cell_type": "code",
   "execution_count": 30,
   "metadata": {},
   "outputs": [
    {
     "data": {
      "text/plain": [
       "{2, 3}"
      ]
     },
     "execution_count": 30,
     "metadata": {},
     "output_type": "execute_result"
    }
   ],
   "source": [
    "# In both A and B\n",
    "\n",
    "a & b"
   ]
  },
  {
   "cell_type": "code",
   "execution_count": 27,
   "metadata": {},
   "outputs": [
    {
     "data": {
      "text/plain": [
       "{1, 2, 3, 4}"
      ]
     },
     "execution_count": 27,
     "metadata": {},
     "output_type": "execute_result"
    }
   ],
   "source": [
    "# A or B\n",
    "\n",
    "a|b"
   ]
  },
  {
   "cell_type": "code",
   "execution_count": 28,
   "metadata": {},
   "outputs": [
    {
     "data": {
      "text/plain": [
       "{1}"
      ]
     },
     "execution_count": 28,
     "metadata": {},
     "output_type": "execute_result"
    }
   ],
   "source": [
    "# In A but not in B\n",
    "\n",
    "a - b"
   ]
  },
  {
   "cell_type": "code",
   "execution_count": 31,
   "metadata": {},
   "outputs": [
    {
     "data": {
      "text/plain": [
       "{1, 4}"
      ]
     },
     "execution_count": 31,
     "metadata": {},
     "output_type": "execute_result"
    }
   ],
   "source": [
    "# In A or B but not both\n",
    "\n",
    "a ^ b"
   ]
  },
  {
   "cell_type": "markdown",
   "metadata": {},
   "source": [
    "#### Set comprehension"
   ]
  },
  {
   "cell_type": "markdown",
   "metadata": {},
   "source": [
    "Set comprehensions can be made using the following form:\n",
    "\n",
    "    {expression for expression in iterable},\n",
    "    \n",
    "and can have an optional condition of the form:\n",
    "\n",
    "    {expression for expression in iterable if condition}."
   ]
  },
  {
   "cell_type": "code",
   "execution_count": 34,
   "metadata": {},
   "outputs": [
    {
     "data": {
      "text/plain": [
       "{1, 2, 3, 4, 5}"
      ]
     },
     "execution_count": 34,
     "metadata": {},
     "output_type": "execute_result"
    }
   ],
   "source": [
    "# An example set comprehension\n",
    "\n",
    "a_set = {number for number in range(1, 6)}\n",
    "a_set"
   ]
  },
  {
   "cell_type": "code",
   "execution_count": 35,
   "metadata": {},
   "outputs": [
    {
     "data": {
      "text/plain": [
       "{1, 4}"
      ]
     },
     "execution_count": 35,
     "metadata": {},
     "output_type": "execute_result"
    }
   ],
   "source": [
    "# An example set with condition\n",
    "\n",
    "b_set = {number for number in range(1, 6) if number % 3 == 1}\n",
    "b_set"
   ]
  }
 ],
 "metadata": {
  "kernelspec": {
   "display_name": "Python 3",
   "language": "python",
   "name": "python3"
  },
  "language_info": {
   "codemirror_mode": {
    "name": "ipython",
    "version": 3
   },
   "file_extension": ".py",
   "mimetype": "text/x-python",
   "name": "python",
   "nbconvert_exporter": "python",
   "pygments_lexer": "ipython3",
   "version": "3.8.3"
  },
  "toc": {
   "base_numbering": 1,
   "nav_menu": {},
   "number_sections": false,
   "sideBar": true,
   "skip_h1_title": false,
   "title_cell": "Table of Contents",
   "title_sidebar": "Contents",
   "toc_cell": false,
   "toc_position": {},
   "toc_section_display": true,
   "toc_window_display": false
  }
 },
 "nbformat": 4,
 "nbformat_minor": 4
}
