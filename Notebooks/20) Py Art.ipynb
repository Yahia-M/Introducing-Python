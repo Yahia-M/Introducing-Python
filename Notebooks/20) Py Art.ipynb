{
 "cells": [
  {
   "cell_type": "markdown",
   "id": "7eae6db3",
   "metadata": {},
   "source": [
    "# 20) Py Art <a class=\"tocSkip\">"
   ]
  },
  {
   "cell_type": "markdown",
   "id": "49b345c2",
   "metadata": {},
   "source": [
    "All computer languages have been applied to computer graphics to some degree. Many of the heavy-duty platforms in this notebook were written in C or C++ for speed, but added Python libraries for productivity."
   ]
  },
  {
   "cell_type": "markdown",
   "id": "534d9d40",
   "metadata": {},
   "source": [
    "### PIL and Pillow"
   ]
  },
  {
   "cell_type": "markdown",
   "id": "0afb1f92",
   "metadata": {},
   "source": [
    "For many years, the Python Image Library (PIL), although not in the standard library, has been Python's best known 2D image processing library. It predates installer such as pip, so a fork called Pillow was created. Pillow's imaging code is backward-compatible with PIL. Below is a couple of functions from PIL:"
   ]
  },
  {
   "cell_type": "code",
   "execution_count": 2,
   "id": "34901e10",
   "metadata": {},
   "outputs": [],
   "source": [
    "from PIL import Image"
   ]
  },
  {
   "cell_type": "code",
   "execution_count": 11,
   "id": "9ec5ac06",
   "metadata": {},
   "outputs": [
    {
     "name": "stdout",
     "output_type": "stream",
     "text": [
      "PNG\n",
      "(154, 141)\n",
      "RGB\n"
     ]
    }
   ],
   "source": [
    "# Load an image, find its format, size and mode\n",
    "\n",
    "img = Image.open('oreilly.png')\n",
    "print(img.format)\n",
    "print(img.size)\n",
    "print(img.mode)\n",
    "\n",
    "img.show()"
   ]
  },
  {
   "cell_type": "markdown",
   "id": "e8850f51",
   "metadata": {},
   "source": [
    "Let us crop the image in memory, save the result as anew object and display it. Images are always measured by horizontal (x) values and vertical (y) values, with the origin (0,0) at the upper left of the image, x increases to the right and y increases as you move down. We want to give the values of left x (55), top y (70), right x (85) and bottom y (100) to the crop() method:"
   ]
  },
  {
   "cell_type": "code",
   "execution_count": 14,
   "id": "b6cbdd84",
   "metadata": {},
   "outputs": [],
   "source": [
    "# Cropping the image and saving\n",
    "\n",
    "crop = (55, 70, 85, 100)\n",
    "img2 = img.crop(crop)\n",
    "img2.save('oreilly_cropped.png')\n",
    "img2.show()"
   ]
  }
 ],
 "metadata": {
  "kernelspec": {
   "display_name": "Python 3 (ipykernel)",
   "language": "python",
   "name": "python3"
  },
  "language_info": {
   "codemirror_mode": {
    "name": "ipython",
    "version": 3
   },
   "file_extension": ".py",
   "mimetype": "text/x-python",
   "name": "python",
   "nbconvert_exporter": "python",
   "pygments_lexer": "ipython3",
   "version": "3.8.12"
  },
  "toc": {
   "base_numbering": 1,
   "nav_menu": {},
   "number_sections": false,
   "sideBar": true,
   "skip_h1_title": false,
   "title_cell": "Table of Contents",
   "title_sidebar": "Contents",
   "toc_cell": false,
   "toc_position": {},
   "toc_section_display": true,
   "toc_window_display": true
  }
 },
 "nbformat": 4,
 "nbformat_minor": 5
}
