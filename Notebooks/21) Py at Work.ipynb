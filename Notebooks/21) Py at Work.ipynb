{
 "cells": [
  {
   "cell_type": "markdown",
   "id": "95fedf4d",
   "metadata": {},
   "source": [
    "# 21) Py at Work <a class=\"tocSkip\">"
   ]
  },
  {
   "cell_type": "markdown",
   "id": "d84155fd",
   "metadata": {},
   "source": [
    "In business and government, we use all of the technologies from the earlier notebooks - databases, the web, systems and networks. Python's productivity is making it more popular in the enterprise and with startups."
   ]
  },
  {
   "cell_type": "markdown",
   "id": "d03f03ed",
   "metadata": {},
   "source": [
    "### Processing business data"
   ]
  },
  {
   "cell_type": "markdown",
   "id": "d1a49ed6",
   "metadata": {},
   "source": [
    "Businesses have a particular fondness for data, sadly many of them conjure perverse ways of making data harder to use. Excessive data programs are not caused by the size of data on single dekstops; rather, they are the result of the aggregate of data pouring into the business. Relational databases handle millions of rows without exploding, but only so many writes ot updates at a time. A plain text or binary file can grow by gigabytes in size, but if you need to process it all at once, you need enough memory. Traditional dekstop software is not designed for this."
   ]
  },
  {
   "cell_type": "markdown",
   "id": "8d3b27cf",
   "metadata": {},
   "source": [
    "All the work to get the data in the first place is commonly termed ETL (extract, transform, load). Synonymsinclude data munging and data wrangling. Most of the tools that you need for day-to-day work in business are those that we have already seen previously. Those include high-level data structures such as dictionaries and objects, thousands of standard and third-party libraries and an expert community. If you are a computer programmer worknig for some business, your workflow almost always includes the following:\n",
    "\n",
    "- Extracting data from unusual file formats or databases.\n",
    "- Data cleaning.\n",
    "- Converting objects such as dates, times and character sets.\n",
    "- Doing something with the data.\n",
    "- Storing resulting data in a file or databse.\n",
    "- Possibly returning to the first step and repeating."
   ]
  },
  {
   "cell_type": "markdown",
   "id": "8f96caee",
   "metadata": {},
   "source": [
    "#### Data validation"
   ]
  },
  {
   "cell_type": "markdown",
   "id": "fede241d",
   "metadata": {},
   "source": [
    "When cleaning up data, you will often need to check:\n",
    "\n",
    "- Data type, such as integer, float or string\n",
    "- Range of values\n",
    "- Correct values\n",
    "- Duplicates\n",
    "- Missing data"
   ]
  },
  {
   "cell_type": "markdown",
   "id": "f4f63cd9",
   "metadata": {},
   "source": [
    "### Maps"
   ]
  },
  {
   "cell_type": "markdown",
   "id": "cebd92d8",
   "metadata": {},
   "source": [
    "Maps have become valuable to many businesses and Python is very good at making maps. The mapping world has lots of formats: vector (lines), raster (images), metadata (words) and various combinations. The shapefile format consists of multiples files, including at the very least the following:\n",
    "\n",
    "- .shp - The \"shape\" (vector) information\n",
    "- .shx - The shape index\n",
    "- .dbf - an attribute database"
   ]
  },
  {
   "cell_type": "markdown",
   "id": "703a39e0",
   "metadata": {},
   "source": [
    "Geocoding converts between addresses and geographic coordinates. There are many geocoding APIs and Python libraries including geopy, pygeocoder and googlemaps."
   ]
  },
  {
   "cell_type": "code",
   "execution_count": null,
   "id": "4797276f",
   "metadata": {},
   "outputs": [],
   "source": []
  }
 ],
 "metadata": {
  "kernelspec": {
   "display_name": "Python 3 (ipykernel)",
   "language": "python",
   "name": "python3"
  },
  "language_info": {
   "codemirror_mode": {
    "name": "ipython",
    "version": 3
   },
   "file_extension": ".py",
   "mimetype": "text/x-python",
   "name": "python",
   "nbconvert_exporter": "python",
   "pygments_lexer": "ipython3",
   "version": "3.8.12"
  },
  "toc": {
   "base_numbering": 1,
   "nav_menu": {},
   "number_sections": false,
   "sideBar": true,
   "skip_h1_title": false,
   "title_cell": "Table of Contents",
   "title_sidebar": "Contents",
   "toc_cell": false,
   "toc_position": {},
   "toc_section_display": true,
   "toc_window_display": true
  }
 },
 "nbformat": 4,
 "nbformat_minor": 5
}
