{
 "cells": [
  {
   "cell_type": "markdown",
   "metadata": {},
   "source": [
    "# 12) Wrangle and Mangle Data <a class=\"tocSkip\">"
   ]
  },
  {
   "cell_type": "markdown",
   "metadata": {},
   "source": [
    "In this notebook we shall learn practical skills for taming data. Sometimes this is called data munging or ETL (extract/transform/load). Data formats fall roughly into two categories: text and binary. Python strings are used for text data and this notebook includes string information that we have skipped so far:\n",
    "\n",
    "- Unicode characters.\n",
    "\n",
    "- Regular expression pattern matching.\n",
    "\n",
    "The are two more Python built-in types related to binary data:\n",
    "\n",
    "- Bytes for immutable eight-bit values.\n",
    "\n",
    "- Bytearrays for mutable ones."
   ]
  },
  {
   "cell_type": "markdown",
   "metadata": {},
   "source": [
    "### Text strings: unicode"
   ]
  },
  {
   "cell_type": "markdown",
   "metadata": {},
   "source": [
    "When data is exchanged with the outside world you need two things: a way to encode character strings to bytes and a way to decode bytes to character strings. UTF-8 is the standard text encoding in Python, Linux and HTML. It is fast, complete and works well. If you use UTF-8 encoding throughout you code, it makes it much easier than trying to hop in and out of various encodings."
   ]
  },
  {
   "cell_type": "markdown",
   "metadata": {},
   "source": [
    "You encode a string to bytes. The string encode() functions first argument is the encoding name. The choices for encoding include ascii, utf-8, latin-1, cp-1252 and unicode-escape."
   ]
  },
  {
   "cell_type": "markdown",
   "metadata": {},
   "source": [
    "We decode byte strings to Unicode text strings. Whenever we get text from some external source (files, databases, websites, network APIs, etc.) it is encoded as byte strings. The tricky part is knowing which encoding was used so we can run it backwards and get Unicode strings. Below we create a Unicode string called place. We shall encode it in UTF-8 format in a bytes variable and then try to decode it using different encodings."
   ]
  },
  {
   "cell_type": "code",
   "execution_count": 1,
   "metadata": {},
   "outputs": [
    {
     "data": {
      "text/plain": [
       "'café'"
      ]
     },
     "execution_count": 1,
     "metadata": {},
     "output_type": "execute_result"
    }
   ],
   "source": [
    "# Define a unicode string\n",
    "\n",
    "place = 'caf\\u00e9'\n",
    "place"
   ]
  },
  {
   "cell_type": "code",
   "execution_count": 2,
   "metadata": {},
   "outputs": [
    {
     "data": {
      "text/plain": [
       "b'caf\\xc3\\xa9'"
      ]
     },
     "execution_count": 2,
     "metadata": {},
     "output_type": "execute_result"
    }
   ],
   "source": [
    "# Encode using UTF-8\n",
    "\n",
    "place_bytes = place.encode('utf-8')\n",
    "place_bytes"
   ]
  },
  {
   "cell_type": "code",
   "execution_count": 3,
   "metadata": {},
   "outputs": [
    {
     "name": "stdout",
     "output_type": "stream",
     "text": [
      "UTF-8 decoding:  café\n",
      "Latin decoding:  cafÃ©\n",
      "Windows decoding:  cafÃ©\n"
     ]
    }
   ],
   "source": [
    "# Various decodings\n",
    "\n",
    "place_utf = place_bytes.decode('utf-8')\n",
    "place_latin = place_bytes.decode('latin-1')\n",
    "place_windows = place_bytes.decode('windows-1252')\n",
    "\n",
    "print('UTF-8 decoding: ', place_utf)\n",
    "print('Latin decoding: ', place_latin)\n",
    "print('Windows decoding: ', place_windows)"
   ]
  },
  {
   "cell_type": "markdown",
   "metadata": {},
   "source": [
    "Whenever possible use UTF-8 encoding. It works, is supported everywhere, can express every Unicode character and is quickly decoded and encoded."
   ]
  },
  {
   "cell_type": "markdown",
   "metadata": {},
   "source": [
    "### Text strings: regular expressions"
   ]
  },
  {
   "cell_type": "markdown",
   "metadata": {},
   "source": [
    "We can match patterns using regular expressions, provided in the standard module re. You define a string pattern that you want to match and the source string to match against. There are a number of ways we can compare the pattern and the source:\n",
    "\n",
    "match() matches a pattern starting at the beginning of the source.\n",
    "search() returns the first match, if any.\n",
    "findall() returns a list of all non-overlapping matches, if any.\n",
    "split() splits the source at matches with pattern and returns a list of the string pieces.\n",
    "sub() takes another replacement argument, and changes all parts of source that are matched by pattern to replacement."
   ]
  },
  {
   "cell_type": "code",
   "execution_count": 4,
   "metadata": {},
   "outputs": [],
   "source": [
    "import re"
   ]
  },
  {
   "cell_type": "code",
   "execution_count": 7,
   "metadata": {},
   "outputs": [
    {
     "name": "stdout",
     "output_type": "stream",
     "text": [
      "Bradley\n"
     ]
    }
   ],
   "source": [
    "# Using re.search() to search a string\n",
    "\n",
    "source = 'My name is Bradley'\n",
    "search = re.search('Bradley', source)\n",
    "\n",
    "if search:\n",
    "    print(search.group())"
   ]
  },
  {
   "cell_type": "code",
   "execution_count": 10,
   "metadata": {},
   "outputs": [
    {
     "data": {
      "text/plain": [
       "['d', 'd']"
      ]
     },
     "execution_count": 10,
     "metadata": {},
     "output_type": "execute_result"
    }
   ],
   "source": [
    "# Uing findall() to count the number of letters\n",
    "\n",
    "source = 'Bradley Anthony Ward'\n",
    "findall = re.findall('d', source)\n",
    "findall"
   ]
  },
  {
   "cell_type": "code",
   "execution_count": 11,
   "metadata": {},
   "outputs": [
    {
     "data": {
      "text/plain": [
       "['dl']"
      ]
     },
     "execution_count": 11,
     "metadata": {},
     "output_type": "execute_result"
    }
   ],
   "source": [
    "# Using findall() with any following character\n",
    "\n",
    "findall = re.findall('d.', source)\n",
    "findall"
   ]
  },
  {
   "cell_type": "code",
   "execution_count": 13,
   "metadata": {},
   "outputs": [
    {
     "data": {
      "text/plain": [
       "['Bradley A', 'tho', 'y Ward']"
      ]
     },
     "execution_count": 13,
     "metadata": {},
     "output_type": "execute_result"
    }
   ],
   "source": [
    "# Using split to split the string at a particular character\n",
    "\n",
    "split = re.split('n', source)\n",
    "split"
   ]
  },
  {
   "cell_type": "code",
   "execution_count": 14,
   "metadata": {},
   "outputs": [
    {
     "data": {
      "text/plain": [
       "'Bradley Amthomy Ward'"
      ]
     },
     "execution_count": 14,
     "metadata": {},
     "output_type": "execute_result"
    }
   ],
   "source": [
    "# Using replace to replace a character\n",
    "\n",
    "replace = re.sub('n', 'm', source)\n",
    "replace"
   ]
  },
  {
   "cell_type": "markdown",
   "metadata": {},
   "source": [
    "We can replace our letters with any special character:\n",
    "\n",
    "    \\d - A single digit\n",
    "    \\D - A single non-digit\n",
    "    \\w - An alphanumeric character\n",
    "    \\W - A non-alphanumeric character\n",
    "    \\s - A whitespace character\n",
    "    \\S - A non-whitespace character\n",
    "    \\b - A word boundary\n",
    "    \\B - A non-word boundary"
   ]
  },
  {
   "cell_type": "markdown",
   "metadata": {},
   "source": [
    "We also have pattern specifiers for regular expressions, which are presented in the table:\n",
    "\n",
    "    -----------------------------------------------------------------\n",
    "    | Pattern        | Matches                                      |\n",
    "    -----------------------------------------------------------------\n",
    "    | abc            | Literal abc                                  |\n",
    "    | (expr)         | expr                                         |\n",
    "    | expr1 | expr2  | expr1 or expr2                               |\n",
    "    | .              | Any character except \\n                      |\n",
    "    | ^              | Start of source string                       |\n",
    "    | $              | End of source string                         |\n",
    "    | prev ?         | Zero or one prev                             |\n",
    "    | prev *         | Zero or more prev, as many as possible       |\n",
    "    | prev *?        | Zero or more prev, as few as possible        |\n",
    "    | prev +         | One or more prev, as many as possible        |\n",
    "    | prev +?        | One or more prev, as few as possible         |\n",
    "    | prev {m}       | m consecutive prev                           |\n",
    "    | prev {m,n}     | m to n consecutive prev, as many as possible |\n",
    "    | prev {m,n}?    | m to n consecutive prev, as few as possible  |\n",
    "    | [abc]          | a or b or c                                  |\n",
    "    | [^abc]         | not (a or b or c)                            |\n",
    "    | prev (?=next)  | prev if followed by next                     |\n",
    "    | prev (?!next)  | prev if not followed by next                 |\n",
    "    | (?<=prev) next | next if preceded by prev                     |\n",
    "    | (?<!prev) next | next if not preceded by prev                 |\n",
    "    -----------------------------------------------------------------"
   ]
  },
  {
   "cell_type": "markdown",
   "metadata": {},
   "source": [
    "The characters ^ and $ are called anchors: ^ anchors the search to the beginning of the search string and $ anchors it to the end. .$ matches any character at the end of the line, including a period. Below are a couple of examples using the patterns above."
   ]
  },
  {
   "cell_type": "code",
   "execution_count": 18,
   "metadata": {},
   "outputs": [],
   "source": [
    "# Example source text\n",
    "\n",
    "text = 'I wish I may, I wish I might have a dish of fish tonight.'"
   ]
  },
  {
   "cell_type": "code",
   "execution_count": 19,
   "metadata": {},
   "outputs": [
    {
     "data": {
      "text/plain": [
       "['wish', 'wish', 'fish']"
      ]
     },
     "execution_count": 19,
     "metadata": {},
     "output_type": "execute_result"
    }
   ],
   "source": [
    "# Finding w or f followed by ish\n",
    "\n",
    "re.findall('[wf]ish', text)"
   ]
  },
  {
   "cell_type": "code",
   "execution_count": 20,
   "metadata": {},
   "outputs": [
    {
     "data": {
      "text/plain": [
       "['ght ', 'ght.']"
      ]
     },
     "execution_count": 20,
     "metadata": {},
     "output_type": "execute_result"
    }
   ],
   "source": [
    "# Finding ght followed by a non-alphanumeric\n",
    "\n",
    "re.findall('ght\\W', text)"
   ]
  },
  {
   "cell_type": "code",
   "execution_count": 22,
   "metadata": {},
   "outputs": [
    {
     "data": {
      "text/plain": [
       "[' wish', ' wish']"
      ]
     },
     "execution_count": 22,
     "metadata": {},
     "output_type": "execute_result"
    }
   ],
   "source": [
    "# Finding wish preceded by I\n",
    "\n",
    "re.findall('(?<=I) wish', text)"
   ]
  }
 ],
 "metadata": {
  "kernelspec": {
   "display_name": "Python 3",
   "language": "python",
   "name": "python3"
  },
  "language_info": {
   "codemirror_mode": {
    "name": "ipython",
    "version": 3
   },
   "file_extension": ".py",
   "mimetype": "text/x-python",
   "name": "python",
   "nbconvert_exporter": "python",
   "pygments_lexer": "ipython3",
   "version": "3.8.3"
  },
  "toc": {
   "base_numbering": 1,
   "nav_menu": {},
   "number_sections": false,
   "sideBar": true,
   "skip_h1_title": false,
   "title_cell": "Table of Contents",
   "title_sidebar": "Contents",
   "toc_cell": false,
   "toc_position": {},
   "toc_section_display": true,
   "toc_window_display": true
  }
 },
 "nbformat": 4,
 "nbformat_minor": 4
}
