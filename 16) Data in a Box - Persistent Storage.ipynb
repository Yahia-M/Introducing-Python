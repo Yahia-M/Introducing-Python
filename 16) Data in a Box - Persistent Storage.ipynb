{
 "cells": [
  {
   "cell_type": "markdown",
   "metadata": {},
   "source": [
    "# 16) Data in a Box - Persistent Storage <a class=\"tocSkip\">"
   ]
  },
  {
   "cell_type": "markdown",
   "metadata": {},
   "source": [
    "An active program accesses data stored in Random Access Memory (RAM). RAM is fast, but it is expensive and requires a constant supply of power. Disk drives are slower than RAM but have more capacity, cost less and retain data. Thus a huge amount of effort in computer systems has been devoted to making the best trade-offs between storing data on disk and RAM. As programmers, we need persistence: storing and retrieving data using nonvolatile media such as disks."
   ]
  },
  {
   "cell_type": "markdown",
   "metadata": {},
   "source": [
    "### Tabular text files"
   ]
  },
  {
   "cell_type": "markdown",
   "metadata": {},
   "source": [
    "With simple text files, the only level of organization is the line. Sometimes, you want more structure than that. You might want to save data for your program to use later, or send data to another program. There are many formats, and various ways to distinguish them:\n",
    "\n",
    "    - A delimiter character like tab ('\\t'), comma (',') or vertical bar ('|'). Examples: CSV.\n",
    "    - '<' and '>' around tags. Examples: XML and HTML.\n",
    "    - Punctuation. Examples: JavaScript Object Notation (JSON).\n",
    "    - Indentation. Examples: YAML."
   ]
  },
  {
   "cell_type": "markdown",
   "metadata": {},
   "source": [
    "#### CSV"
   ]
  },
  {
   "cell_type": "markdown",
   "metadata": {},
   "source": [
    "Delimited files are often used as an exchange format for spreadsheets and databases. You could read CSV files manually, but it is better to use the standard csv module, because parsing these files can get complicated. There are some characteristics to keep in mind when working with CSV:\n",
    "\n",
    "    - Some have alternate delimiters besides a comma, such as tabs and vertical lines.\n",
    "    - Some have escape sequences. If the delimiter can occur within a field, the entire field might be surrounded by quote characters or preceded by some escape character.\n",
    "    - Files have different line-ending characters.\n",
    "    - The first line may contain column names."
   ]
  },
  {
   "cell_type": "code",
   "execution_count": 1,
   "metadata": {},
   "outputs": [],
   "source": [
    "import csv"
   ]
  },
  {
   "cell_type": "code",
   "execution_count": 9,
   "metadata": {},
   "outputs": [],
   "source": [
    "# Creating a csv\n",
    "\n",
    "names = [['Mr', 'Joe', 'Cooke'],\n",
    "        ['Miss', 'Sarah', 'Coe'],\n",
    "        ['Mr', 'John', 'Smith'],\n",
    "        ['Mrs', 'Alice', 'Thompson']]\n",
    "\n",
    "with open('names', 'wt') as fout:\n",
    "    csvout = csv.writer(fout)\n",
    "    csvout.writerows(names)"
   ]
  },
  {
   "cell_type": "code",
   "execution_count": 10,
   "metadata": {},
   "outputs": [
    {
     "data": {
      "text/plain": [
       "[['Mr', 'Joe', 'Cooke'],\n",
       " [],\n",
       " ['Miss', 'Sarah', 'Coe'],\n",
       " [],\n",
       " ['Mr', 'John', 'Smith'],\n",
       " [],\n",
       " ['Mrs', 'Alice', 'Thompson'],\n",
       " []]"
      ]
     },
     "execution_count": 10,
     "metadata": {},
     "output_type": "execute_result"
    }
   ],
   "source": [
    "# Reading back the csv\n",
    "\n",
    "with open('names', 'rt') as fin:\n",
    "    cin = csv.reader(fin)\n",
    "    names = [row for row in cin]\n",
    "    \n",
    "names"
   ]
  },
  {
   "cell_type": "code",
   "execution_count": 11,
   "metadata": {},
   "outputs": [
    {
     "data": {
      "text/plain": [
       "[{'title': 'Mr', 'first': 'Joe', 'last': 'Cooke'},\n",
       " {'title': 'Miss', 'first': 'Sarah', 'last': 'Coe'},\n",
       " {'title': 'Mr', 'first': 'John', 'last': 'Smith'},\n",
       " {'title': 'Mrs', 'first': 'Alice', 'last': 'Thompson'}]"
      ]
     },
     "execution_count": 11,
     "metadata": {},
     "output_type": "execute_result"
    }
   ],
   "source": [
    "# Reading back the csv as dictionaries\n",
    "\n",
    "with open('names', 'rt') as fin:\n",
    "    cin = csv.DictReader(fin, fieldnames = ['title', 'first', 'last'])\n",
    "    names = [row for row in cin]\n",
    "    \n",
    "names"
   ]
  },
  {
   "cell_type": "markdown",
   "metadata": {},
   "source": [
    "We can avoid having to be explicit about the column names by outputting the csv with field names to begin with. We do this by using DictWriter():"
   ]
  },
  {
   "cell_type": "code",
   "execution_count": 13,
   "metadata": {},
   "outputs": [
    {
     "data": {
      "text/plain": [
       "[{'title': 'Mr', 'first': 'Joe', 'last': 'Cooke'},\n",
       " {'title': 'Miss', 'first': 'Sarah', 'last': 'Coe'},\n",
       " {'title': 'Mr', 'first': 'John', 'last': 'Smith'},\n",
       " {'title': 'Mrs', 'first': 'Alice', 'last': 'Thompson'}]"
      ]
     },
     "execution_count": 13,
     "metadata": {},
     "output_type": "execute_result"
    }
   ],
   "source": [
    "# Outputting the csv with DictWriter() and reading the csv back\n",
    "\n",
    "names = [{'title': 'Mr', 'first': 'Joe', 'last': 'Cooke'},\n",
    "        {'title': 'Miss', 'first': 'Sarah', 'last': 'Coe'},\n",
    "        {'title': 'Mr', 'first': 'John', 'last': 'Smith'},\n",
    "        {'title': 'Mrs', 'first': 'Alice', 'last': 'Thompson'}]\n",
    "\n",
    "with open('names.csv', 'wt') as fout:\n",
    "    cout = csv.DictWriter(fout, ['title', 'first', 'last'])\n",
    "    cout.writeheader()\n",
    "    cout.writerows(names)\n",
    "    \n",
    "with open('names.csv', 'rt') as fin:\n",
    "    cin = csv.DictReader(fin)\n",
    "    names = [row for row in cin]\n",
    "    \n",
    "names"
   ]
  },
  {
   "cell_type": "markdown",
   "metadata": {},
   "source": [
    "#### XML"
   ]
  },
  {
   "cell_type": "markdown",
   "metadata": {},
   "source": [
    "Delimited files convey only two dimensions: rows and columns. If you want to exchange data structures among programs, you need a way to encode hierarchies, sequences, sets and other structures as text. XML is a markup format that uses tags to delimit data. Below is an example .xml file:"
   ]
  },
  {
   "cell_type": "raw",
   "metadata": {},
   "source": [
    "<menu>\n",
    "    <breakfast hours = \"7 - 11\">\n",
    "        <item price = \"$5.00\">pancakes</item>\n",
    "        <item price = \"$4.00\">sausage and eggs</item>\n",
    "    </breakfast>\n",
    "    <lunch hours = \"12 - 3\">\n",
    "        <item price = \"$8.00\">burger</item>\n",
    "    </lunch>\n",
    "    <dinner hours = \"5 - 9\">\n",
    "        <item price = \"$10.00\">spaghetti</item>\n",
    "    </dinner>\n",
    "</menu>"
   ]
  },
  {
   "cell_type": "markdown",
   "metadata": {},
   "source": [
    "Following are a few important characteristics of XML:\n",
    "    \n",
    "    - Tags begin with a < character. The tags were menu, breakfast, lunch, dinner and item.\n",
    "    - Whitespace is ignored.\n",
    "    - Usually a start tag is followed by other content and then a final matching end tag.\n",
    "    - Tags can nest within other tags to any level.\n",
    "    - Optional attributes can occur within the start tag, such as price in the above.\n",
    "    - Tags can contain values. Each item has a value such as \"pancakes\"."
   ]
  },
  {
   "cell_type": "markdown",
   "metadata": {},
   "source": [
    "XML is often used for data feeds and messages. The simplest way to parse XML in Python is by using the standard ElementTree module. For each element in the nested lists, tag is the tag string and attrib is a dictionary of its attributes. Other standard Python XML libraries include xml.dom and xml.sex. Simple API for XML (SAX) parses XML on the fly, so it does not have to load everything into memory at once. Therefore, it can be a good choice if you need to process very large streams of XML."
   ]
  },
  {
   "cell_type": "markdown",
   "metadata": {},
   "source": [
    "#### JSON"
   ]
  },
  {
   "cell_type": "markdown",
   "metadata": {},
   "source": [
    "JavaScript Object Notation (JSON) has become a very popular data interchange format, beyond its JavaScript origins. The JSON format is a subset of JavaScript and often legal Python syntax as well. Its close fit to Python makes it a good choice for data interchange among programs. There is one main JSON module, json. The program below encodes data to a JSON string and decodes a JSON string back to data:"
   ]
  },
  {
   "cell_type": "code",
   "execution_count": 20,
   "metadata": {},
   "outputs": [],
   "source": [
    "import json"
   ]
  },
  {
   "cell_type": "code",
   "execution_count": 19,
   "metadata": {},
   "outputs": [
    {
     "data": {
      "text/plain": [
       "{'breakfast': {'hours': '7 - 11',\n",
       "  'items': {'pancakes': '$5.00', 'sausage and eggs': '$4.00'}},\n",
       " 'lunch': {'hours': '12 - 3', 'items': {'burger': '$8.00'}},\n",
       " 'dinner': {'hours': '5 - 9', 'items': {'spaghetti': '$10.00'}}}"
      ]
     },
     "execution_count": 19,
     "metadata": {},
     "output_type": "execute_result"
    }
   ],
   "source": [
    "# Defining the earlier menu\n",
    "\n",
    "menu = \\\n",
    "{\n",
    "    \"breakfast\": {\n",
    "        \"hours\": \"7 - 11\",\n",
    "        \"items\": {\n",
    "            \"pancakes\": \"$5.00\",\n",
    "            \"sausage and eggs\": \"$4.00\"\n",
    "            }\n",
    "    },\n",
    "    \"lunch\": {\n",
    "        \"hours\": \"12 - 3\",\n",
    "        \"items\": {\n",
    "            \"burger\": \"$8.00\"\n",
    "            }\n",
    "    },\n",
    "    \"dinner\": {\n",
    "        \"hours\": \"5 - 9\",\n",
    "        \"items\": {\n",
    "            \"spaghetti\": \"$10.00\"\n",
    "        }\n",
    "    }\n",
    "}\n",
    "\n",
    "menu"
   ]
  },
  {
   "cell_type": "code",
   "execution_count": 21,
   "metadata": {},
   "outputs": [
    {
     "data": {
      "text/plain": [
       "'{\"breakfast\": {\"hours\": \"7 - 11\", \"items\": {\"pancakes\": \"$5.00\", \"sausage and eggs\": \"$4.00\"}}, \"lunch\": {\"hours\": \"12 - 3\", \"items\": {\"burger\": \"$8.00\"}}, \"dinner\": {\"hours\": \"5 - 9\", \"items\": {\"spaghetti\": \"$10.00\"}}}'"
      ]
     },
     "execution_count": 21,
     "metadata": {},
     "output_type": "execute_result"
    }
   ],
   "source": [
    "# Encoding to JSON\n",
    "\n",
    "menu_json = json.dumps(menu)\n",
    "menu_json"
   ]
  },
  {
   "cell_type": "code",
   "execution_count": 22,
   "metadata": {},
   "outputs": [
    {
     "data": {
      "text/plain": [
       "{'breakfast': {'hours': '7 - 11',\n",
       "  'items': {'pancakes': '$5.00', 'sausage and eggs': '$4.00'}},\n",
       " 'lunch': {'hours': '12 - 3', 'items': {'burger': '$8.00'}},\n",
       " 'dinner': {'hours': '5 - 9', 'items': {'spaghetti': '$10.00'}}}"
      ]
     },
     "execution_count": 22,
     "metadata": {},
     "output_type": "execute_result"
    }
   ],
   "source": [
    "# Decoding to Python data structure\n",
    "\n",
    "menu2 = json.loads(menu_json)\n",
    "menu2"
   ]
  },
  {
   "cell_type": "markdown",
   "metadata": {},
   "source": [
    "#### YAML"
   ]
  },
  {
   "cell_type": "markdown",
   "metadata": {},
   "source": [
    "Similar to JSON, YAML has keys and values, but handles more data types such as dates and times. The following is an example of a YAML file about the poet James McIntyre:"
   ]
  },
  {
   "cell_type": "raw",
   "metadata": {},
   "source": [
    "name:\n",
    "    first: James\n",
    "    last: McIntyre\n",
    "dates:\n",
    "    birth: 25-05-1828\n",
    "    death: 31-03-1906\n",
    "details:\n",
    "    bearded: true\n",
    "    themes: [cheese, Canada]\n",
    "books:\n",
    "    url: http://www.gutenberg.org/files/36068/36068-h/36068-h.htm\n",
    "poems:\n",
    "    - title: 'Motto'\n",
    "      text: |\n",
    "          Politeness, preseverance and pluck,\n",
    "          To their possessor will bring good luck.\n",
    "    - title: 'Canandian Charms'\n",
    "      text: |\n",
    "          Here industry is not in vain,\n",
    "          For we have bounteous crops of grain,\n",
    "          And you behold on every field,\n",
    "          Of grass and roots abundant yield,\n",
    "          But after all the greatest charm,\n",
    "          Is the snug home upon the farm,\n",
    "          And stone walls now keep cattle warm."
   ]
  },
  {
   "cell_type": "code",
   "execution_count": null,
   "metadata": {},
   "outputs": [],
   "source": []
  }
 ],
 "metadata": {
  "kernelspec": {
   "display_name": "Python 3",
   "language": "python",
   "name": "python3"
  },
  "language_info": {
   "codemirror_mode": {
    "name": "ipython",
    "version": 3
   },
   "file_extension": ".py",
   "mimetype": "text/x-python",
   "name": "python",
   "nbconvert_exporter": "python",
   "pygments_lexer": "ipython3",
   "version": "3.8.3"
  },
  "toc": {
   "base_numbering": 1,
   "nav_menu": {},
   "number_sections": false,
   "sideBar": true,
   "skip_h1_title": false,
   "title_cell": "Table of Contents",
   "title_sidebar": "Contents",
   "toc_cell": false,
   "toc_position": {
    "height": "calc(100% - 180px)",
    "left": "10px",
    "top": "150px",
    "width": "239.492px"
   },
   "toc_section_display": true,
   "toc_window_display": true
  }
 },
 "nbformat": 4,
 "nbformat_minor": 4
}
