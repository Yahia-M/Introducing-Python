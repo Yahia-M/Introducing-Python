{
 "cells": [
  {
   "cell_type": "markdown",
   "metadata": {},
   "source": [
    "# 16) Data in a Box - Persistent Storage <a class=\"tocSkip\">"
   ]
  },
  {
   "cell_type": "markdown",
   "metadata": {},
   "source": [
    "An active program accesses data stored in Random Access Memory (RAM). RAM is fast, but it is expensive and requires a constant supply of power. Disk drives are slower than RAM but have more capacity, cost less and retain data. Thus a huge amount of effort in computer systems has been devoted to making the best trade-offs between storing data on disk and RAM. As programmers, we need persistence: storing and retrieving data using nonvolatile media such as disks."
   ]
  },
  {
   "cell_type": "markdown",
   "metadata": {},
   "source": [
    "### Tabular text files"
   ]
  },
  {
   "cell_type": "markdown",
   "metadata": {},
   "source": [
    "With simple text files, the only level of organization is the line. Sometimes, you want more structure than that. You might want to save data for your program to use later, or send data to another program. There are many formats, and various ways to distinguish them:\n",
    "\n",
    "    - A delimiter character like tab ('\\t'), comma (',') or vertical bar ('|'). Examples: CSV.\n",
    "    - '<' and '>' around tags. Examples: XML and HTML.\n",
    "    - Punctuation. Examples: JavaScript Object Notation (JSON).\n",
    "    - Indentation. Examples: YAML."
   ]
  },
  {
   "cell_type": "markdown",
   "metadata": {},
   "source": [
    "#### CSV"
   ]
  },
  {
   "cell_type": "markdown",
   "metadata": {},
   "source": [
    "Delimited files are often used as an exchange format for spreadsheets and databases. You could read CSV files manually, but it is better to use the standard csv module, because parsing these files can get complicated. There are some characteristics to keep in mind when working with CSV:\n",
    "\n",
    "    - Some have alternate delimiters besides a comma, such as tabs and vertical lines.\n",
    "    - Some have escape sequences. If the delimiter can occur within a field, the entire field might be surrounded by quote characters or preceded by some escape character.\n",
    "    - Files have different line-ending characters.\n",
    "    - The first line may contain column names."
   ]
  },
  {
   "cell_type": "code",
   "execution_count": 1,
   "metadata": {},
   "outputs": [],
   "source": [
    "import csv"
   ]
  },
  {
   "cell_type": "code",
   "execution_count": 2,
   "metadata": {},
   "outputs": [],
   "source": [
    "# Creating a csv\n",
    "\n",
    "names = [['Mr', 'Joe', 'Cooke'],\n",
    "        ['Miss', 'Sarah', 'Coe'],\n",
    "        ['Mr', 'John', 'Smith'],\n",
    "        ['Mrs', 'Alice', 'Thompson']]\n",
    "\n",
    "with open('names', 'wt') as fout:\n",
    "    csvout = csv.writer(fout)\n",
    "    csvout.writerows(names)"
   ]
  },
  {
   "cell_type": "code",
   "execution_count": 3,
   "metadata": {},
   "outputs": [
    {
     "data": {
      "text/plain": [
       "[['Mr', 'Joe', 'Cooke'],\n",
       " [],\n",
       " ['Miss', 'Sarah', 'Coe'],\n",
       " [],\n",
       " ['Mr', 'John', 'Smith'],\n",
       " [],\n",
       " ['Mrs', 'Alice', 'Thompson'],\n",
       " []]"
      ]
     },
     "execution_count": 3,
     "metadata": {},
     "output_type": "execute_result"
    }
   ],
   "source": [
    "# Reading back the csv\n",
    "\n",
    "with open('names', 'rt') as fin:\n",
    "    cin = csv.reader(fin)\n",
    "    names = [row for row in cin]\n",
    "    \n",
    "names"
   ]
  },
  {
   "cell_type": "code",
   "execution_count": 4,
   "metadata": {},
   "outputs": [
    {
     "data": {
      "text/plain": [
       "[{'title': 'Mr', 'first': 'Joe', 'last': 'Cooke'},\n",
       " {'title': 'Miss', 'first': 'Sarah', 'last': 'Coe'},\n",
       " {'title': 'Mr', 'first': 'John', 'last': 'Smith'},\n",
       " {'title': 'Mrs', 'first': 'Alice', 'last': 'Thompson'}]"
      ]
     },
     "execution_count": 4,
     "metadata": {},
     "output_type": "execute_result"
    }
   ],
   "source": [
    "# Reading back the csv as dictionaries\n",
    "\n",
    "with open('names', 'rt') as fin:\n",
    "    cin = csv.DictReader(fin, fieldnames = ['title', 'first', 'last'])\n",
    "    names = [row for row in cin]\n",
    "    \n",
    "names"
   ]
  },
  {
   "cell_type": "markdown",
   "metadata": {},
   "source": [
    "We can avoid having to be explicit about the column names by outputting the csv with field names to begin with. We do this by using DictWriter():"
   ]
  },
  {
   "cell_type": "code",
   "execution_count": 5,
   "metadata": {},
   "outputs": [
    {
     "data": {
      "text/plain": [
       "[{'title': 'Mr', 'first': 'Joe', 'last': 'Cooke'},\n",
       " {'title': 'Miss', 'first': 'Sarah', 'last': 'Coe'},\n",
       " {'title': 'Mr', 'first': 'John', 'last': 'Smith'},\n",
       " {'title': 'Mrs', 'first': 'Alice', 'last': 'Thompson'}]"
      ]
     },
     "execution_count": 5,
     "metadata": {},
     "output_type": "execute_result"
    }
   ],
   "source": [
    "# Outputting the csv with DictWriter() and reading the csv back\n",
    "\n",
    "names = [{'title': 'Mr', 'first': 'Joe', 'last': 'Cooke'},\n",
    "        {'title': 'Miss', 'first': 'Sarah', 'last': 'Coe'},\n",
    "        {'title': 'Mr', 'first': 'John', 'last': 'Smith'},\n",
    "        {'title': 'Mrs', 'first': 'Alice', 'last': 'Thompson'}]\n",
    "\n",
    "with open('names.csv', 'wt') as fout:\n",
    "    cout = csv.DictWriter(fout, ['title', 'first', 'last'])\n",
    "    cout.writeheader()\n",
    "    cout.writerows(names)\n",
    "    \n",
    "with open('names.csv', 'rt') as fin:\n",
    "    cin = csv.DictReader(fin)\n",
    "    names = [row for row in cin]\n",
    "    \n",
    "names"
   ]
  },
  {
   "cell_type": "markdown",
   "metadata": {},
   "source": [
    "#### XML"
   ]
  },
  {
   "cell_type": "markdown",
   "metadata": {},
   "source": [
    "Delimited files convey only two dimensions: rows and columns. If you want to exchange data structures among programs, you need a way to encode hierarchies, sequences, sets and other structures as text. XML is a markup format that uses tags to delimit data. Below is an example .xml file:"
   ]
  },
  {
   "cell_type": "raw",
   "metadata": {},
   "source": [
    "<menu>\n",
    "    <breakfast hours = \"7 - 11\">\n",
    "        <item price = \"$5.00\">pancakes</item>\n",
    "        <item price = \"$4.00\">sausage and eggs</item>\n",
    "    </breakfast>\n",
    "    <lunch hours = \"12 - 3\">\n",
    "        <item price = \"$8.00\">burger</item>\n",
    "    </lunch>\n",
    "    <dinner hours = \"5 - 9\">\n",
    "        <item price = \"$10.00\">spaghetti</item>\n",
    "    </dinner>\n",
    "</menu>"
   ]
  },
  {
   "cell_type": "markdown",
   "metadata": {},
   "source": [
    "Following are a few important characteristics of XML:\n",
    "    \n",
    "    - Tags begin with a < character. The tags were menu, breakfast, lunch, dinner and item.\n",
    "    - Whitespace is ignored.\n",
    "    - Usually a start tag is followed by other content and then a final matching end tag.\n",
    "    - Tags can nest within other tags to any level.\n",
    "    - Optional attributes can occur within the start tag, such as price in the above.\n",
    "    - Tags can contain values. Each item has a value such as \"pancakes\"."
   ]
  },
  {
   "cell_type": "markdown",
   "metadata": {},
   "source": [
    "XML is often used for data feeds and messages. The simplest way to parse XML in Python is by using the standard ElementTree module. For each element in the nested lists, tag is the tag string and attrib is a dictionary of its attributes. Other standard Python XML libraries include xml.dom and xml.sex. Simple API for XML (SAX) parses XML on the fly, so it does not have to load everything into memory at once. Therefore, it can be a good choice if you need to process very large streams of XML."
   ]
  },
  {
   "cell_type": "markdown",
   "metadata": {},
   "source": [
    "#### JSON"
   ]
  },
  {
   "cell_type": "markdown",
   "metadata": {},
   "source": [
    "JavaScript Object Notation (JSON) has become a very popular data interchange format, beyond its JavaScript origins. The JSON format is a subset of JavaScript and often legal Python syntax as well. Its close fit to Python makes it a good choice for data interchange among programs. There is one main JSON module, json. The program below encodes data to a JSON string and decodes a JSON string back to data:"
   ]
  },
  {
   "cell_type": "code",
   "execution_count": 6,
   "metadata": {},
   "outputs": [],
   "source": [
    "import json"
   ]
  },
  {
   "cell_type": "code",
   "execution_count": 7,
   "metadata": {},
   "outputs": [
    {
     "data": {
      "text/plain": [
       "{'breakfast': {'hours': '7 - 11',\n",
       "  'items': {'pancakes': '$5.00', 'sausage and eggs': '$4.00'}},\n",
       " 'lunch': {'hours': '12 - 3', 'items': {'burger': '$8.00'}},\n",
       " 'dinner': {'hours': '5 - 9', 'items': {'spaghetti': '$10.00'}}}"
      ]
     },
     "execution_count": 7,
     "metadata": {},
     "output_type": "execute_result"
    }
   ],
   "source": [
    "# Defining the earlier menu\n",
    "\n",
    "menu = \\\n",
    "{\n",
    "    \"breakfast\": {\n",
    "        \"hours\": \"7 - 11\",\n",
    "        \"items\": {\n",
    "            \"pancakes\": \"$5.00\",\n",
    "            \"sausage and eggs\": \"$4.00\"\n",
    "            }\n",
    "    },\n",
    "    \"lunch\": {\n",
    "        \"hours\": \"12 - 3\",\n",
    "        \"items\": {\n",
    "            \"burger\": \"$8.00\"\n",
    "            }\n",
    "    },\n",
    "    \"dinner\": {\n",
    "        \"hours\": \"5 - 9\",\n",
    "        \"items\": {\n",
    "            \"spaghetti\": \"$10.00\"\n",
    "        }\n",
    "    }\n",
    "}\n",
    "\n",
    "menu"
   ]
  },
  {
   "cell_type": "code",
   "execution_count": 8,
   "metadata": {},
   "outputs": [
    {
     "data": {
      "text/plain": [
       "'{\"breakfast\": {\"hours\": \"7 - 11\", \"items\": {\"pancakes\": \"$5.00\", \"sausage and eggs\": \"$4.00\"}}, \"lunch\": {\"hours\": \"12 - 3\", \"items\": {\"burger\": \"$8.00\"}}, \"dinner\": {\"hours\": \"5 - 9\", \"items\": {\"spaghetti\": \"$10.00\"}}}'"
      ]
     },
     "execution_count": 8,
     "metadata": {},
     "output_type": "execute_result"
    }
   ],
   "source": [
    "# Encoding to JSON\n",
    "\n",
    "menu_json = json.dumps(menu)\n",
    "menu_json"
   ]
  },
  {
   "cell_type": "code",
   "execution_count": 9,
   "metadata": {},
   "outputs": [
    {
     "data": {
      "text/plain": [
       "{'breakfast': {'hours': '7 - 11',\n",
       "  'items': {'pancakes': '$5.00', 'sausage and eggs': '$4.00'}},\n",
       " 'lunch': {'hours': '12 - 3', 'items': {'burger': '$8.00'}},\n",
       " 'dinner': {'hours': '5 - 9', 'items': {'spaghetti': '$10.00'}}}"
      ]
     },
     "execution_count": 9,
     "metadata": {},
     "output_type": "execute_result"
    }
   ],
   "source": [
    "# Decoding to Python data structure\n",
    "\n",
    "menu2 = json.loads(menu_json)\n",
    "menu2"
   ]
  },
  {
   "cell_type": "markdown",
   "metadata": {},
   "source": [
    "#### YAML"
   ]
  },
  {
   "cell_type": "markdown",
   "metadata": {},
   "source": [
    "Similar to JSON, YAML has keys and values, but handles more data types such as dates and times. The following is an example of a YAML file about the poet James McIntyre:"
   ]
  },
  {
   "cell_type": "raw",
   "metadata": {},
   "source": [
    "name:\n",
    "    first: James\n",
    "    last: McIntyre\n",
    "dates:\n",
    "    birth: 25-05-1828\n",
    "    death: 31-03-1906\n",
    "details:\n",
    "    bearded: true\n",
    "    themes: [cheese, Canada]\n",
    "books:\n",
    "    url: http://www.gutenberg.org/files/36068/36068-h/36068-h.htm\n",
    "poems:\n",
    "    - title: 'Motto'\n",
    "      text: |\n",
    "          Politeness, preseverance and pluck,\n",
    "          To their possessor will bring good luck.\n",
    "    - title: 'Canandian Charms'\n",
    "      text: |\n",
    "          Here industry is not in vain,\n",
    "          For we have bounteous crops of grain,\n",
    "          And you behold on every field,\n",
    "          Of grass and roots abundant yield,\n",
    "          But after all the greatest charm,\n",
    "          Is the snug home upon the farm,\n",
    "          And stone walls now keep cattle warm."
   ]
  },
  {
   "cell_type": "markdown",
   "metadata": {},
   "source": [
    "### Binary files"
   ]
  },
  {
   "cell_type": "markdown",
   "metadata": {},
   "source": [
    "Some file formats were designed to store particular data structures but are neither relational nor NoSQL databases. Below we present some of them:"
   ]
  },
  {
   "cell_type": "markdown",
   "metadata": {},
   "source": [
    "Spreadsheets\n",
    "\n",
    "Spreadsheets, notably Microsoft Excel, are widespread binary data formats. If you save a spreadsheet to a CSV file, you can read it by using the standard csv module. This will work for a binary xls files, xlrd or tablib."
   ]
  },
  {
   "cell_type": "markdown",
   "metadata": {},
   "source": [
    "HDF5\n",
    "\n",
    "HDF5 is a binary data format for multidimensional or hierarchical data. It is mainly used in science where fast random access to large datasets is a common requirement. It is bes suited to WORM (write once, read many) applications for which database protection against conflicting writes is not needed. We mention HDF5 in case we have a need to store and retrieve large amounts of data and are willing to consider something outside the box as well as the usual database solutions. "
   ]
  },
  {
   "cell_type": "markdown",
   "metadata": {},
   "source": [
    "### Relational Databases"
   ]
  },
  {
   "cell_type": "markdown",
   "metadata": {},
   "source": [
    "Relational databases are ubiquitous in the computing world. You will almost certainly have to deal with them at one time or another. They provide:\n",
    "\n",
    "    - Access to data by multiple simultaneous users.\n",
    "    - Protection from corruption by those users.\n",
    "    - Efficient methods to store and retrieve the data.\n",
    "    - Data defined by schemas and limited by constraints.\n",
    "    - Joins to find relationships across diverse types of data.\n",
    "    - A declarative query language: SQL (Structured Query Language)."
   ]
  },
  {
   "cell_type": "markdown",
   "metadata": {},
   "source": [
    "These are called relational because they show relationships among different kinds of data in the form of rectangular fields. A table is similar to a spreadsheet, the intersection of a row and column is a table cell. To create a table, name it and specify the order, names and types of its columns. A column or group of columns is usually the table's primary key; its values must be unique in the table. This key is indexed for fast lookups during queries. Each table lives within a parent database, like a file within a directory. If you want to find rows by some nonkey column value, define a secondary index on that column. Otherwise, the database serve must perform a table scan - a brute-force search of every row for matching column values. Tables can be related to each other with foreign keys, and column values can be constrained to these keys."
   ]
  },
  {
   "cell_type": "markdown",
   "metadata": {},
   "source": [
    "#### SQL"
   ]
  },
  {
   "cell_type": "markdown",
   "metadata": {},
   "source": [
    "SQL is a declarative language: you say what you want rather than how to do it. It is the universal language of relational databases. SQL queries are text strings sent by a client to the database server, which in turn figures out what to do with them. There have been various SQL standard definitions, and all database vendors have added their own extensions, resulting in many SQL dialects. Dialect and operational differences can make it difficult to move your data to another type of database. There are two main categories of SQL statements:\n",
    "\n",
    "DDL (data definition language)\n",
    "\n",
    "    Handles creation, deletion, constraints and permissions for tables, databases and users.\n",
    "    \n",
    "DML (data manipulation language)\n",
    "\n",
    "    Handles data insertions, selects, updates and deletions."
   ]
  },
  {
   "cell_type": "markdown",
   "metadata": {},
   "source": [
    "Below are lists of basic SQL DDL and DML commands:"
   ]
  },
  {
   "cell_type": "markdown",
   "metadata": {},
   "source": [
    "SQL DDL commands\n",
    "\n",
    "    ---------------------------------------------------------------------------------------------------------\n",
    "    |                                  |                               |                                    |\n",
    "    | Operation                        | SQL pattern                   | SQL example                        |\n",
    "    |                                  |                               |                                    |\n",
    "    ---------------------------------------------------------------------------------------------------------\n",
    "    | Create a database                | CREATE DATABASE dbname        | CREATE DATABASE d                  |\n",
    "    | Select current database          | USE dbname                    | USE d                              |\n",
    "    | Delete a database and its tables | DROP DATABASE dbname          | DROP DATABASE d                    |\n",
    "    | Create a table                   | CREATE TABLE tbname (coldefs) | CREATE TABLE t (id INT, count INT) |\n",
    "    | Delete a table                   | DROP TABLE tbname             | DROP TABLE t                       |\n",
    "    | Remove all rows from a table     | TRUNCATE TABLE tbname         | TRUNCATE TABLE t                   |\n",
    "    ---------------------------------------------------------------------------------------------------------"
   ]
  },
  {
   "cell_type": "markdown",
   "metadata": {},
   "source": [
    "SQL DML commands\n",
    "\n",
    "    -----------------------------------------------------------------------------------------------------------------------\n",
    "    |                                |                                          |                                         |\n",
    "    | Operation                      | SQL pattern                              | SQL example                             |\n",
    "    |                                |                                          |                                         |\n",
    "    -----------------------------------------------------------------------------------------------------------------------\n",
    "    | Add a row                      | INSERT INTO tbname VALUES(...)           | INSERT INTO t VALUES (7, 40)            |\n",
    "    | Select all rows and columns    | SELECT * FROM tbname                     | SELECT * FROM t                         |\n",
    "    | Select all rows, some columns  | SELECT cols FROM tbname                  | SELECT id, count FROM t                 |\n",
    "    | Select some rows, some columns | SELECT cols FROM tbname WHERE cond       | SELECT id, count from t WHERE count > 5 |\n",
    "    | Change some rows in a column   | UPDATE tbname SET col = value WHERE cond | UPDATE t SET count = 3 WHERE id = 5     |\n",
    "    | Delete some rows               | DELETE FROM tbname WHERE cond            | DELETE FROM t WHERE count <= 10         |\n",
    "    -----------------------------------------------------------------------------------------------------------------------"
   ]
  },
  {
   "cell_type": "markdown",
   "metadata": {},
   "source": [
    "#### DB-API"
   ]
  },
  {
   "cell_type": "markdown",
   "metadata": {},
   "source": [
    "An application programming interface (API) is a set of functions that you can call to get access to some service. DB-API is Python's standard API for accessing relational databases. Using it, you can write a single program that works with multiple kinds of relational databases instead of writing a separate program for each one. The main functions are the following:\n",
    "\n",
    "    connect() - Make a connection to the database; this can include arguments such as username, password, server address and others.\n",
    "    cursor() - Create a cursor object to manage queries.\n",
    "    execute() / executemany() - Run one or more SQL commands against the database\n",
    "    fetchone()/ fetchmany() / fetchall() - Get the results from execute().\n",
    "    \n",
    "The Python database modules in the coming sections conform to DB-API:"
   ]
  },
  {
   "cell_type": "markdown",
   "metadata": {},
   "source": [
    "#### SQLite"
   ]
  },
  {
   "cell_type": "markdown",
   "metadata": {},
   "source": [
    "SQLite is a light, open source relational database. It is implemented as a standard Python library and stores databases in normal files/ These files are portable across machines and operating systems, making SQLite a portable solution for simple relation database applications. It does not have the full features of MySQL or PostgreSQL, but it does support SQL and manages multiple simultaneous users. Web browsers, smartphones and other applications use SQLite as an embedded database. You begin with connect() to the local SQLite database file that you want to use or create. The special string ':memory:' creates the database in memory only. Let us make a database called business.db and the table cafe to manage our cafe business. The table columns shall be: item - a variable length string and our primary key, sales - an integer count of the number of sales of that item, and price, the price of that item."
   ]
  },
  {
   "cell_type": "code",
   "execution_count": 10,
   "metadata": {},
   "outputs": [],
   "source": [
    "import sqlite3"
   ]
  },
  {
   "cell_type": "code",
   "execution_count": 13,
   "metadata": {},
   "outputs": [
    {
     "data": {
      "text/plain": [
       "<sqlite3.Cursor at 0x23c7de5fdc0>"
      ]
     },
     "execution_count": 13,
     "metadata": {},
     "output_type": "execute_result"
    }
   ],
   "source": [
    "# Make connection and create table\n",
    "\n",
    "connection = sqlite3.connect('business.db')\n",
    "cursor = connection.cursor()\n",
    "cursor.execute(''' CREATE TABLE cafe\n",
    "                    (item VARCHAR(20) PRIMARY KEY,\n",
    "                     sales INT,\n",
    "                     price FLOAT)''')"
   ]
  },
  {
   "cell_type": "markdown",
   "metadata": {},
   "source": [
    "Python's triple quotes are handy when creating long strings such as SQL queries. A safe way to insert data is by using a placeholder:"
   ]
  },
  {
   "cell_type": "code",
   "execution_count": 14,
   "metadata": {},
   "outputs": [
    {
     "data": {
      "text/plain": [
       "<sqlite3.Cursor at 0x23c7de5fdc0>"
      ]
     },
     "execution_count": 14,
     "metadata": {},
     "output_type": "execute_result"
    }
   ],
   "source": [
    "# Creating a placeholder to add data\n",
    "\n",
    "insert = 'INSERT INTO cafe (item, sales, price) VALUES(?, ?, ?)'\n",
    "\n",
    "cursor.execute(insert, ('sandwich', 5, 2.50))\n",
    "cursor.execute(insert, ('muffin', 3, 3.50))"
   ]
  },
  {
   "cell_type": "markdown",
   "metadata": {},
   "source": [
    "We used three question marks in the SQL to indicate that we plan to insert three values, and then pass those three values as a tuple to the execute function(). Placeholders handle details such as quoting, they also protect against SQL injection, a kind of external attack that inserts malicious SQL commands into the system."
   ]
  },
  {
   "cell_type": "code",
   "execution_count": 16,
   "metadata": {},
   "outputs": [
    {
     "name": "stdout",
     "output_type": "stream",
     "text": [
      "[('sandwich', 5, 2.5), ('muffin', 3, 3.5)]\n"
     ]
    }
   ],
   "source": [
    "# Retrieving our table\n",
    "\n",
    "cursor.execute('SELECT * FROM cafe')\n",
    "rows = cursor.fetchall()\n",
    "print(rows)"
   ]
  },
  {
   "cell_type": "markdown",
   "metadata": {},
   "source": [
    "Before we leave SQLite we need to close any opened connections and cursors:"
   ]
  },
  {
   "cell_type": "code",
   "execution_count": 19,
   "metadata": {},
   "outputs": [],
   "source": [
    "# Closing the connection and cursor\n",
    "\n",
    "cursor.close()\n",
    "connection.close()"
   ]
  },
  {
   "cell_type": "markdown",
   "metadata": {},
   "source": [
    "#### MySQL and PostgreSQL"
   ]
  },
  {
   "cell_type": "markdown",
   "metadata": {},
   "source": [
    "MySQL is a very popular open source relational database. Unlike SQLite, it is an actual server so clients can access it from different devices across the network. The different drivers you can use to access MySQL from Python include mysqlclient, MySQL Connector, PYMySQL and oursql.\n",
    "\n",
    "PostgreSQL is a full-featured open source relational database. Indeed in many ways, it is more advanced than MySQL. Th Python drivers you can use to access it include psycopg2 and py-postgresql."
   ]
  },
  {
   "cell_type": "markdown",
   "metadata": {},
   "source": [
    "#### SQLAlchemy"
   ]
  },
  {
   "cell_type": "markdown",
   "metadata": {},
   "source": [
    "SQL is not quite the same for all relational databases and DB-API takes you only so far. Each database implements a particular dialect reflecting its features and philosophy. Many libraries try to bridge these differences in one way or another. The most popular cross-database Python library is SQLAlchemy. You can use SQLAlchemy on several levels:\n",
    "\n",
    "    Engine Layer\n",
    "    The lowest level manages database connection pools, executes SQL commands and returns results. This is closest to the DB-API.\n",
    "    \n",
    "    SQL Expression Language\n",
    "    This lets you express queries in a more Python-oriented way.\n",
    "    \n",
    "    Object Relational Model (ORM)\n",
    "    This layer uses the SQL Expression Language and binds application code with relational data structures."
   ]
  }
 ],
 "metadata": {
  "kernelspec": {
   "display_name": "Python 3",
   "language": "python",
   "name": "python3"
  },
  "language_info": {
   "codemirror_mode": {
    "name": "ipython",
    "version": 3
   },
   "file_extension": ".py",
   "mimetype": "text/x-python",
   "name": "python",
   "nbconvert_exporter": "python",
   "pygments_lexer": "ipython3",
   "version": "3.8.3"
  },
  "toc": {
   "base_numbering": 1,
   "nav_menu": {},
   "number_sections": false,
   "sideBar": true,
   "skip_h1_title": false,
   "title_cell": "Table of Contents",
   "title_sidebar": "Contents",
   "toc_cell": false,
   "toc_position": {
    "height": "calc(100% - 180px)",
    "left": "10px",
    "top": "150px",
    "width": "239.492px"
   },
   "toc_section_display": true,
   "toc_window_display": true
  }
 },
 "nbformat": 4,
 "nbformat_minor": 4
}
