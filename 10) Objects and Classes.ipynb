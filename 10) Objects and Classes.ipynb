{
 "cells": [
  {
   "cell_type": "markdown",
   "metadata": {},
   "source": [
    "# 10) Objects and Classes <a class=\"tocSkip\">"
   ]
  },
  {
   "cell_type": "markdown",
   "metadata": {},
   "source": [
    "An object is a custom data structure containing both data (variables called attributes) and code (functions called methods). Unlike modules, you can have multiple objects (referred to as instances) at the same time, each with potentially different attributes."
   ]
  },
  {
   "cell_type": "markdown",
   "metadata": {},
   "source": [
    "To create a new object that no one has ever created before, you first define a class that indicates what it contains. Suppose that you want to define objects to represent information about cats. Each object will represent a single cat. Below is the simplest example of the Cat class:"
   ]
  },
  {
   "cell_type": "code",
   "execution_count": 1,
   "metadata": {},
   "outputs": [],
   "source": [
    "# A simple class for cats\n",
    "\n",
    "class Cat():\n",
    "    pass"
   ]
  },
  {
   "cell_type": "markdown",
   "metadata": {},
   "source": [
    "We can create an instance of a cat and assign a few attributes to our first object:"
   ]
  },
  {
   "cell_type": "code",
   "execution_count": 2,
   "metadata": {},
   "outputs": [],
   "source": [
    "# An example cat\n",
    "\n",
    "cat_a = Cat()\n",
    "cat_a.name = \"Fred\"\n",
    "cat_a.age = 4"
   ]
  },
  {
   "cell_type": "markdown",
   "metadata": {},
   "source": [
    "A method is a function in a class or object. A method looks like any other function, but can be used in special ways. If you want to assign object attributes at creation time, you need the special Python object initialization method __init__(). When you define __init__() in a class definition, its first parameter should be named self. The self argument specifies that it refers to the individual object itself."
   ]
  },
  {
   "cell_type": "code",
   "execution_count": 3,
   "metadata": {},
   "outputs": [],
   "source": [
    "# A simple class with name initialized at __init__()\n",
    "\n",
    "class Cat():\n",
    "    def __init__(self, name):\n",
    "        self.name = name"
   ]
  },
  {
   "cell_type": "code",
   "execution_count": 4,
   "metadata": {},
   "outputs": [],
   "source": [
    "# An example cat\n",
    "\n",
    "cat_b = Cat('Grumpy')"
   ]
  },
  {
   "cell_type": "markdown",
   "metadata": {},
   "source": [
    "This new object is like any other object in Python, it can be used as an element of a list, tuple, dictionary or set. You can pass it to a function as an argument or return it as a result. It is not necessary to have an __init__() method in every class definition; it's used to do anything that is needed to distinguish this object from other created from the same class."
   ]
  },
  {
   "cell_type": "markdown",
   "metadata": {
    "heading_collapsed": true
   },
   "source": [
    "### Inheritance"
   ]
  },
  {
   "cell_type": "markdown",
   "metadata": {
    "hidden": true
   },
   "source": [
    "When trying to solve a problem we will often have an existing class that creates objects that do almost what you need. We could then modify this class, but it will make it more complicated and corrupt something that used to work. We could write a new class, copying from the original class, but this means more code to maintain and the parts of the old and new class that used to work the same might drift apart because they are in separate places. The solution is inheritance: creating a new class from an existing class, but with some additions or changes. When you use inheritance, the new class automatically uses all the code from the old class."
   ]
  },
  {
   "cell_type": "markdown",
   "metadata": {
    "hidden": true
   },
   "source": [
    "You define only what you need to change or add in the new class, and this overrides the behaviour of the old class. The original class is called a parent, superclass or base class and the new class is called a child, subclass or derived class. Below is an example of a subclass:"
   ]
  },
  {
   "cell_type": "code",
   "execution_count": 5,
   "metadata": {
    "hidden": true
   },
   "outputs": [],
   "source": [
    "# An animal superclass and cat subclass\n",
    "\n",
    "class Animal():\n",
    "    pass\n",
    "\n",
    "class Cat(Animal):\n",
    "    pass"
   ]
  },
  {
   "cell_type": "code",
   "execution_count": 6,
   "metadata": {
    "hidden": true
   },
   "outputs": [
    {
     "data": {
      "text/plain": [
       "True"
      ]
     },
     "execution_count": 6,
     "metadata": {},
     "output_type": "execute_result"
    }
   ],
   "source": [
    "# Check that cat is a subclass of animal\n",
    "\n",
    "issubclass(Cat, Animal)"
   ]
  },
  {
   "cell_type": "markdown",
   "metadata": {
    "hidden": true
   },
   "source": [
    "A new class initially inherits everything from its parent class. We can override any methods, including __init__(). Below is an example of us adding a new method to our subclass:"
   ]
  },
  {
   "cell_type": "code",
   "execution_count": 26,
   "metadata": {
    "hidden": true
   },
   "outputs": [],
   "source": [
    "# A new method to a subclass\n",
    "\n",
    "class Person():\n",
    "    def __init__(self, name):\n",
    "        self.name = name\n",
    "        \n",
    "class Doctor(Person):\n",
    "    def __init__(self, name):\n",
    "        self.name = \"Dr. \" + name\n",
    "    \n",
    "    def degree(self):\n",
    "        return True"
   ]
  },
  {
   "cell_type": "code",
   "execution_count": 27,
   "metadata": {
    "hidden": true
   },
   "outputs": [
    {
     "data": {
      "text/plain": [
       "('Dr. Bob Smith', True)"
      ]
     },
     "execution_count": 27,
     "metadata": {},
     "output_type": "execute_result"
    }
   ],
   "source": [
    "# Define a new person and show that they have a degree\n",
    "\n",
    "person_A = Doctor('Bob Smith')\n",
    "person_A.name, person_A.degree()"
   ]
  },
  {
   "cell_type": "markdown",
   "metadata": {
    "hidden": true
   },
   "source": [
    "Note that if we created an instance using Animal(), it would not have the love_owner() method. Consider we wanted to call a parent method. Here we define a new class EmailPerson that represents a Person that has an email:"
   ]
  },
  {
   "cell_type": "code",
   "execution_count": 28,
   "metadata": {
    "hidden": true
   },
   "outputs": [],
   "source": [
    "# Using super()\n",
    "\n",
    "class Person():\n",
    "    def __init__(self, name):\n",
    "        self.name = name\n",
    "        \n",
    "class EmailPerson(Person):\n",
    "    def __init__(self, name, email):\n",
    "        super().__init__(name)\n",
    "        self.email = email"
   ]
  },
  {
   "cell_type": "markdown",
   "metadata": {
    "hidden": true
   },
   "source": [
    "By defining an __init__() method for the subclass, we are replacing the __init__() method of its parent class. We could have defined our new class with self.name = name, but that would have defeated our use of inheritance. We used super() to make Person() do its work, the same as a plain Person object would. The other benefit is that if the definition of Person changes in the future, using super() will ensure that the attributes and methods that EmailPerson inherits from Person will reflect the change."
   ]
  },
  {
   "cell_type": "markdown",
   "metadata": {
    "heading_collapsed": true,
    "hidden": true
   },
   "source": [
    "#### Multiple inheritance"
   ]
  },
  {
   "cell_type": "markdown",
   "metadata": {
    "hidden": true
   },
   "source": [
    "Objects can inherit from multiple classes. If your class refers to a method or attribute it does not have, Python will look in all the parents. If more than one of them has something with the same name, inheritance depends on the method resolution order. Each Python class has a special method called mro() that returns a list of the classes that would be visited to find a method or attribute for an object of that class. Consider the following class, its two child classes and the two classes derived from these:"
   ]
  },
  {
   "cell_type": "code",
   "execution_count": 29,
   "metadata": {
    "hidden": true
   },
   "outputs": [],
   "source": [
    "# Parent class - Animal\n",
    "class Animal():\n",
    "    def intro(self):\n",
    "        return \"I am an animal\"\n",
    "    \n",
    "# Child class - Horse\n",
    "class Horse(Animal):\n",
    "    def intro(self):\n",
    "        return \"Neigh\"\n",
    "    \n",
    "# Child class - Donkey\n",
    "class Donkey(Animal):\n",
    "    def intro(self):\n",
    "        return \"Hee-haw\"\n",
    "    \n",
    "# Derived class - Mule (Father Donkey, Mother Horse)\n",
    "class Mule(Donkey, Horse):\n",
    "    pass\n",
    "\n",
    "# Derived class - Hinny (Father Horse, Mother Donkey)\n",
    "class Hinny(Horse, Donkey):\n",
    "    pass"
   ]
  },
  {
   "cell_type": "markdown",
   "metadata": {
    "hidden": true
   },
   "source": [
    "Assuming that a child speaks like its father, we can use mro to see the order the classes are searched and call their intro() method to see what they say:"
   ]
  },
  {
   "cell_type": "code",
   "execution_count": 30,
   "metadata": {
    "hidden": true
   },
   "outputs": [
    {
     "data": {
      "text/plain": [
       "[__main__.Mule, __main__.Donkey, __main__.Horse, __main__.Animal, object]"
      ]
     },
     "execution_count": 30,
     "metadata": {},
     "output_type": "execute_result"
    }
   ],
   "source": [
    "# Mule mro\n",
    "Mule.mro()"
   ]
  },
  {
   "cell_type": "code",
   "execution_count": 31,
   "metadata": {
    "hidden": true
   },
   "outputs": [
    {
     "data": {
      "text/plain": [
       "[__main__.Hinny, __main__.Horse, __main__.Donkey, __main__.Animal, object]"
      ]
     },
     "execution_count": 31,
     "metadata": {},
     "output_type": "execute_result"
    }
   ],
   "source": [
    "# Hinny mro\n",
    "Hinny.mro()"
   ]
  },
  {
   "cell_type": "code",
   "execution_count": 35,
   "metadata": {
    "hidden": true
   },
   "outputs": [
    {
     "data": {
      "text/plain": [
       "'Hee-haw'"
      ]
     },
     "execution_count": 35,
     "metadata": {},
     "output_type": "execute_result"
    }
   ],
   "source": [
    "# See what a mule says\n",
    "\n",
    "mule = Mule()\n",
    "mule.intro()"
   ]
  },
  {
   "cell_type": "code",
   "execution_count": 37,
   "metadata": {
    "hidden": true
   },
   "outputs": [
    {
     "data": {
      "text/plain": [
       "'Neigh'"
      ]
     },
     "execution_count": 37,
     "metadata": {},
     "output_type": "execute_result"
    }
   ],
   "source": [
    "# See what a hinny says\n",
    "\n",
    "hinny = Hinny()\n",
    "hinny.intro()"
   ]
  },
  {
   "cell_type": "markdown",
   "metadata": {
    "heading_collapsed": true
   },
   "source": [
    "### Attribute access"
   ]
  },
  {
   "cell_type": "markdown",
   "metadata": {
    "hidden": true
   },
   "source": [
    "Some object-oriented languages support private object attributes that can not be accessed directly from the outside. Python does not have private attributes but you can write getters and setters with obfuscated attribute names for privacy. (The best solution is to use properties). Below is an example showing a name attribute with a setter and getter:"
   ]
  },
  {
   "cell_type": "code",
   "execution_count": 38,
   "metadata": {
    "hidden": true
   },
   "outputs": [],
   "source": [
    "# Class with a getter and setter for name\n",
    "\n",
    "class Person():\n",
    "    def __init__(self, input_name):\n",
    "        self.hidden_name = input_name\n",
    "    def get_name(self):\n",
    "        print('Inside Getter')\n",
    "        return self.hidden_name\n",
    "    def set_name(self, input_name):\n",
    "        print('Inside Setter')\n",
    "        self.hidden_name = input_name"
   ]
  },
  {
   "cell_type": "code",
   "execution_count": 39,
   "metadata": {
    "hidden": true
   },
   "outputs": [
    {
     "name": "stdout",
     "output_type": "stream",
     "text": [
      "Inside Getter\n"
     ]
    },
    {
     "data": {
      "text/plain": [
       "'Bradley'"
      ]
     },
     "execution_count": 39,
     "metadata": {},
     "output_type": "execute_result"
    }
   ],
   "source": [
    "# Using the getter\n",
    "\n",
    "bradley = Person('Bradley')\n",
    "bradley.get_name()"
   ]
  },
  {
   "cell_type": "code",
   "execution_count": 40,
   "metadata": {
    "hidden": true
   },
   "outputs": [
    {
     "name": "stdout",
     "output_type": "stream",
     "text": [
      "Inside Setter\n",
      "Inside Getter\n"
     ]
    },
    {
     "data": {
      "text/plain": [
       "'Bradley Ward'"
      ]
     },
     "execution_count": 40,
     "metadata": {},
     "output_type": "execute_result"
    }
   ],
   "source": [
    "# Using the setter\n",
    "\n",
    "bradley.set_name('Bradley Ward')\n",
    "bradley.get_name()"
   ]
  },
  {
   "cell_type": "markdown",
   "metadata": {
    "hidden": true
   },
   "source": [
    "The Pythonic solution for attribute privacy is to use properties. There are two ways to do this, first is to add name = property(get_name, set_name) as the final line of the class definition, or you add some decorators and replace the method names get_name and set_name with name:"
   ]
  },
  {
   "cell_type": "markdown",
   "metadata": {
    "hidden": true
   },
   "source": [
    "@property goes before the getter method\n",
    "\n",
    "@name.setter goes before the setter method"
   ]
  },
  {
   "cell_type": "code",
   "execution_count": 41,
   "metadata": {
    "hidden": true
   },
   "outputs": [],
   "source": [
    "# Class with a property for private attributes\n",
    "\n",
    "class Person():\n",
    "    def __init__(self, input_name):\n",
    "        self.hidden_name = input_name\n",
    "    \n",
    "    @property\n",
    "    def name(self):\n",
    "        print('Inside Getter')\n",
    "        return self.hidden_name\n",
    "    \n",
    "    @name.setter\n",
    "    def set_name(self, input_name):\n",
    "        print('Inside Setter')\n",
    "        self.hidden_name = input_name"
   ]
  },
  {
   "cell_type": "markdown",
   "metadata": {
    "hidden": true
   },
   "source": [
    "A property can also return a computed value. Let us define a Circle class that has a radius attribute and a computed diameter property:"
   ]
  },
  {
   "cell_type": "code",
   "execution_count": 42,
   "metadata": {
    "hidden": true
   },
   "outputs": [],
   "source": [
    "# A computed value set as a property\n",
    "\n",
    "class Circle():\n",
    "    def __init__(self, radius):\n",
    "        self.radius = radius\n",
    "    \n",
    "    @property\n",
    "    def diameter(self):\n",
    "        return 2*self.radius"
   ]
  },
  {
   "cell_type": "code",
   "execution_count": 44,
   "metadata": {
    "hidden": true
   },
   "outputs": [
    {
     "data": {
      "text/plain": [
       "10"
      ]
     },
     "execution_count": 44,
     "metadata": {},
     "output_type": "execute_result"
    }
   ],
   "source": [
    "# Using our new attribute\n",
    "\n",
    "c = Circle(5)\n",
    "c.diameter"
   ]
  },
  {
   "cell_type": "markdown",
   "metadata": {
    "hidden": true
   },
   "source": [
    "If you do not specify a setter property for an attribute, you can not set it from the outside. This is useful for read-only attributes:"
   ]
  },
  {
   "cell_type": "code",
   "execution_count": 47,
   "metadata": {
    "hidden": true
   },
   "outputs": [
    {
     "ename": "AttributeError",
     "evalue": "can't set attribute",
     "output_type": "error",
     "traceback": [
      "\u001b[1;31m---------------------------------------------------------------------------\u001b[0m",
      "\u001b[1;31mAttributeError\u001b[0m                            Traceback (most recent call last)",
      "\u001b[1;32m<ipython-input-47-c873cefb4e86>\u001b[0m in \u001b[0;36m<module>\u001b[1;34m\u001b[0m\n\u001b[0;32m      1\u001b[0m \u001b[1;31m# We can not set this property from the outside\u001b[0m\u001b[1;33m\u001b[0m\u001b[1;33m\u001b[0m\u001b[1;33m\u001b[0m\u001b[0m\n\u001b[0;32m      2\u001b[0m \u001b[1;33m\u001b[0m\u001b[0m\n\u001b[1;32m----> 3\u001b[1;33m \u001b[0mc\u001b[0m\u001b[1;33m.\u001b[0m\u001b[0mdiameter\u001b[0m \u001b[1;33m=\u001b[0m \u001b[1;36m20\u001b[0m\u001b[1;33m\u001b[0m\u001b[1;33m\u001b[0m\u001b[0m\n\u001b[0m",
      "\u001b[1;31mAttributeError\u001b[0m: can't set attribute"
     ]
    }
   ],
   "source": [
    "# We can not set this property from the outside\n",
    "\n",
    "c.diameter = 20"
   ]
  },
  {
   "cell_type": "markdown",
   "metadata": {
    "hidden": true
   },
   "source": [
    "In our Person() example above, the hidden attribute hidden_name was not completely hidden (it could still be called). By beginning an attribute's name with two underscores (__), the attribute will not be visible outside the class definition:"
   ]
  },
  {
   "cell_type": "code",
   "execution_count": 51,
   "metadata": {
    "hidden": true
   },
   "outputs": [],
   "source": [
    "# A hidden name attribute\n",
    "\n",
    "class Person():\n",
    "    def __init__(self, name, age):\n",
    "        self.name = name\n",
    "        self.__age = age"
   ]
  },
  {
   "cell_type": "code",
   "execution_count": 53,
   "metadata": {
    "hidden": true
   },
   "outputs": [
    {
     "ename": "AttributeError",
     "evalue": "'Person' object has no attribute 'age'",
     "output_type": "error",
     "traceback": [
      "\u001b[1;31m---------------------------------------------------------------------------\u001b[0m",
      "\u001b[1;31mAttributeError\u001b[0m                            Traceback (most recent call last)",
      "\u001b[1;32m<ipython-input-53-08ad2b2f1a46>\u001b[0m in \u001b[0;36m<module>\u001b[1;34m\u001b[0m\n\u001b[0;32m      2\u001b[0m \u001b[1;33m\u001b[0m\u001b[0m\n\u001b[0;32m      3\u001b[0m \u001b[0mbradley\u001b[0m \u001b[1;33m=\u001b[0m \u001b[0mPerson\u001b[0m\u001b[1;33m(\u001b[0m\u001b[1;34m'Bradley'\u001b[0m\u001b[1;33m,\u001b[0m \u001b[1;36m24\u001b[0m\u001b[1;33m)\u001b[0m\u001b[1;33m\u001b[0m\u001b[1;33m\u001b[0m\u001b[0m\n\u001b[1;32m----> 4\u001b[1;33m \u001b[0mbradley\u001b[0m\u001b[1;33m.\u001b[0m\u001b[0mage\u001b[0m\u001b[1;33m\u001b[0m\u001b[1;33m\u001b[0m\u001b[0m\n\u001b[0m",
      "\u001b[1;31mAttributeError\u001b[0m: 'Person' object has no attribute 'age'"
     ]
    }
   ],
   "source": [
    "# We cannot access this attribute (we would need a setter and getter)\n",
    "\n",
    "bradley = Person('Bradley', 24)\n",
    "bradley.age"
   ]
  },
  {
   "cell_type": "markdown",
   "metadata": {
    "heading_collapsed": true
   },
   "source": [
    "### Method Types"
   ]
  },
  {
   "cell_type": "markdown",
   "metadata": {
    "hidden": true
   },
   "source": [
    "Some methods are part of the class itself, some are part of the objects that are created from that class and some are neither:\n",
    "\n",
    "- If there is no preceding decorator, it is an instance method, and its first argument should be self to refer to the individual object itself.\n",
    "\n",
    "- If there is a preceding @classmethod decorator, it is a class method, and its first argument should be cls, referring to the class itself.\n",
    "\n",
    "- If there is a preceding @staticmethod decorator, it is a static method, and its first argument is neither an object or a class."
   ]
  },
  {
   "cell_type": "markdown",
   "metadata": {
    "heading_collapsed": true,
    "hidden": true
   },
   "source": [
    "#### Instance methods"
   ]
  },
  {
   "cell_type": "markdown",
   "metadata": {
    "hidden": true
   },
   "source": [
    "When you see an initial self argument in methods within a class definition, it is an instance method. These are the types of methods that you would normally write when creating your own classes. The first parameter of an instance method is self, and Python passes the object to the method when you call it. These are the ones defined thus far."
   ]
  },
  {
   "cell_type": "markdown",
   "metadata": {
    "heading_collapsed": true,
    "hidden": true
   },
   "source": [
    "#### Class methods"
   ]
  },
  {
   "cell_type": "markdown",
   "metadata": {
    "hidden": true
   },
   "source": [
    "A class method affects the class as a whole. Any change to the class affects all of its objects. We decorate a class method with @classmethod and the first parameter to the method is the class itself. Here we shall define a class method to count how many object instance have been made from a class:"
   ]
  },
  {
   "cell_type": "code",
   "execution_count": 59,
   "metadata": {
    "hidden": true
   },
   "outputs": [],
   "source": [
    "# Defining a class method\n",
    "\n",
    "class Person():\n",
    "    count = 0\n",
    "    def __init__(self, name, age):\n",
    "        self.name = name\n",
    "        self.age = age\n",
    "        Person.count += 1\n",
    "    \n",
    "    @classmethod\n",
    "    def counter(cls):\n",
    "        print(\"There are\", cls.count, \"people\")"
   ]
  },
  {
   "cell_type": "code",
   "execution_count": 60,
   "metadata": {
    "hidden": true
   },
   "outputs": [
    {
     "name": "stdout",
     "output_type": "stream",
     "text": [
      "There are 3 people\n"
     ]
    }
   ],
   "source": [
    "# Using the class method\n",
    "\n",
    "person_a = Person(\"Bob\", 24)\n",
    "person_b = Person(\"Alan\", 27)\n",
    "person_c = Person(\"George\", 21)\n",
    "Person.counter()"
   ]
  },
  {
   "cell_type": "markdown",
   "metadata": {
    "heading_collapsed": true,
    "hidden": true
   },
   "source": [
    "#### Static methods"
   ]
  },
  {
   "cell_type": "markdown",
   "metadata": {
    "hidden": true
   },
   "source": [
    "A static method affects neither the class nor its objects; it is there for convenience rather than floating by itself. It is preceded by a @staticmethod decorator with no initial self or cls parameter. Below is an example static method:"
   ]
  },
  {
   "cell_type": "code",
   "execution_count": 61,
   "metadata": {
    "hidden": true
   },
   "outputs": [],
   "source": [
    "# Defining a static method\n",
    "\n",
    "class Person():\n",
    "    def __init__(self, name, age):\n",
    "        self.name = name\n",
    "        self.age = age\n",
    "    \n",
    "    @staticmethod\n",
    "    def exclaim():\n",
    "        print(\"I am human!\")"
   ]
  },
  {
   "cell_type": "code",
   "execution_count": 62,
   "metadata": {
    "hidden": true
   },
   "outputs": [
    {
     "name": "stdout",
     "output_type": "stream",
     "text": [
      "I am human!\n"
     ]
    }
   ],
   "source": [
    "# Using the static method\n",
    "\n",
    "Person.exclaim()"
   ]
  },
  {
   "cell_type": "markdown",
   "metadata": {
    "hidden": true
   },
   "source": [
    "---"
   ]
  },
  {
   "cell_type": "markdown",
   "metadata": {
    "heading_collapsed": true
   },
   "source": [
    "### Magic methods"
   ]
  },
  {
   "cell_type": "markdown",
   "metadata": {
    "hidden": true
   },
   "source": [
    "We can automatically create certain operators by using Python's special methods (or, alternatively named magic methods). The names of these methods begin and end with double underscores as they are unlikely to have been chosen by programmers as variable names. Suppose we wanted to create and equals() method that compares two words but ignores the case. We can use the __eq__() method we can compare two different objects:"
   ]
  },
  {
   "cell_type": "code",
   "execution_count": 64,
   "metadata": {
    "hidden": true
   },
   "outputs": [],
   "source": [
    "# Defining the __eq__() magic method\n",
    "\n",
    "class Word():\n",
    "    def __init__(self, text):\n",
    "        self.text = text\n",
    "        \n",
    "    def __eq__(self, word2):\n",
    "        return self.text.lower() == word2.text.lower()"
   ]
  },
  {
   "cell_type": "code",
   "execution_count": 65,
   "metadata": {
    "hidden": true
   },
   "outputs": [],
   "source": [
    "# Creating three words\n",
    "\n",
    "first_word = Word('Hello')\n",
    "second_word = Word('hello')\n",
    "third_word = Word('Hi')"
   ]
  },
  {
   "cell_type": "code",
   "execution_count": 68,
   "metadata": {
    "hidden": true
   },
   "outputs": [
    {
     "data": {
      "text/plain": [
       "(True, False, False)"
      ]
     },
     "execution_count": 68,
     "metadata": {},
     "output_type": "execute_result"
    }
   ],
   "source": [
    "# Comparing the three words\n",
    "\n",
    "first_word == second_word, second_word == third_word, first_word == third_word"
   ]
  },
  {
   "cell_type": "markdown",
   "metadata": {
    "hidden": true
   },
   "source": [
    "Below are tables listing the most useful magic methods:\n",
    "\n",
    "    ---------------------------------------------\n",
    "    | Method                    | Description   |\n",
    "    ---------------------------------------------\n",
    "    | __eq__(self, other)       | self == other |\n",
    "    | __ne__(self, other)       | self != other |\n",
    "    | __lt__(self, other)       | self < other  |\n",
    "    | __gt__(self, other)       | self > other  |\n",
    "    | __le__(self, other)       | self <= other |\n",
    "    | __ge__(self, other)       | self >= other |\n",
    "    | __add__(self, other)      | self + other  |\n",
    "    | __sub__(self, other)      | self - other  |\n",
    "    | __mul__(self, other)      | self * other  |\n",
    "    | __floordiv__(self, other) | self // other |\n",
    "    | __truediv__(self, other)  | self / other  |\n",
    "    | __mod__(self, other)      | self % other  |\n",
    "    | __pow__(self, other)      | self ** other |\n",
    "    | __str__(self)             | str(self)     |\n",
    "    | __repr__(self)            | repr(self     |\n",
    "    | __len__(self)             | len(self)     |\n",
    "    ---------------------------------------------\n",
    "    "
   ]
  },
  {
   "cell_type": "markdown",
   "metadata": {
    "hidden": true
   },
   "source": [
    "Besides __init__(), you may find yourself using __str__() the most in your own methods. It is how you print your object."
   ]
  },
  {
   "cell_type": "markdown",
   "metadata": {
    "hidden": true
   },
   "source": [
    "---"
   ]
  },
  {
   "cell_type": "markdown",
   "metadata": {
    "heading_collapsed": true
   },
   "source": [
    "### Aggregation and composition"
   ]
  },
  {
   "cell_type": "markdown",
   "metadata": {
    "hidden": true
   },
   "source": [
    "Inheritance is a good technique to use when you want a child class to act like its parent class most of the time. It is tempting to build elaborate inheritance hierarchies, but sometimes composition or aggregation make more sense. In composition, one thing is part of another. Aggregation expresses relationships, but is a little looser: one thing uses another, but both exist independently. For example, composition: a duck is a bird (inheritance), but has a tail (composition) and aggregation: a duck uses a lake, but one is not part of the other."
   ]
  },
  {
   "cell_type": "markdown",
   "metadata": {
    "hidden": true
   },
   "source": [
    "Below are some guidelines for deciding whether to put your code and data in a class, module or something different:\n",
    "\n",
    "- Objects are most useful when you need a number of individual instances that have similar behaviour (methods), but differ in their internal states (attributes).\n",
    "\n",
    "- Classes support inheritance, modules do not.\n",
    "\n",
    "- If you want one of something, a module might be best. No matter how many times a Python module is referenced in a program, only one copy is loaded.\n",
    "\n",
    "- If you have a number of variables that contain multiple values and can be passed as arguments to multiple functions, it might be better to define them as classes.\n",
    "\n",
    "- Use the simplest solution to the problem. A dictionary, list or tuple is simpler, smaller and faster than a module, which is usually simpler than a class.\n",
    "\n",
    "- Avoid overengineering datastructures. Tuples are better than objects (try named tuples). Prefer simple fields over getter/setter functions. Use more numbers, strings, tuples, lists, sets, dictionaries.\n",
    "\n",
    "- A newer alternative is the dataclass."
   ]
  },
  {
   "cell_type": "markdown",
   "metadata": {
    "hidden": true
   },
   "source": [
    "---"
   ]
  },
  {
   "cell_type": "markdown",
   "metadata": {
    "heading_collapsed": true
   },
   "source": [
    "### Named tuples"
   ]
  },
  {
   "cell_type": "markdown",
   "metadata": {
    "hidden": true
   },
   "source": [
    "A named tuple is a subclass of tuples with which you can access values by name (with .name) as well as by position (with [offset]). We shall show an example that could replace the Person() class:"
   ]
  },
  {
   "cell_type": "code",
   "execution_count": 69,
   "metadata": {
    "hidden": true
   },
   "outputs": [],
   "source": [
    "from collections import namedtuple\n",
    "\n",
    "Person = namedtuple('Person', 'name age')"
   ]
  },
  {
   "cell_type": "code",
   "execution_count": 71,
   "metadata": {
    "hidden": true
   },
   "outputs": [
    {
     "data": {
      "text/plain": [
       "('Bradley', 24)"
      ]
     },
     "execution_count": 71,
     "metadata": {},
     "output_type": "execute_result"
    }
   ],
   "source": [
    "# Example named tuple\n",
    "\n",
    "bradley = Person('Bradley', 24)\n",
    "bradley.name, bradley.age"
   ]
  },
  {
   "cell_type": "markdown",
   "metadata": {
    "hidden": true
   },
   "source": [
    "You can also make a named tuple from a dictionary:"
   ]
  },
  {
   "cell_type": "code",
   "execution_count": 72,
   "metadata": {
    "hidden": true
   },
   "outputs": [
    {
     "data": {
      "text/plain": [
       "('Bradley', 24)"
      ]
     },
     "execution_count": 72,
     "metadata": {},
     "output_type": "execute_result"
    }
   ],
   "source": [
    "# Named tuple from a dictionary\n",
    "\n",
    "details = {'name': 'Bradley', 'age': 24}\n",
    "bradley = Person(**details)\n",
    "bradley.name, bradley.age"
   ]
  },
  {
   "cell_type": "markdown",
   "metadata": {
    "hidden": true
   },
   "source": [
    "Whereas you can add fields to a dictionary, you can not to a named tuple. Below is a list of the advantages of a named tuple:\n",
    "\n",
    "- It looks and acts like an immutable object.\n",
    "\n",
    "- It is more space and time efficient than objects.\n",
    "\n",
    "- You can access attributes by using dot notation instead of dictionary style square brackets.\n",
    "\n",
    "- You can use it as a dictionary key."
   ]
  },
  {
   "cell_type": "markdown",
   "metadata": {
    "hidden": true
   },
   "source": [
    "---"
   ]
  },
  {
   "cell_type": "markdown",
   "metadata": {
    "heading_collapsed": true
   },
   "source": [
    "### Dataclasses"
   ]
  },
  {
   "cell_type": "markdown",
   "metadata": {
    "hidden": true
   },
   "source": [
    "Often we like to create objects mainly to store data (as object attributes), rather than predominantly for methods. Python 3.7 introduced dataclasses for this purpose. We can redefine our Person() class using a dataclass as follows:"
   ]
  },
  {
   "cell_type": "code",
   "execution_count": 73,
   "metadata": {
    "hidden": true
   },
   "outputs": [],
   "source": [
    "# An example of a dataclass\n",
    "\n",
    "from dataclasses import dataclass\n",
    "\n",
    "@dataclass\n",
    "class Person:\n",
    "    name: str"
   ]
  },
  {
   "cell_type": "code",
   "execution_count": 74,
   "metadata": {
    "hidden": true
   },
   "outputs": [],
   "source": [
    "# Generating a dataclass object\n",
    "\n",
    "bradley = Person('Bradley')"
   ]
  },
  {
   "cell_type": "markdown",
   "metadata": {
    "hidden": true
   },
   "source": [
    "Besides needing a @dataclass decorator, you define the class' attributes using variable annotations of the form name: type or name: type = val. The type can be any Python object type, including classes you have created."
   ]
  }
 ],
 "metadata": {
  "kernelspec": {
   "display_name": "Python 3",
   "language": "python",
   "name": "python3"
  },
  "language_info": {
   "codemirror_mode": {
    "name": "ipython",
    "version": 3
   },
   "file_extension": ".py",
   "mimetype": "text/x-python",
   "name": "python",
   "nbconvert_exporter": "python",
   "pygments_lexer": "ipython3",
   "version": "3.8.3"
  },
  "toc": {
   "base_numbering": 1,
   "nav_menu": {},
   "number_sections": false,
   "sideBar": true,
   "skip_h1_title": false,
   "title_cell": "Table of Contents",
   "title_sidebar": "Contents",
   "toc_cell": false,
   "toc_position": {},
   "toc_section_display": true,
   "toc_window_display": true
  }
 },
 "nbformat": 4,
 "nbformat_minor": 4
}
