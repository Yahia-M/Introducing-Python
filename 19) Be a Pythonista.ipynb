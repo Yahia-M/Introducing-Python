{
 "cells": [
  {
   "cell_type": "markdown",
   "metadata": {},
   "source": [
    "# 19) Be a Pythonista <a class=\"tocSkip\">"
   ]
  },
  {
   "cell_type": "markdown",
   "metadata": {},
   "source": [
    "### Install packages"
   ]
  },
  {
   "cell_type": "markdown",
   "metadata": {},
   "source": [
    "When you need to develop some code, the fastest solution is to use the ideas from other code sources. The first place to look is the standard Python library and the Python Package Index (PyPI). PyPI is constantly updated with Python packages with currently more than 113,000. When you use pip, it searches PyPI. Another popular repository is GitHub and Popular Python recipes has more than four thousand short Python programs."
   ]
  },
  {
   "cell_type": "markdown",
   "metadata": {},
   "source": [
    "There are many ways to install Python packages:\n",
    "\n",
    "- Use pip if you can. It is the most common method and you can install most of the Python packages you are likely to encounter using pip.\n",
    "\n",
    "- Use pipenv, which combines pip and virtualenv.\n",
    "\n",
    "- Use conda if you do a lot of scientific work and want to use the Anaconda distribution of Python.\n",
    "\n",
    "- Install from source."
   ]
  },
  {
   "cell_type": "markdown",
   "metadata": {},
   "source": [
    "The simplest use of pip is to install the latest version of a single package by using the following command:\n",
    "\n",
    "    pip install flask\n",
    "    \n",
    "You can also ask pip to install a specific version or a minimum version:\n",
    "\n",
    "    pip install flask==0.9.0\n",
    "    pip install 'flask>=0.9.0'\n",
    "    \n",
    "If you want to install more than one Python package, you can use a requirements file. Although it has many options, the simplest use is a list of packages, one per line, optionally with a specific or relative version. Your sample requirements.txt file might contain:\n",
    "\n",
    "    flask==0.9.0\n",
    "    django\n",
    "    psycopg2\n",
    "    \n",
    "You can then use:\n",
    "\n",
    "    pip -r requirements.txt\n",
    "    \n",
    "We can also install the latest version of a package and delete a package using:\n",
    "    \n",
    "    pip install --upgrade package\n",
    "    pip uninstall package"
   ]
  },
  {
   "cell_type": "markdown",
   "metadata": {},
   "source": [
    "#### Using virtualenv"
   ]
  },
  {
   "cell_type": "markdown",
   "metadata": {},
   "source": [
    "The standard way of installing third-party Python packages is to use pip and virtualenv. A virtual environment is just a directory that contains the Python interpreter, some other programs like pip, and some packages. You activate it by running the shell script activate that it is in the bin directory of that virtual environment. This sets the environment variable PATH that your shell uses to find programs. By activating a virtual environment, you put its bin directory ahead of the usual directories in your PATH. The result is that when you type a command like pip or python, your shell first finds the one in your virtual environment, instead of system directories like /bin, /usr/bin, or /usr/local/bin."
   ]
  },
  {
   "cell_type": "markdown",
   "metadata": {},
   "source": [
    "#### Installing from source"
   ]
  },
  {
   "cell_type": "markdown",
   "metadata": {},
   "source": [
    "Occasionally, a Python package is new, or the author has not managed to make it available with pip. To build the package, you generally do the following:\n",
    "\n",
    "- Download the code\n",
    "- Extract the files by using zip, tar or another appropriate tool if they are archived or compressed.\n",
    "- Run \"python setup.py install\" in the directory containing a setup.py file."
   ]
  },
  {
   "cell_type": "markdown",
   "metadata": {},
   "source": [
    "### Test"
   ]
  },
  {
   "cell_type": "markdown",
   "metadata": {},
   "source": [
    "Python lacks the type-checking of static languages, which makes some things easier but also lets undesirable results through the door, as a result, testing is essential. Before creating actual test programs, we should run a Python code checker. The most popular are pylint and pyflakes. These check for actual code errors and style faux pas. Below is an example of a poorly written Python script:"
   ]
  },
  {
   "cell_type": "code",
   "execution_count": 4,
   "metadata": {},
   "outputs": [
    {
     "name": "stdout",
     "output_type": "stream",
     "text": [
      "Writing bad_script.py\n"
     ]
    }
   ],
   "source": [
    "%%writefile bad_script.py\n",
    "\n",
    "# Poor Python code\n",
    "\n",
    "a = 1\n",
    "b = 2\n",
    "print(a)\n",
    "print(b)\n",
    "print(c)"
   ]
  },
  {
   "cell_type": "code",
   "execution_count": 7,
   "metadata": {},
   "outputs": [
    {
     "name": "stdout",
     "output_type": "stream",
     "text": [
      "************* Module bad_script\n",
      "bad_script.py:1:0: C0114: Missing module docstring (missing-module-docstring)\n",
      "bad_script.py:4:0: C0103: Constant name \"a\" doesn't conform to UPPER_CASE naming style (invalid-name)\n",
      "bad_script.py:5:0: C0103: Constant name \"b\" doesn't conform to UPPER_CASE naming style (invalid-name)\n",
      "bad_script.py:8:6: E0602: Undefined variable 'c' (undefined-variable)\n",
      "\n",
      "--------------------------------------------------------------------\n",
      "\n",
      "Your code has been rated at -6.00/10 (previous run: -6.00/10, +0.00)\n",
      "\n",
      "\n",
      "\n"
     ]
    }
   ],
   "source": [
    "# Pylint report of the above script\n",
    "\n",
    "!pylint bad_script.py"
   ]
  },
  {
   "cell_type": "markdown",
   "metadata": {},
   "source": [
    "If we fix the error and rewrite then we will improve our pylint score:"
   ]
  },
  {
   "cell_type": "code",
   "execution_count": 28,
   "metadata": {},
   "outputs": [
    {
     "name": "stdout",
     "output_type": "stream",
     "text": [
      "Overwriting good_script.py\n"
     ]
    }
   ],
   "source": [
    "%%writefile good_script.py\n",
    "\n",
    "# Better Python code\n",
    "\n",
    "def func():\n",
    "    \"\"\" Function that prints three numbers. \"\"\"\n",
    "    first = 1\n",
    "    second = 2\n",
    "    third = 3\n",
    "    print(first)\n",
    "    print(second)\n",
    "    print(third)"
   ]
  },
  {
   "cell_type": "code",
   "execution_count": 29,
   "metadata": {},
   "outputs": [
    {
     "name": "stdout",
     "output_type": "stream",
     "text": [
      "************* Module good_script\n",
      "good_script.py:1:0: C0114: Missing module docstring (missing-module-docstring)\n",
      "\n",
      "------------------------------------------------------------------\n",
      "\n",
      "Your code has been rated at 8.57/10 (previous run: 8.57/10, +0.00)\n",
      "\n",
      "\n",
      "\n"
     ]
    }
   ],
   "source": [
    "# Pylint report of the above script\n",
    "\n",
    "!pylint good_script.py"
   ]
  },
  {
   "cell_type": "markdown",
   "metadata": {},
   "source": [
    "It is a good practice to write independent test programs first, to ensure that they all pass before you commit your code to any source control system. Writing test help you find problems faster- especially regressions (breaking something that used to work). The standard library contains two test packages: unittest and doctest. We shall write a module that capitalizes words and use unittest:"
   ]
  },
  {
   "cell_type": "markdown",
   "metadata": {},
   "source": [
    "#### Unittest"
   ]
  },
  {
   "cell_type": "markdown",
   "metadata": {},
   "source": [
    "We start by writing our capitalizing function:"
   ]
  },
  {
   "cell_type": "code",
   "execution_count": 44,
   "metadata": {},
   "outputs": [
    {
     "name": "stdout",
     "output_type": "stream",
     "text": [
      "Overwriting cap.py\n"
     ]
    }
   ],
   "source": [
    "%%writefile cap.py\n",
    "\n",
    "def just_do_it(text):\n",
    "    return text.capitalize()"
   ]
  },
  {
   "cell_type": "markdown",
   "metadata": {},
   "source": [
    "The basis of testing is to decide what outcome you want from a certain input (here, you want the capitalized version of whatever text you input), submit the input to the function you are testing and then check whether it returned the expected results. The expected result is called an assertion, so in unittest you check your results by using methods with names that begin with assert. We shall now write our testing:"
   ]
  },
  {
   "cell_type": "code",
   "execution_count": 45,
   "metadata": {},
   "outputs": [
    {
     "name": "stdout",
     "output_type": "stream",
     "text": [
      "Overwriting test_cap.py\n"
     ]
    }
   ],
   "source": [
    "%%writefile test_cap.py\n",
    "\n",
    "import unittest\n",
    "import cap\n",
    "\n",
    "class TestCap(unittest.TestCase):\n",
    "    \n",
    "    def setUp(self):\n",
    "        pass\n",
    "    \n",
    "    def tearDown(self):\n",
    "        pass\n",
    "    \n",
    "    def test_one_word(self):\n",
    "        text = 'duck'\n",
    "        result = cap.just_do_it(text)\n",
    "        self.assertEqual(result, 'Duck')\n",
    "        \n",
    "    def test_multiple_words(self):\n",
    "        text = 'a flock of ducks'\n",
    "        result = cap.just_do_it(text)\n",
    "        self.assertEqual(result, 'A Flock Of Ducks')\n",
    "\n",
    "if __name__ == '__main__':\n",
    "    unittest.main()"
   ]
  },
  {
   "cell_type": "code",
   "execution_count": 46,
   "metadata": {},
   "outputs": [
    {
     "name": "stderr",
     "output_type": "stream",
     "text": [
      "F.\n",
      "======================================================================\n",
      "FAIL: test_multiple_words (__main__.TestCap)\n",
      "----------------------------------------------------------------------\n",
      "Traceback (most recent call last):\n",
      "  File \"test_cap.py\", line 21, in test_multiple_words\n",
      "    self.assertEqual(result, 'A Flock Of Ducks')\n",
      "AssertionError: 'A flock of ducks' != 'A Flock Of Ducks'\n",
      "- A flock of ducks\n",
      "?   ^     ^  ^\n",
      "+ A Flock Of Ducks\n",
      "?   ^     ^  ^\n",
      "\n",
      "\n",
      "----------------------------------------------------------------------\n",
      "Ran 2 tests in 0.000s\n",
      "\n",
      "FAILED (failures=1)\n"
     ]
    }
   ],
   "source": [
    "!python test_cap.py"
   ]
  },
  {
   "cell_type": "markdown",
   "metadata": {},
   "source": [
    "It liked the first test (test_one_word), but not the second (test_multiple_words). The up arrows (^) show where the strings actually differed. Reading the documentation for the string capitalize function we see that it capitalizes only the first letter of the first word. If we added a title() function instead, then it would have worked. unittest provides a small but powerful set of assertions, letting you check values, confirm whether you have the class you want, determine whether an error was raised and so on."
   ]
  },
  {
   "cell_type": "markdown",
   "metadata": {},
   "source": [
    "#### Doctest"
   ]
  },
  {
   "cell_type": "markdown",
   "metadata": {},
   "source": [
    "The second test package in the standard library is doctest. With this package, you can write tests within the docstring itself, also serving as documentation. It looks like the interactive interpreter: the characters >>>, followed by the call, and then the results on the following line. Below is the same example as above using doctest:"
   ]
  },
  {
   "cell_type": "code",
   "execution_count": 6,
   "metadata": {},
   "outputs": [
    {
     "name": "stdout",
     "output_type": "stream",
     "text": [
      "Overwriting cap2.py\n"
     ]
    }
   ],
   "source": [
    "%%writefile cap2.py\n",
    "\n",
    "def just_do_it(text):\n",
    "    \"\"\"\n",
    "    >>> just_do_it('a flock of ducks')\n",
    "    'A Flock Of Ducks'\n",
    "    \"\"\"\n",
    "    return text.capitalize()\n",
    "\n",
    "if __name__ == '__main__':\n",
    "    import doctest\n",
    "    doctest.testmod()"
   ]
  },
  {
   "cell_type": "code",
   "execution_count": 7,
   "metadata": {},
   "outputs": [
    {
     "name": "stdout",
     "output_type": "stream",
     "text": [
      "**********************************************************************\n",
      "File \"cap2.py\", line 4, in __main__.just_do_it\n",
      "Failed example:\n",
      "    just_do_it('a flock of ducks')\n",
      "Expected:\n",
      "    'A Flock Of Ducks'\n",
      "Got:\n",
      "    'A flock of ducks'\n",
      "**********************************************************************\n",
      "1 items had failures:\n",
      "   1 of   1 in __main__.just_do_it\n",
      "***Test Failed*** 1 failures.\n"
     ]
    }
   ],
   "source": [
    "!python cap2.py"
   ]
  },
  {
   "cell_type": "markdown",
   "metadata": {},
   "source": [
    "We see the same result as above, but without having to write a separate class for the test. If there were no issues then there would be no output."
   ]
  },
  {
   "cell_type": "markdown",
   "metadata": {},
   "source": [
    "#### Continuous integration"
   ]
  },
  {
   "cell_type": "markdown",
   "metadata": {},
   "source": [
    "When a group produces a lot of code daily, it helps to automate test as soon as changes arrive. You can automate source control systems to run test on all code as it is checked in. Below are large systems capable of performing this automation:\n",
    "\n",
    "- buildbot - Written in Python, this source control system automates building, testing and releasing.\n",
    "- jenkins - This is written in Java and seems to be the preferred CI tool of the moment.\n",
    "- travis-ci - This automates projects hosted at GitHub and is free for open source projects.\n",
    "- circleci - This one is commercial but free for open source and private projects."
   ]
  },
  {
   "cell_type": "markdown",
   "metadata": {},
   "source": [
    "### Debug Python code"
   ]
  },
  {
   "cell_type": "markdown",
   "metadata": {},
   "source": [
    "Test first. The better your test are, the less you will have to fix later. When code breaks, it is usually because of something you just did. So you typically debug \"from the bottom up\", starting with your most recent changes. But sometimes the cause is elsewhere, in something that you trusted and thought worked. You would think that if there were problems in something that many people use, someone would have noticed by now. That is not always what happens. So after fixing recent changes, question your assumptions. This is a \"top-down\" approach and it takes longer."
   ]
  },
  {
   "cell_type": "markdown",
   "metadata": {},
   "source": [
    "The simplest way to debug in Python is to print out strings. Some useful things to print include vars(), which extracts the values of your local variables, including function arguments. We could also use decorators. A decorator can call code before or after a function without modifying the code within the function itself. This means that you can use a decorator to do something before or after any Python function, not just ones that you wrote."
   ]
  },
  {
   "cell_type": "markdown",
   "metadata": {},
   "source": [
    "### Log error messages"
   ]
  },
  {
   "cell_type": "markdown",
   "metadata": {},
   "source": [
    "At some point it may be necessary to move from print statements to logging messages. A log is usually a system file that accumulates messages, often inserting useful information such as a timestamp or the name of the user who is running the program. When something goes wrong with your program, you can look at the appropriate log file to see what happened. The contents of exceptions are especially useful in logs because they show you the actual line at which your program broke, and why."
   ]
  },
  {
   "cell_type": "markdown",
   "metadata": {},
   "source": [
    "The standard Python library module is logging. The logging module includes these concepts:\n",
    "\n",
    "- The message that you want to save to the log.\n",
    "- ranked priority levels and matching functions: debug(), info(), warn(), error() and critical().\n",
    "- One or more logger objects as the main connection with the module.\n",
    "- Handlers that direct the message to your terminal, a file, a database or somewhere else.\n",
    "- Formatters that create the output.\n",
    "- Filters that makes decisions based on the input."
   ]
  },
  {
   "cell_type": "markdown",
   "metadata": {},
   "source": [
    "Here are some of its functions:"
   ]
  },
  {
   "cell_type": "code",
   "execution_count": 1,
   "metadata": {},
   "outputs": [],
   "source": [
    "import logging"
   ]
  },
  {
   "cell_type": "code",
   "execution_count": 11,
   "metadata": {},
   "outputs": [
    {
     "name": "stderr",
     "output_type": "stream",
     "text": [
      "C:\\Users\\bradl\\AppData\\Local\\Temp/ipykernel_15200/2815933121.py:5: DeprecationWarning: The 'warn' function is deprecated, use 'warning' instead\n",
      "  logging.warn('Warning')\n",
      "WARNING:root:Warning\n",
      "ERROR:root:Error\n",
      "CRITICAL:root:Critical\n"
     ]
    }
   ],
   "source": [
    "# Examples of logging functions\n",
    "\n",
    "logging.debug('Debuging')\n",
    "logging.info('Info')\n",
    "logging.warn('Warning')\n",
    "logging.error('Error')\n",
    "logging.critical('Critical')"
   ]
  },
  {
   "cell_type": "markdown",
   "metadata": {},
   "source": [
    "Notice that debug() and info() did not do anything, and the other two printed LEVEL:root: before each message. You can scan for a particular value of LEVEL in a log file to find particular messages, compare timestamps and so on. The default priority level is WARNING, and that got locked in as soon as we called the first function debug(). Debug is the lowest level, so this enables it and all the higher levels to flow through. We can set the default level by using basicConfig(). We use handlers to direct the messages to different places. The most common is a log file:"
   ]
  },
  {
   "cell_type": "code",
   "execution_count": 8,
   "metadata": {},
   "outputs": [
    {
     "name": "stderr",
     "output_type": "stream",
     "text": [
      "C:\\Users\\bradl\\AppData\\Local\\Temp/ipykernel_15200/3682141157.py:4: DeprecationWarning: The 'warn' method is deprecated, use 'warning' instead\n",
      "  logger.warn('This is a warning.')\n",
      "WARNING:logger_name:This is a warning.\n"
     ]
    }
   ],
   "source": [
    "# Creating a log file\n",
    "\n",
    "logging.basicConfig(level = 'DEBUG', filename = 'logfile.log')\n",
    "logger = logging.getLogger('logger_name')\n",
    "logger.debug('There is a bug.')\n",
    "logger.warn('This is a warning.')"
   ]
  },
  {
   "cell_type": "markdown",
   "metadata": {},
   "source": [
    "The logging module includes at least 15 handlers to send messages to places such as email and web servers as well as the screen and files. You can control the format of your logged messages. If you provide a format string to basicConfig(), you can change to the format of your preference:"
   ]
  },
  {
   "cell_type": "code",
   "execution_count": 14,
   "metadata": {},
   "outputs": [
    {
     "name": "stderr",
     "output_type": "stream",
     "text": [
      "ERROR:logger_name:This is an error.\n"
     ]
    }
   ],
   "source": [
    "# Formatting the logger\n",
    "\n",
    "fmt = \"%(asctime)s %(levelname)s %(lineno)s %(message)s\"\n",
    "logging.basicConfig(level = 'DEBUG', format = fmt)\n",
    "logger = logging.getLogger('logger_name')\n",
    "logger.error('This is an error.')"
   ]
  },
  {
   "cell_type": "markdown",
   "metadata": {},
   "source": [
    "### Optimize"
   ]
  },
  {
   "cell_type": "markdown",
   "metadata": {},
   "source": [
    "In many cases, you can gain speed by using a better algorithm or data structure, the trick is knowing where to do this. This leads us to timers. A quick way of timing something is to get the current time, do something, get the new time, and then subtract the original time from the new time. There is a handier way to measure code snippets: using the standard module timeit. It has a function called timeit(), which will do count runs of your test code and print some results. The syntax is: timeit.timeit(code, number=count). Using timeit() means wrapping the code you are trying to measure in a string. If you have multiple lines of code, you could pass it to a triple-quoted multiline string, but that might be hard to read. Instead we could use a decorator to wrap around a function:"
   ]
  },
  {
   "cell_type": "code",
   "execution_count": 15,
   "metadata": {},
   "outputs": [],
   "source": [
    "import time"
   ]
  },
  {
   "cell_type": "code",
   "execution_count": 25,
   "metadata": {},
   "outputs": [],
   "source": [
    "# Decorator function to time a function\n",
    "\n",
    "def time_decorator(func):\n",
    "    def inner(*args, **kwargs):\n",
    "        t1 = time.time()\n",
    "        result = func(*args, **kwargs)\n",
    "        t2 = time.time()\n",
    "        print(\"Time for function to run: {:.4f}\".format(t2-t1))\n",
    "        return result\n",
    "    return inner\n",
    "\n",
    "@time_decorator\n",
    "def snooze():\n",
    "    time.sleep(1)"
   ]
  },
  {
   "cell_type": "code",
   "execution_count": 26,
   "metadata": {},
   "outputs": [
    {
     "name": "stdout",
     "output_type": "stream",
     "text": [
      "Time for function to run: 1.0121\n"
     ]
    }
   ],
   "source": [
    "# Run our sleeper function\n",
    "snooze()"
   ]
  },
  {
   "cell_type": "markdown",
   "metadata": {},
   "source": [
    "If you are pushing Python as hard as you can and still cannot get the performance you want, there are options. \n",
    "    \n",
    "    Cython\n",
    "\n",
    "Cython is a hybrid of Python and C, designed to translate Python with some performance annotations to compiled C code. These annotations are fairly small, like declaring the types of some variables. For scientific-style loops of numeric calculations, adding these hints will make them much faster. Many parts of Python and its standard library are written in C for speed and wrapped in Python for convenience. If you know C and Python and really want to make code fast, writing a C extension is had, but the improvements can be worth the trouble. The standard Python implementation is written in C, and often called CPython (not to be confused with Cython). \n",
    "\n",
    "    PyPy\n",
    "\n",
    "Like PHP, Perl and Java, Python is not compiled to machine language, but translated to an intermediate language which is then interpreted in a virtual machine. PyPy is a new Python interpreter that applies some of the tricks that sped up Java. Its benchmarks show that PyPy is faster that CPython in every test - more than six times faster on average. You can download it and use it instead of CPython. PyPy is constantly being improved, and it might even replace CPython some day.\n",
    "\n",
    "    Numba\n",
    "    \n",
    "You can use Numba to compile your Python code on the fly to machine code and speed it up. By using the @jit decorator, you can speed up calls after the first time a function is called. Numba is especially useful with NumPy and other mathematically demanding packages."
   ]
  },
  {
   "cell_type": "markdown",
   "metadata": {},
   "source": [
    "### Source control"
   ]
  },
  {
   "cell_type": "markdown",
   "metadata": {},
   "source": [
    "When you are working on a small group of programs, you can usually keep track of your changes. If you work with a group of developers, source control becomes a necessity. There are many commercial and open source packages in this area. The most popular in the open source world where Python lives are MErcurial and Git. Both are examples of distributed version control systems, which produce multiple copies of code repositories."
   ]
  },
  {
   "cell_type": "markdown",
   "metadata": {},
   "source": [
    "#### Git"
   ]
  },
  {
   "cell_type": "markdown",
   "metadata": {},
   "source": [
    "Git was originally written for Linux kernel development, but now dominates open source in general. GitHub is the largest git host, with more than a million repositories, but there are many other hosts. Here we shall go through some of the main commands:"
   ]
  },
  {
   "cell_type": "raw",
   "metadata": {},
   "source": [
    "Make a new directory\n",
    "$ mkdir newdir\n",
    "$ cd newdir"
   ]
  },
  {
   "cell_type": "raw",
   "metadata": {},
   "source": [
    "Create a local Git repository in your current directory newdir\n",
    "$ git init"
   ]
  },
  {
   "cell_type": "markdown",
   "metadata": {},
   "source": [
    "Assuming we have created some file called test.py, which is within newdir:"
   ]
  },
  {
   "cell_type": "raw",
   "metadata": {},
   "source": [
    "Add the file to the Git repository\n",
    "$ git add test.py"
   ]
  },
  {
   "cell_type": "raw",
   "metadata": {},
   "source": [
    "View the current status of the repository\n",
    "$ git status"
   ]
  },
  {
   "cell_type": "markdown",
   "metadata": {},
   "source": [
    "We would likely find a file saying that there are \"changes to be committed\". This means that test.py is part of the local repository but its changes have not yet been committed:"
   ]
  },
  {
   "cell_type": "raw",
   "metadata": {},
   "source": [
    "Commit changes with a message\n",
    "$ git commit -m \"Simple program\""
   ]
  },
  {
   "cell_type": "raw",
   "metadata": {},
   "source": [
    "See what lines have changed since the last commit\n",
    "$ git diff"
   ]
  },
  {
   "cell_type": "markdown",
   "metadata": {},
   "source": [
    "To add all changed files in the current directory we can use git add ."
   ]
  },
  {
   "cell_type": "markdown",
   "metadata": {},
   "source": [
    "To see all the changes that have been made to a file we can use $ git log test.py"
   ]
  }
 ],
 "metadata": {
  "kernelspec": {
   "display_name": "Python 3 (ipykernel)",
   "language": "python",
   "name": "python3"
  },
  "language_info": {
   "codemirror_mode": {
    "name": "ipython",
    "version": 3
   },
   "file_extension": ".py",
   "mimetype": "text/x-python",
   "name": "python",
   "nbconvert_exporter": "python",
   "pygments_lexer": "ipython3",
   "version": "3.8.12"
  },
  "toc": {
   "base_numbering": 1,
   "nav_menu": {},
   "number_sections": false,
   "sideBar": true,
   "skip_h1_title": false,
   "title_cell": "Table of Contents",
   "title_sidebar": "Contents",
   "toc_cell": false,
   "toc_position": {},
   "toc_section_display": true,
   "toc_window_display": true
  }
 },
 "nbformat": 4,
 "nbformat_minor": 4
}
