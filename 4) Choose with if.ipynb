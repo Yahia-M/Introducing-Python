{
 "cells": [
  {
   "cell_type": "markdown",
   "metadata": {},
   "source": [
    "# 4) Choose with if"
   ]
  },
  {
   "cell_type": "markdown",
   "metadata": {},
   "source": [
    "Many computer languages use characters or keywords to mark sections of code. In these languages it is good practice to use consistent indentation to make your code more readable for yourself and others. Python is unusual in that it uses white space to define program structure. In this notebook we shall look at multiple-line commands."
   ]
  },
  {
   "cell_type": "markdown",
   "metadata": {},
   "source": [
    "---"
   ]
  },
  {
   "cell_type": "markdown",
   "metadata": {},
   "source": [
    "### Compare with if, elif and else"
   ]
  },
  {
   "cell_type": "markdown",
   "metadata": {},
   "source": [
    "Our first example is a Python program that checks the value of a boolean and prints an appropriate comment:"
   ]
  },
  {
   "cell_type": "code",
   "execution_count": 3,
   "metadata": {},
   "outputs": [
    {
     "name": "stdout",
     "output_type": "stream",
     "text": [
      "Disaster!\n"
     ]
    }
   ],
   "source": [
    "# Boolean if statement\n",
    "\n",
    "disaster = True\n",
    "\n",
    "if disaster:\n",
    "    print(\"Disaster!\")\n",
    "else:\n",
    "    print(\"Calm\")"
   ]
  },
  {
   "cell_type": "markdown",
   "metadata": {},
   "source": [
    "In this example we did the following: assigned a boolean value to the variable named disaster; performed a conditional comparison using if and else, executing different code depending on the value of disaster and called the print() function to print some text. If there are more than two possibilities to test, use the if for the first, elif for the middle ones and else for the last:"
   ]
  },
  {
   "cell_type": "code",
   "execution_count": 6,
   "metadata": {},
   "outputs": [
    {
     "name": "stdout",
     "output_type": "stream",
     "text": [
      "The vegetable is yellow\n"
     ]
    }
   ],
   "source": [
    "# If statement with multiple options\n",
    "\n",
    "colour = \"yellow\"\n",
    "\n",
    "if colour == \"red\":\n",
    "    print(\"The vegetable is red\")\n",
    "elif colour == \"green\":\n",
    "    print(\"The vegetable is green\")\n",
    "elif colour == \"yellow\":\n",
    "    print(\"The vegetable is yellow\")\n",
    "else:\n",
    "    print(\"This probably isn't a vegetable\")"
   ]
  },
  {
   "cell_type": "markdown",
   "metadata": {},
   "source": [
    "Here we used == to test for equality. Python's compaison operators are: equality (==), inequality (!=), less than (<), greater than (>), less than or equal (<=) and greater than or equal (>=). If you need to make multiple comparisons at the same time you use the logical operators, $\\textit{and}$, $\\textit{or}$ and $\\textit{not}$. Logical operators have lower precedence than the code that they are comparing. This means that sections of code will be calculated and then compared. Suppose we want to check whether a letter is a vowel. This requires checking against 5 possibilities which would make our if statement long. Instead, we can use the membership operator, in, to check:"
   ]
  },
  {
   "cell_type": "code",
   "execution_count": 7,
   "metadata": {},
   "outputs": [
    {
     "data": {
      "text/plain": [
       "True"
      ]
     },
     "execution_count": 7,
     "metadata": {},
     "output_type": "execute_result"
    }
   ],
   "source": [
    "# Using in for multiple comparisons\n",
    "\n",
    "vowels = 'aeiou'\n",
    "letter = 'o'\n",
    "letter in vowels"
   ]
  },
  {
   "cell_type": "markdown",
   "metadata": {},
   "source": [
    "Note that when using a dictionary, the in operator checks the keys of the dictionary:"
   ]
  },
  {
   "cell_type": "code",
   "execution_count": 10,
   "metadata": {},
   "outputs": [
    {
     "data": {
      "text/plain": [
       "True"
      ]
     },
     "execution_count": 10,
     "metadata": {},
     "output_type": "execute_result"
    }
   ],
   "source": [
    "vowel_dict = {'a':'alpha', 'e': 'echo', 'i': 'india', 'o': 'oscar', 'u': 'uniform'}\n",
    "letter = 'o'\n",
    "letter in vowel_dict"
   ]
  },
  {
   "cell_type": "markdown",
   "metadata": {},
   "source": [
    "As of Python 3.8 we can use the walrus oprator which takes the form name := expression. With this operator we can combine assignment and test tasks into a single line:"
   ]
  },
  {
   "cell_type": "code",
   "execution_count": 15,
   "metadata": {},
   "outputs": [
    {
     "name": "stdout",
     "output_type": "stream",
     "text": [
      "The two temperatures are very different\n"
     ]
    }
   ],
   "source": [
    "temperature_1 = 30\n",
    "temperature_2 = 50\n",
    "\n",
    "if diff := temperature_2 - temperature_1 >= 10:\n",
    "    print(\"The two temperatures are very different\")\n",
    "else:\n",
    "    print(\"The two temperatures are close enough\")"
   ]
  },
  {
   "cell_type": "markdown",
   "metadata": {},
   "source": [
    "This operator works equally well with for and while."
   ]
  }
 ],
 "metadata": {
  "kernelspec": {
   "display_name": "Python 3",
   "language": "python",
   "name": "python3"
  },
  "language_info": {
   "codemirror_mode": {
    "name": "ipython",
    "version": 3
   },
   "file_extension": ".py",
   "mimetype": "text/x-python",
   "name": "python",
   "nbconvert_exporter": "python",
   "pygments_lexer": "ipython3",
   "version": "3.8.3"
  }
 },
 "nbformat": 4,
 "nbformat_minor": 4
}
