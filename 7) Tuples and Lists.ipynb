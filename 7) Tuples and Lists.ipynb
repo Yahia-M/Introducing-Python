{
 "cells": [
  {
   "cell_type": "markdown",
   "metadata": {},
   "source": [
    "# 7) Tuples and Lists"
   ]
  },
  {
   "cell_type": "markdown",
   "metadata": {},
   "source": [
    "We have already looked at strings which are sequences of characters. Python has two other sequence structures: tuples and lists. These contain zero or more elements. Unlike strings, the elements can be any Python object. Tuples are immutable; when you assign elements (only once), to a tuple, they cannot be changed. Lists are mutable, meaning you can insert and delete elements at will."
   ]
  },
  {
   "cell_type": "markdown",
   "metadata": {},
   "source": [
    "---"
   ]
  },
  {
   "cell_type": "markdown",
   "metadata": {},
   "source": [
    "### Tuples"
   ]
  },
  {
   "cell_type": "markdown",
   "metadata": {},
   "source": [
    "To make a tuple with one or more elements, follow each element with a comma:"
   ]
  },
  {
   "cell_type": "code",
   "execution_count": 1,
   "metadata": {},
   "outputs": [
    {
     "data": {
      "text/plain": [
       "('Bradley', 'Anthony', 'Ward')"
      ]
     },
     "execution_count": 1,
     "metadata": {},
     "output_type": "execute_result"
    }
   ],
   "source": [
    "# Example tuple\n",
    "\n",
    "name = ('Bradley', 'Anthony', 'Ward')\n",
    "name"
   ]
  },
  {
   "cell_type": "markdown",
   "metadata": {},
   "source": [
    "We can unpack a tuple using commas as well:"
   ]
  },
  {
   "cell_type": "code",
   "execution_count": 5,
   "metadata": {},
   "outputs": [
    {
     "data": {
      "text/plain": [
       "'Bradley'"
      ]
     },
     "execution_count": 5,
     "metadata": {},
     "output_type": "execute_result"
    }
   ],
   "source": [
    "# Tuple unpacking\n",
    "\n",
    "forename, middle, last = name\n",
    "forename"
   ]
  },
  {
   "cell_type": "markdown",
   "metadata": {},
   "source": [
    "We can create a tuple from other things using the tuple() function."
   ]
  },
  {
   "cell_type": "code",
   "execution_count": 6,
   "metadata": {},
   "outputs": [
    {
     "data": {
      "text/plain": [
       "('Bradley', 'Anthony', 'Ward')"
      ]
     },
     "execution_count": 6,
     "metadata": {},
     "output_type": "execute_result"
    }
   ],
   "source": [
    "# Using the tuple() function\n",
    "\n",
    "name_list = ['Bradley', 'Anthony', 'Ward']\n",
    "tuple(name_list)"
   ]
  },
  {
   "cell_type": "markdown",
   "metadata": {},
   "source": [
    "We can concatenate tuples using + and duplicate items using * but tuples are immutable so we can not modify the tuple. We can use concatenation to make a new tuple and reassign it with the same variable name so it appears to have been modified, but in reality they are two separate tuples."
   ]
  },
  {
   "cell_type": "markdown",
   "metadata": {},
   "source": [
    "---"
   ]
  },
  {
   "cell_type": "markdown",
   "metadata": {},
   "source": [
    "### Lists"
   ]
  },
  {
   "cell_type": "markdown",
   "metadata": {},
   "source": [
    "Lists are good for keeping track of things by their order, especially when the order or contents may change. Unlike strings and tuples, lists are mutable. They are made from zero or more elements, separated by commas and surrounded by square brackets. If you want to keep track of only unique values and do not care about order, a Python set might be a better chocie than a list."
   ]
  },
  {
   "cell_type": "markdown",
   "metadata": {},
   "source": [
    "As with strings, we can extract a single value from a list by specifying its offset. We can also extract a sequence of a list using a slice, as we did for the range() function."
   ]
  },
  {
   "cell_type": "code",
   "execution_count": 20,
   "metadata": {},
   "outputs": [
    {
     "data": {
      "text/plain": [
       "[1, 2]"
      ]
     },
     "execution_count": 20,
     "metadata": {},
     "output_type": "execute_result"
    }
   ],
   "source": [
    "# Slicing a list\n",
    "\n",
    "count = [1, 2, 3, 4, 5]\n",
    "count[0:2]"
   ]
  },
  {
   "cell_type": "markdown",
   "metadata": {},
   "source": [
    "We can reverse a list by not specifying the start or end values, but assigning the step value as -1:"
   ]
  },
  {
   "cell_type": "code",
   "execution_count": 21,
   "metadata": {},
   "outputs": [
    {
     "data": {
      "text/plain": [
       "[5, 4, 3, 2, 1]"
      ]
     },
     "execution_count": 21,
     "metadata": {},
     "output_type": "execute_result"
    }
   ],
   "source": [
    "# Reversing a list\n",
    "\n",
    "count[::-1]"
   ]
  },
  {
   "cell_type": "markdown",
   "metadata": {},
   "source": [
    "To reverse the list itself, rather than generating a new list, we can use the .reverse() method:"
   ]
  },
  {
   "cell_type": "code",
   "execution_count": 22,
   "metadata": {},
   "outputs": [
    {
     "data": {
      "text/plain": [
       "[5, 4, 3, 2, 1]"
      ]
     },
     "execution_count": 22,
     "metadata": {},
     "output_type": "execute_result"
    }
   ],
   "source": [
    "# Reversing a list (permanent)\n",
    "\n",
    "count.reverse()\n",
    "count"
   ]
  },
  {
   "cell_type": "markdown",
   "metadata": {},
   "source": [
    "We can add elements to lists using the append() and insert() functions. The append() function adds items one by one to the end of list, the insert() function requires an index as the first element to signify where the object should go in the list. We can also merge two lists together by using extend()."
   ]
  },
  {
   "cell_type": "markdown",
   "metadata": {},
   "source": [
    "To delete items in a list we can use del. When you delete an item by its position (i.e. del list[-1]), the items that follow move back to take the deleted items space and the list's length decreases by one. If you are not sure or do not care where the item is in the list, use remove() to delete it by value. If you had duplicate list items with the same value, remove() deletes only the first one it finds."
   ]
  },
  {
   "cell_type": "markdown",
   "metadata": {},
   "source": [
    "We can also return the index of a particular element in a list using index(), test for a value in a list using \"in\" and count the occurences of a value with count(). Note that the index() method will only return the first correct value found in the list:"
   ]
  },
  {
   "cell_type": "code",
   "execution_count": 24,
   "metadata": {},
   "outputs": [
    {
     "data": {
      "text/plain": [
       "2"
      ]
     },
     "execution_count": 24,
     "metadata": {},
     "output_type": "execute_result"
    }
   ],
   "source": [
    "# Using index()\n",
    "\n",
    "name.index('Ward')"
   ]
  },
  {
   "cell_type": "code",
   "execution_count": 25,
   "metadata": {},
   "outputs": [
    {
     "data": {
      "text/plain": [
       "True"
      ]
     },
     "execution_count": 25,
     "metadata": {},
     "output_type": "execute_result"
    }
   ],
   "source": [
    "# Using in\n",
    "\n",
    "'Bradley' in name"
   ]
  },
  {
   "cell_type": "code",
   "execution_count": 27,
   "metadata": {},
   "outputs": [
    {
     "data": {
      "text/plain": [
       "1"
      ]
     },
     "execution_count": 27,
     "metadata": {},
     "output_type": "execute_result"
    }
   ],
   "source": [
    "# Using count()\n",
    "\n",
    "name.count('Bradley')"
   ]
  },
  {
   "cell_type": "markdown",
   "metadata": {},
   "source": [
    "We will often need to sort items in a list by their values rather than their index. Python provides two functions: the list method sort() sorts the list itself, in place; and the general function sorted() returns a sorted copy of the list. The default sort order is ascendinging, but you can add the argument reverse = True to set it to descending."
   ]
  },
  {
   "cell_type": "markdown",
   "metadata": {},
   "source": [
    "We can iterate over multiple sequences in parallel by using the zip() function. zip() stops when the shortest sequence is done:"
   ]
  },
  {
   "cell_type": "code",
   "execution_count": 30,
   "metadata": {},
   "outputs": [
    {
     "name": "stdout",
     "output_type": "stream",
     "text": [
      "Bob is 20 and has a salary of 30,000 pounds\n",
      "Fred is 24 and has a salary of 40,000 pounds\n",
      "James is 27 and has a salary of 35,000 pounds\n"
     ]
    }
   ],
   "source": [
    "# Using zip for iteration\n",
    "\n",
    "names = ['Bob', 'Fred', 'James', 'Neal']\n",
    "ages = [20, 24, 27, 19]\n",
    "salaries = ['30,000', '40,000', '35,000']\n",
    "\n",
    "for name, age, salary in zip(names, ages, salaries):\n",
    "    print(name, \"is\", age, \"and has a salary of\", salary, \"pounds\")"
   ]
  },
  {
   "cell_type": "markdown",
   "metadata": {},
   "source": [
    "#### List comprehension"
   ]
  },
  {
   "cell_type": "markdown",
   "metadata": {},
   "source": [
    "The most Pythonic way to create a list is by using a list comprehension. The simplest form of list comprehensions looks like this:\n",
    "\n",
    "    [expression for item in iterable].\n",
    "    \n",
    "The list comprehension moves a for loop inside the square brackets. A list comprehension can include a conditional expression which would have the form:\n",
    "\n",
    "    [expression for item in iterable if condition]."
   ]
  },
  {
   "cell_type": "code",
   "execution_count": 31,
   "metadata": {},
   "outputs": [
    {
     "data": {
      "text/plain": [
       "[1, 3, 5]"
      ]
     },
     "execution_count": 31,
     "metadata": {},
     "output_type": "execute_result"
    }
   ],
   "source": [
    "# Example list comprehension\n",
    "\n",
    "comprehension = [number for number in range(1, 6) if number % 2 == 1]\n",
    "comprehension"
   ]
  },
  {
   "cell_type": "markdown",
   "metadata": {},
   "source": [
    "You might expect that changing the square brackets to parentheses would create a tuple comprehension. It would appear to work because there is no exception, but the line between the parenthesis would actually be a generator comprehension, and it returns a generator object. A generator is one way to provide data to an iterator."
   ]
  }
 ],
 "metadata": {
  "kernelspec": {
   "display_name": "Python 3",
   "language": "python",
   "name": "python3"
  },
  "language_info": {
   "codemirror_mode": {
    "name": "ipython",
    "version": 3
   },
   "file_extension": ".py",
   "mimetype": "text/x-python",
   "name": "python",
   "nbconvert_exporter": "python",
   "pygments_lexer": "ipython3",
   "version": "3.8.3"
  }
 },
 "nbformat": 4,
 "nbformat_minor": 4
}
