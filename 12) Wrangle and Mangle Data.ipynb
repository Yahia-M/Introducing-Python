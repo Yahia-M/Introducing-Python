{
 "cells": [
  {
   "cell_type": "markdown",
   "metadata": {},
   "source": [
    "# 12) Wrangle and Mangle Data <a class=\"tocSkip\">"
   ]
  },
  {
   "cell_type": "markdown",
   "metadata": {},
   "source": [
    "In this notebook we shall learn practical skills for taming data. Sometimes this is called data munging or ETL (extract/transform/load). Data formats fall roughly into two categories: text and binary. Python strings are used for text data and this notebook includes string information that we have skipped so far:\n",
    "\n",
    "- Unicode characters.\n",
    "\n",
    "- Regular expression pattern matching.\n",
    "\n",
    "The are two more Python built-in types related to binary data:\n",
    "\n",
    "- Bytes for immutable eight-bit values.\n",
    "\n",
    "- Bytearrays for mutable ones."
   ]
  },
  {
   "cell_type": "markdown",
   "metadata": {},
   "source": [
    "### Text strings: unicode"
   ]
  },
  {
   "cell_type": "markdown",
   "metadata": {},
   "source": [
    "When data is exchanged with the outside world you need two things: a way to encode character strings to bytes and a way to decode bytes to character strings. UTF-8 is the standard text encoding in Python, Linux and HTML. It is fast, complete and works well. If you use UTF-8 encoding throughout you code, it makes it much easier than trying to hop in and out of various encodings."
   ]
  },
  {
   "cell_type": "markdown",
   "metadata": {},
   "source": [
    "You encode a string to bytes. The string encode() functions first argument is the encoding name. The choices for encoding include ascii, utf-8, latin-1, cp-1252 and unicode-escape."
   ]
  },
  {
   "cell_type": "markdown",
   "metadata": {},
   "source": [
    "We decode byte strings to Unicode text strings. Whenever we get text from some external source (files, databases, websites, network APIs, etc.) it is encoded as byte strings. The tricky part is knowing which encoding was used so we can run it backwards and get Unicode strings. Below we create a Unicode string called place. We shall encode it in UTF-8 format in a bytes variable and then try to decode it using different encodings."
   ]
  },
  {
   "cell_type": "code",
   "execution_count": 2,
   "metadata": {},
   "outputs": [
    {
     "data": {
      "text/plain": [
       "'café'"
      ]
     },
     "execution_count": 2,
     "metadata": {},
     "output_type": "execute_result"
    }
   ],
   "source": [
    "# Define a unicode string\n",
    "\n",
    "place = 'caf\\u00e9'\n",
    "place"
   ]
  },
  {
   "cell_type": "code",
   "execution_count": 3,
   "metadata": {},
   "outputs": [
    {
     "data": {
      "text/plain": [
       "b'caf\\xc3\\xa9'"
      ]
     },
     "execution_count": 3,
     "metadata": {},
     "output_type": "execute_result"
    }
   ],
   "source": [
    "# Encode using UTF-8\n",
    "\n",
    "place_bytes = place.encode('utf-8')\n",
    "place_bytes"
   ]
  },
  {
   "cell_type": "code",
   "execution_count": 5,
   "metadata": {},
   "outputs": [
    {
     "name": "stdout",
     "output_type": "stream",
     "text": [
      "UTF-8 decoding:  café\n",
      "Latin decoding:  cafÃ©\n",
      "Windows decoding:  cafÃ©\n"
     ]
    }
   ],
   "source": [
    "# Various decodings\n",
    "\n",
    "place_utf = place_bytes.decode('utf-8')\n",
    "place_latin = place_bytes.decode('latin-1')\n",
    "place_windows = place_bytes.decode('windows-1252')\n",
    "\n",
    "print('UTF-8 decoding: ', place_utf)\n",
    "print('Latin decoding: ', place_latin)\n",
    "print('Windows decoding: ', place_windows)"
   ]
  },
  {
   "cell_type": "markdown",
   "metadata": {},
   "source": [
    "Whenever possible use UTF-8 encoding. It works, is supported everywhere, can express every Unicode character and is quickly decoded and encoded."
   ]
  },
  {
   "cell_type": "code",
   "execution_count": null,
   "metadata": {},
   "outputs": [],
   "source": []
  }
 ],
 "metadata": {
  "kernelspec": {
   "display_name": "Python 3",
   "language": "python",
   "name": "python3"
  },
  "language_info": {
   "codemirror_mode": {
    "name": "ipython",
    "version": 3
   },
   "file_extension": ".py",
   "mimetype": "text/x-python",
   "name": "python",
   "nbconvert_exporter": "python",
   "pygments_lexer": "ipython3",
   "version": "3.8.3"
  },
  "toc": {
   "base_numbering": 1,
   "nav_menu": {},
   "number_sections": false,
   "sideBar": true,
   "skip_h1_title": false,
   "title_cell": "Table of Contents",
   "title_sidebar": "Contents",
   "toc_cell": false,
   "toc_position": {},
   "toc_section_display": true,
   "toc_window_display": true
  }
 },
 "nbformat": 4,
 "nbformat_minor": 4
}
