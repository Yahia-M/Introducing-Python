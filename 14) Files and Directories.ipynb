{
 "cells": [
  {
   "cell_type": "markdown",
   "metadata": {},
   "source": [
    "# 14) Files and Directories <a class=\"tocSkip\">"
   ]
  },
  {
   "cell_type": "markdown",
   "metadata": {},
   "source": [
    "A file is a sequence of bytes, stored in some filesystem, and accessed by a filename. A directory is a collection of files and possibly other directories. The term folder is a synonym for directory."
   ]
  },
  {
   "cell_type": "markdown",
   "metadata": {},
   "source": [
    "### File input and output"
   ]
  },
  {
   "cell_type": "markdown",
   "metadata": {
    "cell_style": "center"
   },
   "source": [
    "The simplest kind of persistence is a plain file, sometimes called a flat file. You read from a file into memory and write from memory to a file. As with many languages, Python's file operations are largely modeled on the familiar Unix equivalents. You need to call the open function before you do the following: \n",
    "    - Read an existing file\n",
    "    - Write to a new file\n",
    "    - Append to an existing file\n",
    "    - Overwrite an existing file"
   ]
  },
  {
   "cell_type": "markdown",
   "metadata": {},
   "source": [
    "The open function is:\n",
    "\n",
    "    fileobj = open(filename, mode)\n",
    "    \n",
    "    - fileobj is the file object returned by open()\n",
    "    - filename is the string name of the file\n",
    "    - mode is a string indicating the file's type and what you want to do with it"
   ]
  },
  {
   "cell_type": "markdown",
   "metadata": {},
   "source": [
    "The first letter of mode indicates the operation:\n",
    "    \n",
    "    r means read.\n",
    "    w means write. If a file doesn't exist, it's created. If it does, it's overwritten.\n",
    "    x means write, but only if the file does not already exist.\n",
    "    a means append if the file exists."
   ]
  },
  {
   "cell_type": "markdown",
   "metadata": {},
   "source": [
    "The second letter of the mode is the file's type:\n",
    "    \n",
    "    t (or nothing) means text.\n",
    "    b means binary."
   ]
  },
  {
   "cell_type": "markdown",
   "metadata": {},
   "source": [
    "Last, you need to close the file to ensure that any writes complete, and that memory is freed. We shall soon see how to use with to automate this. Below is an example creating a file:"
   ]
  },
  {
   "cell_type": "code",
   "execution_count": 13,
   "metadata": {},
   "outputs": [],
   "source": [
    "# An example file\n",
    "\n",
    "fout = open('Files/file.txt', 'wt')\n",
    "print('This is a new file.', file = fout)\n",
    "fout.close()"
   ]
  },
  {
   "cell_type": "markdown",
   "metadata": {},
   "source": [
    "We used the file argument to print. Without it, print write to standard output, which is your terminal (unless you have told your shell program to redirect output to a file with > or piped it to another program with |). We can do the same as above using the write function:"
   ]
  },
  {
   "cell_type": "code",
   "execution_count": 14,
   "metadata": {},
   "outputs": [],
   "source": [
    "# Using the write function\n",
    "\n",
    "fout = open('Files/file.txt', 'wt')\n",
    "fout.write('This is a new file.')\n",
    "fout.close()"
   ]
  },
  {
   "cell_type": "markdown",
   "metadata": {},
   "source": [
    "You can call read() with no arguments to gather up the entire file at once. Be careful when doing this with large files; a gigabyte file will consume a gigabyte of memory:"
   ]
  },
  {
   "cell_type": "code",
   "execution_count": 15,
   "metadata": {},
   "outputs": [
    {
     "data": {
      "text/plain": [
       "'This is a new file.'"
      ]
     },
     "execution_count": 15,
     "metadata": {},
     "output_type": "execute_result"
    }
   ],
   "source": [
    "# Reading a file\n",
    "\n",
    "fin = open('Files/file.txt', 'rt')\n",
    "line = fin.read()\n",
    "fin.close()\n",
    "\n",
    "line"
   ]
  },
  {
   "cell_type": "markdown",
   "metadata": {},
   "source": [
    "If you include a 'b' in the mode string, the file is opened in binary mode. In this case, you read and write bytes instead of a string."
   ]
  },
  {
   "cell_type": "markdown",
   "metadata": {},
   "source": [
    "If you forget to close a file that you have opened, it will be closed by Python after it is no linger referenced. This means that if you open a file within a function and do not close it explicitly, it will be closed automatically when the function ends. But you might have opened the file in a long-running function or the main section of the program. The file should be closed to force any remaining writes to be completed. Python has context managers to clean up things such as open files. We use the form:\n",
    "\n",
    "    with expression as variable:\n",
    "    \n",
    "After the block of code under the context manager completes, the file is closed automatically."
   ]
  },
  {
   "cell_type": "code",
   "execution_count": 16,
   "metadata": {},
   "outputs": [],
   "source": [
    "# Using with to automatically close a file\n",
    "\n",
    "with open('Files/file.txt', 'at') as fout:\n",
    "    fout.write('\\n')\n",
    "    fout.write('I want to add a line.')"
   ]
  },
  {
   "cell_type": "markdown",
   "metadata": {},
   "source": [
    "As you read and write, Python keeps track of where you are in the file. The tell() function returns your current offset from the beginning of the file, in bytes. The seek() function lets you jump to another byte by offset in the file. This means that you do not have to read in every byte in a file to read the last one; you can seek() to the last one and just read one byte. These functions are most useful for binary files. You can use them with text files, but unless the file is ASCII (one byte per character), you would have a hard time calculating offsets. The most popular encoding (UTF-8) uses varying numbers of bytes per character."
   ]
  },
  {
   "cell_type": "markdown",
   "metadata": {},
   "source": [
    "An alternative to reading and writing a file is to memory-map it with the standard mmap module. This makes the contents of a file look like a bytearray in memory."
   ]
  },
  {
   "cell_type": "markdown",
   "metadata": {},
   "source": [
    "### File operations"
   ]
  },
  {
   "cell_type": "markdown",
   "metadata": {},
   "source": [
    "Python and many other languages patterned their file operations after Unix. Some functions such as chown() and chmod() have the same names, but there are a few new ones. Below is a list of various functions and their uses:\n",
    "\n",
    "    exists() - To verify whether the file or directory is there.\n",
    "    isfile() - To check whether a name refers to a file.\n",
    "    isdir() - To check whether a name refers to a directory.\n",
    "    isabs() - To check whether its argument is an absolute pathname.\n",
    "    rename() - Renames a file.\n",
    "    chmod() - Changes the file permissions. \n",
    "    chown() - Changes the ownership of a file.\n",
    "    remove() - Removes a file.\n",
    "    \n",
    "Below is a selection of a few examples:\n",
    "    "
   ]
  },
  {
   "cell_type": "code",
   "execution_count": 28,
   "metadata": {},
   "outputs": [],
   "source": [
    "import os\n",
    "import glob"
   ]
  },
  {
   "cell_type": "code",
   "execution_count": 20,
   "metadata": {},
   "outputs": [
    {
     "data": {
      "text/plain": [
       "True"
      ]
     },
     "execution_count": 20,
     "metadata": {},
     "output_type": "execute_result"
    }
   ],
   "source": [
    "# Using exists()\n",
    "\n",
    "os.path.exists('Files/file.txt')"
   ]
  },
  {
   "cell_type": "code",
   "execution_count": 21,
   "metadata": {},
   "outputs": [
    {
     "data": {
      "text/plain": [
       "True"
      ]
     },
     "execution_count": 21,
     "metadata": {},
     "output_type": "execute_result"
    }
   ],
   "source": [
    "# Using isdir()\n",
    "\n",
    "os.path.isdir('Files')"
   ]
  },
  {
   "cell_type": "code",
   "execution_count": 22,
   "metadata": {},
   "outputs": [
    {
     "data": {
      "text/plain": [
       "False"
      ]
     },
     "execution_count": 22,
     "metadata": {},
     "output_type": "execute_result"
    }
   ],
   "source": [
    "# Using remove\n",
    "\n",
    "os.remove('Files/file.txt')\n",
    "os.path.exists('Files/file.txt')"
   ]
  },
  {
   "cell_type": "markdown",
   "metadata": {},
   "source": [
    "### Directory operations"
   ]
  },
  {
   "cell_type": "markdown",
   "metadata": {},
   "source": [
    "In most operating systems, files exist in a hierarchy of directories. The container of all of these files and directories is a filesystem. The standard os module deals with operating specifics such as these and provides the following functions with which you can manipulate them:\n",
    "\n",
    "    mkdir() - Make a directory.\n",
    "    rmdir() - Remove a directory.\n",
    "    listdir() - List the contents of a directory.\n",
    "    chdir() - Change the current directory.\n",
    "    glob() - List matching files.\n",
    "    \n",
    "Below is a selection of a few examples:"
   ]
  },
  {
   "cell_type": "code",
   "execution_count": 26,
   "metadata": {},
   "outputs": [
    {
     "data": {
      "text/plain": [
       "True"
      ]
     },
     "execution_count": 26,
     "metadata": {},
     "output_type": "execute_result"
    }
   ],
   "source": [
    "# Making a new directory\n",
    "\n",
    "os.mkdir('Directory')\n",
    "os.path.exists('Directory')"
   ]
  },
  {
   "cell_type": "code",
   "execution_count": 27,
   "metadata": {},
   "outputs": [
    {
     "data": {
      "text/plain": [
       "['new_file.txt']"
      ]
     },
     "execution_count": 27,
     "metadata": {},
     "output_type": "execute_result"
    }
   ],
   "source": [
    "# Creating a file in the new directory and listing its contents\n",
    "\n",
    "with open('Directory/new_file.txt', 'at') as fout:\n",
    "    fout.write('I am a file.')\n",
    "    \n",
    "os.listdir('Directory')"
   ]
  },
  {
   "cell_type": "markdown",
   "metadata": {},
   "source": [
    "The glob() function matches files or direcory names by using Unix shell rules rather than the more complete regular expression syntax. The rules are:\n",
    "\n",
    "    * matches everything.\n",
    "    ? matches a single character\n",
    "    [abc] matches character a, b or c.\n",
    "    [!abc] matches any character except a, b or c."
   ]
  },
  {
   "cell_type": "code",
   "execution_count": 30,
   "metadata": {},
   "outputs": [
    {
     "data": {
      "text/plain": [
       "['new_file.txt']"
      ]
     },
     "execution_count": 30,
     "metadata": {},
     "output_type": "execute_result"
    }
   ],
   "source": [
    "# Change directory and then use glob\n",
    "\n",
    "os.chdir('Directory')\n",
    "glob.glob('n*')"
   ]
  },
  {
   "cell_type": "markdown",
   "metadata": {},
   "source": [
    "There are additional functions to help with filenames. Of particular use is abspath() which expands a relative name from the current directory to an absolute one. "
   ]
  },
  {
   "cell_type": "markdown",
   "metadata": {},
   "source": [
    "### Pathnames"
   ]
  },
  {
   "cell_type": "markdown",
   "metadata": {},
   "source": [
    "Python added the pathlib module in version 3.4. It is an alternative to the os.path modules above. Rather than treating filesystem pathnames as strings, it introduces the Path object to treat them at a higher level. We create a Path with the Path() class, and then combine your path together with bare slashes:"
   ]
  },
  {
   "cell_type": "code",
   "execution_count": 32,
   "metadata": {},
   "outputs": [],
   "source": [
    "from pathlib import Path"
   ]
  },
  {
   "cell_type": "code",
   "execution_count": 33,
   "metadata": {},
   "outputs": [
    {
     "data": {
      "text/plain": [
       "WindowsPath('Directory/new_file.txt')"
      ]
     },
     "execution_count": 33,
     "metadata": {},
     "output_type": "execute_result"
    }
   ],
   "source": [
    "# Defining a file path\n",
    "\n",
    "file_path = Path('Directory') / 'new_file.txt'\n",
    "file_path"
   ]
  },
  {
   "cell_type": "code",
   "execution_count": 36,
   "metadata": {},
   "outputs": [
    {
     "name": "stdout",
     "output_type": "stream",
     "text": [
      "new_file.txt\n",
      ".txt\n",
      "new_file\n"
     ]
    }
   ],
   "source": [
    "# Attributes of the Path() class\n",
    "\n",
    "print(file_path.name)\n",
    "print(file_path.suffix)\n",
    "print(file_path.stem)"
   ]
  }
 ],
 "metadata": {
  "kernelspec": {
   "display_name": "Python 3",
   "language": "python",
   "name": "python3"
  },
  "language_info": {
   "codemirror_mode": {
    "name": "ipython",
    "version": 3
   },
   "file_extension": ".py",
   "mimetype": "text/x-python",
   "name": "python",
   "nbconvert_exporter": "python",
   "pygments_lexer": "ipython3",
   "version": "3.8.3"
  },
  "toc": {
   "base_numbering": 1,
   "nav_menu": {},
   "number_sections": false,
   "sideBar": true,
   "skip_h1_title": false,
   "title_cell": "Table of Contents",
   "title_sidebar": "Contents",
   "toc_cell": false,
   "toc_position": {},
   "toc_section_display": true,
   "toc_window_display": true
  }
 },
 "nbformat": 4,
 "nbformat_minor": 4
}
