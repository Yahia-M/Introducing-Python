{
 "cells": [
  {
   "cell_type": "markdown",
   "metadata": {},
   "source": [
    "# 14) Files and Directories <a class=\"tocSkip\">"
   ]
  },
  {
   "cell_type": "markdown",
   "metadata": {},
   "source": [
    "A file is a sequence of bytes, stored in some filesystem, and accessed by a filename. A directory is a collection of files and possibly other directories. The term folder is a synonym for directory."
   ]
  },
  {
   "cell_type": "markdown",
   "metadata": {},
   "source": [
    "### File input and output"
   ]
  },
  {
   "cell_type": "markdown",
   "metadata": {
    "cell_style": "center"
   },
   "source": [
    "The simplest kind of persistence is a plain file, sometimes called a flat file. You read from a file into memory and write from memory to a file. As with many languages, Python's file operations are largely modeled on the familiar Unix equivalents. You need to call the open function before you do the following: \n",
    "    - Read an existing file\n",
    "    - Write to a new file\n",
    "    - Append to an existing file\n",
    "    - Overwrite an existing file"
   ]
  },
  {
   "cell_type": "markdown",
   "metadata": {},
   "source": [
    "The open function is:\n",
    "\n",
    "    fileobj = open(filename, mode)\n",
    "    \n",
    "    - fileobj is the file object returned by open()\n",
    "    - filename is the string name of the file\n",
    "    - mode is a string indicating the file's type and what you want to do with it"
   ]
  },
  {
   "cell_type": "markdown",
   "metadata": {},
   "source": [
    "The first letter of mode indicates the operation:\n",
    "    \n",
    "    r means read.\n",
    "    w means write. If a file doesn't exist, it's created. If it does exist, it's overwritten.\n",
    "    x means write, but only if the file does not already exist.\n",
    "    a means append if the file exists."
   ]
  },
  {
   "cell_type": "markdown",
   "metadata": {},
   "source": [
    "The second letter of the mode is the file's type:\n",
    "    \n",
    "    t (or nothing) means text.\n",
    "    b means binary."
   ]
  },
  {
   "cell_type": "markdown",
   "metadata": {},
   "source": [
    "Last, you need to close the file to ensure that any writes complete, and that memory is freed. We shall soon see how to use with to automate this. Below is an example creating a file:"
   ]
  },
  {
   "cell_type": "code",
   "execution_count": 13,
   "metadata": {},
   "outputs": [],
   "source": [
    "# An example file\n",
    "\n",
    "fout = open('Files/file.txt', 'wt')\n",
    "print('This is a new file.', file = fout)\n",
    "fout.close()"
   ]
  },
  {
   "cell_type": "markdown",
   "metadata": {},
   "source": [
    "We used the file argument to print. Without it, print write to standard output, which is your terminal (unless you have told your shell program to redirect output to a file with > or piped it to another program with |). We can do the same as above using the write function:"
   ]
  },
  {
   "cell_type": "code",
   "execution_count": 14,
   "metadata": {},
   "outputs": [],
   "source": [
    "# Using the write function\n",
    "\n",
    "fout = open('Files/file.txt', 'wt')\n",
    "fout.write('This is a new file.')\n",
    "fout.close()"
   ]
  },
  {
   "cell_type": "markdown",
   "metadata": {},
   "source": [
    "You can call read() with no arguments to gather up the entire file at once. Be careful when doing this with large files; a gigabyte file will consume a gigabyte of memory:"
   ]
  },
  {
   "cell_type": "code",
   "execution_count": 15,
   "metadata": {},
   "outputs": [
    {
     "data": {
      "text/plain": [
       "'This is a new file.'"
      ]
     },
     "execution_count": 15,
     "metadata": {},
     "output_type": "execute_result"
    }
   ],
   "source": [
    "# Reading a file\n",
    "\n",
    "fin = open('Files/file.txt', 'rt')\n",
    "line = fin.read()\n",
    "fin.close()\n",
    "\n",
    "line"
   ]
  },
  {
   "cell_type": "markdown",
   "metadata": {},
   "source": [
    "If you include a 'b' in the mode string, the file is opened in binary mode. In this case, you read and write bytes instead of a string."
   ]
  },
  {
   "cell_type": "markdown",
   "metadata": {},
   "source": [
    "If you forget to close a file that you have opened, it will be closed by Python after it is no linger referenced. This means that if you open a file within a function and do not close it explicitly, it will be closed automatically when the function ends. But you might have opened the file in a long-running function or the main section of the program. The file should be closed to force any remaining writes to be completed. Python has context managers to clean up things such as open files. We use the form:\n",
    "\n",
    "    with expression as variable:\n",
    "    \n",
    "After the block of code under the context manager completes, the file is closed automatically."
   ]
  },
  {
   "cell_type": "code",
   "execution_count": 16,
   "metadata": {},
   "outputs": [],
   "source": [
    "# Using with to automatically close a file\n",
    "\n",
    "with open('Files/file.txt', 'at') as fout:\n",
    "    fout.write('\\n')\n",
    "    fout.write('I want to add a line.')"
   ]
  },
  {
   "cell_type": "markdown",
   "metadata": {},
   "source": [
    "As you read and write, Python keeps track of where you are in the file. The tell() function returns your current offset from the beginning of the file, in bytes. The seek() function lets you jump to another byte by offset in the file. This means that you do not have to read in every byte in a file to read the last one; you can seek() to the last one and just read one byte. These functions are most useful for binary files. You can use them with text files, but unless the file is ASCII (one byte per character), you would have a hard time calculating offsets. The most popular encoding (UTF-8) uses varying numbers of bytes per character."
   ]
  },
  {
   "cell_type": "markdown",
   "metadata": {},
   "source": [
    "An alternative to reading and writing a file is to memory-map it with the standard mmap module. This makes the contents of a file look like a bytearray in memory."
   ]
  },
  {
   "cell_type": "code",
   "execution_count": null,
   "metadata": {},
   "outputs": [],
   "source": []
  }
 ],
 "metadata": {
  "kernelspec": {
   "display_name": "Python 3",
   "language": "python",
   "name": "python3"
  },
  "language_info": {
   "codemirror_mode": {
    "name": "ipython",
    "version": 3
   },
   "file_extension": ".py",
   "mimetype": "text/x-python",
   "name": "python",
   "nbconvert_exporter": "python",
   "pygments_lexer": "ipython3",
   "version": "3.8.3"
  },
  "toc": {
   "base_numbering": 1,
   "nav_menu": {},
   "number_sections": false,
   "sideBar": true,
   "skip_h1_title": false,
   "title_cell": "Table of Contents",
   "title_sidebar": "Contents",
   "toc_cell": false,
   "toc_position": {},
   "toc_section_display": true,
   "toc_window_display": true
  }
 },
 "nbformat": 4,
 "nbformat_minor": 4
}
