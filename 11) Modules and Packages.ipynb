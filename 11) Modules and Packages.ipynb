{
 "cells": [
  {
   "cell_type": "markdown",
   "metadata": {},
   "source": [
    "# 11) Modules and Packages <a class=\"tocSkip\">"
   ]
  },
  {
   "cell_type": "markdown",
   "metadata": {},
   "source": [
    "In this notebook we will write our own modules and learn how to use others from Python's standard library and other sources. To allow Python applications to scale larger, you can organize modules into file and module hierarchies called packages. A package is a subdirectory that contains .py files."
   ]
  },
  {
   "cell_type": "markdown",
   "metadata": {},
   "source": [
    "Consider we have a local module with the same name as a standard one; how do we choose the correct one? Python supports absolute or relative import. If you typed import [name], for each directory in the search path (found at sys.path), Python will look for a file named name.py (a module) or a directory named name (a package). \n",
    "\n",
    "- If name.py is in the same directory as your calling problem, you can import it relative to your location with from . import name\n",
    "\n",
    "- If it is in the directory above you use from .. import name\n",
    "\n",
    "- If it is under a sibling directory called name_sub use from ..namesub import name\n",
    "\n",
    "The . and .. notation is burrowed from Unix's shorthand for current directory and parent directory."
   ]
  },
  {
   "cell_type": "markdown",
   "metadata": {},
   "source": [
    "You can also split a package across directories with namespace packages. Say we want to create a package called $\\textit{teams}$ that will contain a Python module for each cricket team. This might get large over time and you would like to subdivide these by geographic location. One option is to add location subpackages under $\\textit{teams}$ and move the existing .py module files under them, but this would break things for other modules that import them. Instead, we can go up a subdirectory and do the following:\n",
    "\n",
    "- Make new location directories above $\\textit{teams}$.\n",
    "\n",
    "- Make cousin $\\textit{teams}$ under these new parents.\n",
    "\n",
    "- Move existing modules to their respective directories."
   ]
  },
  {
   "cell_type": "markdown",
   "metadata": {},
   "source": [
    "Say we started with the following file layout:\n",
    "\n",
    "+-- teams <br>\n",
    "|&emsp;+-- surrey.py <br>\n",
    "|&emsp;+-- glamorgan.py <br>\n",
    "|&emsp;+-- queensland.py <br>\n",
    "\n",
    "Normal imports of these modules would look like:\n",
    "\n",
    "    from teams import surrey, glamorgan, queensland."
   ]
  },
  {
   "cell_type": "markdown",
   "metadata": {},
   "source": [
    "Now if we used geographical locations, the files and directories would look like:\n",
    "\n",
    "+-- england <br>\n",
    "|&emsp;+-- teams <br>\n",
    "|&emsp;|&emsp;+-- surrey.py <br>\n",
    "|&emsp;|&emsp;+-- glamorgan.py <br>\n",
    "\n",
    "+-- australia <br>\n",
    "|&emsp;+-- teams <br>\n",
    "|&emsp;|&emsp;+-- queensland.py <br>\n",
    "    \n",
    "You can import the modules as though they were still cohabiting a single directory using:\n",
    "\n",
    "    from teams import surrey, glamorgan, queensland"
   ]
  },
  {
   "cell_type": "markdown",
   "metadata": {},
   "source": [
    "### Python standard library"
   ]
  },
  {
   "cell_type": "markdown",
   "metadata": {},
   "source": [
    "In this section we shall discuss some standard modules that have generic uses."
   ]
  },
  {
   "cell_type": "markdown",
   "metadata": {
    "heading_collapsed": true
   },
   "source": [
    "#### Handle missing keys"
   ]
  },
  {
   "cell_type": "markdown",
   "metadata": {
    "hidden": true
   },
   "source": [
    "Trying to access a dictionary with a nonexistent key raises an exception. Using the dictionary get() function to return a default value avoids an exception. The setdefault() function is like get(), but also assigns an item to the dictionary if the key is missing:"
   ]
  },
  {
   "cell_type": "code",
   "execution_count": 6,
   "metadata": {
    "hidden": true
   },
   "outputs": [],
   "source": [
    "from collections import defaultdict"
   ]
  },
  {
   "cell_type": "code",
   "execution_count": 1,
   "metadata": {
    "hidden": true
   },
   "outputs": [
    {
     "data": {
      "text/plain": [
       "{'Hydrogen': 1, 'Helium': 2}"
      ]
     },
     "execution_count": 1,
     "metadata": {},
     "output_type": "execute_result"
    }
   ],
   "source": [
    "# Create an example dictionary\n",
    "\n",
    "periodic_table = {'Hydrogen': 1, 'Helium': 2}\n",
    "periodic_table"
   ]
  },
  {
   "cell_type": "markdown",
   "metadata": {
    "hidden": true
   },
   "source": [
    "If the key was not already in the dictionary, the new value is used:"
   ]
  },
  {
   "cell_type": "code",
   "execution_count": 2,
   "metadata": {
    "hidden": true
   },
   "outputs": [
    {
     "data": {
      "text/plain": [
       "{'Hydrogen': 1, 'Helium': 2, 'Carbon': 12}"
      ]
     },
     "execution_count": 2,
     "metadata": {},
     "output_type": "execute_result"
    }
   ],
   "source": [
    "# Assigning a new key to the dictionary\n",
    "\n",
    "carbon = periodic_table.setdefault('Carbon', 12)\n",
    "periodic_table"
   ]
  },
  {
   "cell_type": "markdown",
   "metadata": {
    "hidden": true
   },
   "source": [
    "If we try to assign a different default value to an existing key, the original value is returned and nothing is changed:"
   ]
  },
  {
   "cell_type": "code",
   "execution_count": 3,
   "metadata": {
    "hidden": true
   },
   "outputs": [
    {
     "data": {
      "text/plain": [
       "{'Hydrogen': 1, 'Helium': 2, 'Carbon': 12}"
      ]
     },
     "execution_count": 3,
     "metadata": {},
     "output_type": "execute_result"
    }
   ],
   "source": [
    "# Trying to change helium\n",
    "\n",
    "helium = periodic_table.setdefault('Helium', 100)\n",
    "periodic_table"
   ]
  },
  {
   "cell_type": "markdown",
   "metadata": {
    "hidden": true
   },
   "source": [
    "The function defaultdict() is similar, but specifies the default value for any new key up front, when the dictionary is created. Its argument is a function, in this example we pass the function int. Now any missing value will be an integer with the value 0."
   ]
  },
  {
   "cell_type": "code",
   "execution_count": 4,
   "metadata": {
    "hidden": true
   },
   "outputs": [
    {
     "data": {
      "text/plain": [
       "0"
      ]
     },
     "execution_count": 4,
     "metadata": {},
     "output_type": "execute_result"
    }
   ],
   "source": [
    "# Attempting to call Lead\n",
    "\n",
    "periodic_table = defaultdict(int)\n",
    "periodic_table['Lead']"
   ]
  },
  {
   "cell_type": "code",
   "execution_count": 5,
   "metadata": {
    "hidden": true
   },
   "outputs": [
    {
     "data": {
      "text/plain": [
       "defaultdict(int, {'Lead': 0})"
      ]
     },
     "execution_count": 5,
     "metadata": {},
     "output_type": "execute_result"
    }
   ],
   "source": [
    "# Showing that we have created Lead in our dictionary with a default value\n",
    "\n",
    "periodic_table"
   ]
  },
  {
   "cell_type": "markdown",
   "metadata": {
    "hidden": true
   },
   "source": [
    "You can use the functions int(), list() or dict() to return default empty values for those types: int() returns 0, list() return an empty list ([]) and dict() returns an empty dictionary ({}). If you omit the argument, the initial value of a new key will be set to None."
   ]
  },
  {
   "cell_type": "markdown",
   "metadata": {
    "heading_collapsed": true
   },
   "source": [
    "#### Count items with counter()"
   ]
  },
  {
   "cell_type": "markdown",
   "metadata": {
    "hidden": true
   },
   "source": [
    "The standard library has a counter() function that can be used in a variety of ways:"
   ]
  },
  {
   "cell_type": "code",
   "execution_count": 7,
   "metadata": {
    "hidden": true
   },
   "outputs": [],
   "source": [
    "from collections import Counter"
   ]
  },
  {
   "cell_type": "code",
   "execution_count": 14,
   "metadata": {
    "hidden": true
   },
   "outputs": [],
   "source": [
    "# Define an example list\n",
    "\n",
    "breakfast = ['porridge', 'jam', 'cereal', 'porridge', 'porridge', 'muffin', 'jam']"
   ]
  },
  {
   "cell_type": "code",
   "execution_count": 16,
   "metadata": {
    "hidden": true
   },
   "outputs": [
    {
     "data": {
      "text/plain": [
       "Counter({'porridge': 3, 'jam': 2, 'cereal': 1, 'muffin': 1})"
      ]
     },
     "execution_count": 16,
     "metadata": {},
     "output_type": "execute_result"
    }
   ],
   "source": [
    "# Creating a counter\n",
    "\n",
    "breakfast_counter = Counter(breakfast)\n",
    "breakfast_counter"
   ]
  },
  {
   "cell_type": "markdown",
   "metadata": {
    "hidden": true
   },
   "source": [
    "The most_common() function returns all elements in descending order, or just the top count elements if given a count:"
   ]
  },
  {
   "cell_type": "code",
   "execution_count": 17,
   "metadata": {
    "hidden": true
   },
   "outputs": [
    {
     "data": {
      "text/plain": [
       "[('porridge', 3)]"
      ]
     },
     "execution_count": 17,
     "metadata": {},
     "output_type": "execute_result"
    }
   ],
   "source": [
    "# Finding the most common element\n",
    "\n",
    "breakfast_counter.most_common(1)"
   ]
  },
  {
   "cell_type": "markdown",
   "metadata": {
    "hidden": true
   },
   "source": [
    "We can combine counters. Let us create a lunch counter. The first way we can combine the two counters is by addition using + and subtract one counter from the other using -."
   ]
  },
  {
   "cell_type": "code",
   "execution_count": 19,
   "metadata": {
    "hidden": true
   },
   "outputs": [
    {
     "data": {
      "text/plain": [
       "Counter({'cereal': 1, 'pasta': 3, 'soup': 2, 'muffin': 1})"
      ]
     },
     "execution_count": 19,
     "metadata": {},
     "output_type": "execute_result"
    }
   ],
   "source": [
    "# Define our lunch counter\n",
    "\n",
    "lunch = ['cereal', 'pasta', 'pasta', 'soup', 'muffin', 'pasta', 'soup']\n",
    "lunch_counter = Counter(lunch)\n",
    "lunch_counter"
   ]
  },
  {
   "cell_type": "code",
   "execution_count": 20,
   "metadata": {
    "hidden": true
   },
   "outputs": [
    {
     "data": {
      "text/plain": [
       "Counter({'porridge': 3,\n",
       "         'jam': 2,\n",
       "         'cereal': 2,\n",
       "         'muffin': 2,\n",
       "         'pasta': 3,\n",
       "         'soup': 2})"
      ]
     },
     "execution_count": 20,
     "metadata": {},
     "output_type": "execute_result"
    }
   ],
   "source": [
    "# Addition of counters\n",
    "\n",
    "breakfast_counter + lunch_counter"
   ]
  },
  {
   "cell_type": "code",
   "execution_count": 21,
   "metadata": {
    "hidden": true
   },
   "outputs": [
    {
     "data": {
      "text/plain": [
       "Counter({'porridge': 3, 'jam': 2})"
      ]
     },
     "execution_count": 21,
     "metadata": {},
     "output_type": "execute_result"
    }
   ],
   "source": [
    "# Subtraction of counters\n",
    "\n",
    "breakfast_counter - lunch_counter"
   ]
  },
  {
   "cell_type": "markdown",
   "metadata": {
    "hidden": true
   },
   "source": [
    "We can find the items in common between the two lists using the intersection operator &:"
   ]
  },
  {
   "cell_type": "code",
   "execution_count": 22,
   "metadata": {
    "hidden": true
   },
   "outputs": [
    {
     "data": {
      "text/plain": [
       "Counter({'cereal': 1, 'muffin': 1})"
      ]
     },
     "execution_count": 22,
     "metadata": {},
     "output_type": "execute_result"
    }
   ],
   "source": [
    "# Intersection of counters\n",
    "\n",
    "breakfast_counter & lunch_counter"
   ]
  },
  {
   "cell_type": "markdown",
   "metadata": {
    "hidden": true
   },
   "source": [
    "The intersection chooses the common element with the lower count. Finally, we can obtain all items by using the union operator |:"
   ]
  },
  {
   "cell_type": "code",
   "execution_count": 23,
   "metadata": {
    "hidden": true
   },
   "outputs": [
    {
     "data": {
      "text/plain": [
       "Counter({'porridge': 3,\n",
       "         'jam': 2,\n",
       "         'cereal': 1,\n",
       "         'muffin': 1,\n",
       "         'pasta': 3,\n",
       "         'soup': 2})"
      ]
     },
     "execution_count": 23,
     "metadata": {},
     "output_type": "execute_result"
    }
   ],
   "source": [
    "# Union of counters\n",
    "\n",
    "breakfast_counter | lunch_counter"
   ]
  },
  {
   "cell_type": "markdown",
   "metadata": {
    "hidden": true
   },
   "source": [
    "Some items are common to both, unlike addition, union does not add their counts but selects the one with the larger count."
   ]
  },
  {
   "cell_type": "markdown",
   "metadata": {
    "heading_collapsed": true
   },
   "source": [
    "#### Stack + Queue == deque"
   ]
  },
  {
   "cell_type": "markdown",
   "metadata": {
    "hidden": true
   },
   "source": [
    "A deque is a double-ended queue, which has features of both a stack and a queue. It is useful when you want to add and delete items from either end of a sequence. In this example we work from both ends of a word to the middle to see whether it is a palindrome. This case would obviously be easier by checking a string with its reverse, but a deque also works:"
   ]
  },
  {
   "cell_type": "code",
   "execution_count": 27,
   "metadata": {
    "hidden": true
   },
   "outputs": [],
   "source": [
    "# Defining a check for palindromes using deque\n",
    "\n",
    "from collections import deque\n",
    "\n",
    "def palindrome(word):\n",
    "    dq = deque(word)\n",
    "    while len(dq) > 1:\n",
    "        if dq.popleft() != dq.pop():\n",
    "            return False\n",
    "    return True"
   ]
  },
  {
   "cell_type": "code",
   "execution_count": 28,
   "metadata": {
    "hidden": true
   },
   "outputs": [
    {
     "data": {
      "text/plain": [
       "True"
      ]
     },
     "execution_count": 28,
     "metadata": {},
     "output_type": "execute_result"
    }
   ],
   "source": [
    "palindrome ('racecar')"
   ]
  },
  {
   "cell_type": "code",
   "execution_count": 29,
   "metadata": {
    "hidden": true
   },
   "outputs": [
    {
     "data": {
      "text/plain": [
       "False"
      ]
     },
     "execution_count": 29,
     "metadata": {},
     "output_type": "execute_result"
    }
   ],
   "source": [
    "palindrome('palindrome')"
   ]
  },
  {
   "cell_type": "markdown",
   "metadata": {
    "heading_collapsed": true
   },
   "source": [
    "#### Iterate over code structures with itertools"
   ]
  },
  {
   "cell_type": "markdown",
   "metadata": {
    "hidden": true
   },
   "source": [
    "itertools contains special purpose iterator functions. Each returns one item at a time when called within a for ... in loop and remembers its state between calls. The chain() function runs through its arguments as though they were a single iterable:"
   ]
  },
  {
   "cell_type": "code",
   "execution_count": 31,
   "metadata": {
    "hidden": true
   },
   "outputs": [
    {
     "name": "stdout",
     "output_type": "stream",
     "text": [
      "1\n",
      "2\n",
      "3\n",
      "a\n",
      "b\n",
      "c\n",
      "alpha\n",
      "beta\n",
      "gamma\n"
     ]
    }
   ],
   "source": [
    "import itertools\n",
    "\n",
    "for item in itertools.chain([1, 2, 3], ['a', 'b', 'c'], ['alpha', 'beta', 'gamma']):\n",
    "    print(item)"
   ]
  },
  {
   "cell_type": "markdown",
   "metadata": {
    "hidden": true
   },
   "source": [
    "The accumulate() function calculates the accumulated values. By default it calculates the sum:"
   ]
  },
  {
   "cell_type": "code",
   "execution_count": 32,
   "metadata": {
    "hidden": true
   },
   "outputs": [
    {
     "name": "stdout",
     "output_type": "stream",
     "text": [
      "1\n",
      "3\n",
      "6\n",
      "10\n"
     ]
    }
   ],
   "source": [
    "# Using the accumulate() function of itertools\n",
    "\n",
    "for item in itertools.accumulate([1, 2, 3, 4]):\n",
    "    print(item)"
   ]
  },
  {
   "cell_type": "markdown",
   "metadata": {
    "hidden": true
   },
   "source": [
    "You can provide a function as the second argument to accumulate() and it will be used instead of addition. The function should take two arguments and return a single result. This example calculates the accumulated product:"
   ]
  },
  {
   "cell_type": "code",
   "execution_count": 33,
   "metadata": {
    "hidden": true
   },
   "outputs": [
    {
     "name": "stdout",
     "output_type": "stream",
     "text": [
      "1\n",
      "2\n",
      "6\n",
      "24\n"
     ]
    }
   ],
   "source": [
    "# Using a defined function with accumulate()\n",
    "\n",
    "def multiply(a, b):\n",
    "    return a*b\n",
    "\n",
    "for item in itertools.accumulate([1, 2, 3, 4], multiply):\n",
    "    print(item)"
   ]
  },
  {
   "cell_type": "markdown",
   "metadata": {
    "hidden": true
   },
   "source": [
    "The itertools module has many more functions, notably some for combinations and permutations."
   ]
  },
  {
   "cell_type": "markdown",
   "metadata": {
    "heading_collapsed": true
   },
   "source": [
    "#### Print nicely with pprint()"
   ]
  },
  {
   "cell_type": "markdown",
   "metadata": {
    "hidden": true
   },
   "source": [
    "Generally we use print() or just the variable name in the interactive interpreter to print objects, which can be hard to read. We can use pprint() to prettify printing calls."
   ]
  },
  {
   "cell_type": "code",
   "execution_count": 49,
   "metadata": {
    "hidden": true
   },
   "outputs": [],
   "source": [
    "from pprint import pprint\n",
    "\n",
    "variables = ('alpha', 'Definition for alpha', 1), ('beta', 'Definition for beta', 2), ('gamma','Definition for gamma', 3)"
   ]
  },
  {
   "cell_type": "code",
   "execution_count": 50,
   "metadata": {
    "hidden": true
   },
   "outputs": [
    {
     "name": "stdout",
     "output_type": "stream",
     "text": [
      "(('alpha', 'Definition for alpha', 1), ('beta', 'Definition for beta', 2), ('gamma', 'Definition for gamma', 3))\n"
     ]
    }
   ],
   "source": [
    "# Standard print() call\n",
    "\n",
    "print(variables)"
   ]
  },
  {
   "cell_type": "code",
   "execution_count": 51,
   "metadata": {
    "hidden": true
   },
   "outputs": [
    {
     "name": "stdout",
     "output_type": "stream",
     "text": [
      "(('alpha', 'Definition for alpha', 1),\n",
      " ('beta', 'Definition for beta', 2),\n",
      " ('gamma', 'Definition for gamma', 3))\n"
     ]
    }
   ],
   "source": [
    "# Using pprint()\n",
    "\n",
    "pprint(variables)"
   ]
  },
  {
   "cell_type": "markdown",
   "metadata": {
    "heading_collapsed": true
   },
   "source": [
    "#### Get random"
   ]
  },
  {
   "cell_type": "markdown",
   "metadata": {
    "hidden": true
   },
   "source": [
    "The random.choice() function returns a value from the sequence (list, tuple, dictionary, string) argument that it is given. If we wish to get more than one value at a time we can use sample():"
   ]
  },
  {
   "cell_type": "code",
   "execution_count": 58,
   "metadata": {
    "hidden": true
   },
   "outputs": [
    {
     "data": {
      "text/plain": [
       "[9, 7]"
      ]
     },
     "execution_count": 58,
     "metadata": {},
     "output_type": "execute_result"
    }
   ],
   "source": [
    "from random import choice, sample, randint, randrange, random\n",
    "\n",
    "numbers = [1, 4, 7, 9, 12, 16, 18, 19]\n",
    "\n",
    "sample(numbers, 2)"
   ]
  },
  {
   "cell_type": "markdown",
   "metadata": {
    "hidden": true
   },
   "source": [
    "To get a random integer from any range, you can use choice() or sample() with range(), or use randint() or randrange(). randrange(), like range(), has arguments for the start inclusive and end (exclusive) integers, and an optional integer step:"
   ]
  },
  {
   "cell_type": "code",
   "execution_count": 54,
   "metadata": {
    "hidden": true
   },
   "outputs": [
    {
     "data": {
      "text/plain": [
       "86"
      ]
     },
     "execution_count": 54,
     "metadata": {},
     "output_type": "execute_result"
    }
   ],
   "source": [
    "# Choosing a random integer\n",
    "\n",
    "randint(0, 100)"
   ]
  },
  {
   "cell_type": "code",
   "execution_count": 57,
   "metadata": {
    "hidden": true
   },
   "outputs": [
    {
     "data": {
      "text/plain": [
       "50"
      ]
     },
     "execution_count": 57,
     "metadata": {},
     "output_type": "execute_result"
    }
   ],
   "source": [
    "# Choosing from a range with integer step\n",
    "\n",
    "randrange(0, 100, 10)"
   ]
  },
  {
   "cell_type": "markdown",
   "metadata": {
    "hidden": true
   },
   "source": [
    "Finally, we can get a random real number (a float) between 0 and 1 using random.random:"
   ]
  },
  {
   "cell_type": "code",
   "execution_count": 59,
   "metadata": {
    "hidden": true
   },
   "outputs": [
    {
     "data": {
      "text/plain": [
       "0.44801514842790036"
      ]
     },
     "execution_count": 59,
     "metadata": {},
     "output_type": "execute_result"
    }
   ],
   "source": [
    "# Random float between 0 and 1\n",
    "\n",
    "random()"
   ]
  }
 ],
 "metadata": {
  "kernelspec": {
   "display_name": "Python 3",
   "language": "python",
   "name": "python3"
  },
  "language_info": {
   "codemirror_mode": {
    "name": "ipython",
    "version": 3
   },
   "file_extension": ".py",
   "mimetype": "text/x-python",
   "name": "python",
   "nbconvert_exporter": "python",
   "pygments_lexer": "ipython3",
   "version": "3.8.3"
  },
  "toc": {
   "base_numbering": 1,
   "nav_menu": {},
   "number_sections": false,
   "sideBar": true,
   "skip_h1_title": false,
   "title_cell": "Table of Contents",
   "title_sidebar": "Contents",
   "toc_cell": false,
   "toc_position": {},
   "toc_section_display": true,
   "toc_window_display": true
  }
 },
 "nbformat": 4,
 "nbformat_minor": 4
}
