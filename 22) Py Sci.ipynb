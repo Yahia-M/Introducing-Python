{
 "cells": [
  {
   "cell_type": "markdown",
   "id": "f5571a6a",
   "metadata": {},
   "source": [
    "# 22) Py Sci <a class=\"tocSkip\">"
   ]
  },
  {
   "cell_type": "markdown",
   "id": "f5fe1d38",
   "metadata": {},
   "source": [
    "In the past few years, Python has become extremely popular with scientists. It is common as scientists to use tools like MATLAB and R, or traditional languages such as Java, C or C++. Now you will see how Python makes an excellent platform for scientific analysis and publishing."
   ]
  },
  {
   "cell_type": "markdown",
   "id": "4bc2676e",
   "metadata": {},
   "source": [
    "### Maths and statistics in the standard library"
   ]
  },
  {
   "cell_type": "markdown",
   "id": "6852ac6d",
   "metadata": {},
   "source": [
    "#### Accurate floating point with decimal"
   ]
  },
  {
   "cell_type": "markdown",
   "id": "a2a30156",
   "metadata": {},
   "source": [
    "With Python's decimal module, you can represent numbers to your desired level of significance. This is especially important for calculations involving money. Currency does not go lower than a penny, so if we are calculating money amounts in pounds and pence, we want to be accurate to the penny. If we try to represent pounds and pence through floating point values, we will lose some significance in the lower bits before we begin calculating with them. Using the decimal module:"
   ]
  },
  {
   "cell_type": "code",
   "execution_count": 2,
   "id": "3e8b2534",
   "metadata": {},
   "outputs": [],
   "source": [
    "from decimal import Decimal"
   ]
  },
  {
   "cell_type": "code",
   "execution_count": 3,
   "id": "7aa5747e",
   "metadata": {},
   "outputs": [
    {
     "data": {
      "text/plain": [
       "Decimal('21.9890')"
      ]
     },
     "execution_count": 3,
     "metadata": {},
     "output_type": "execute_result"
    }
   ],
   "source": [
    "# A calculation involving currency\n",
    "\n",
    "price = Decimal('19.99')\n",
    "tax = Decimal('0.10')\n",
    "total = price + (price*tax)\n",
    "total"
   ]
  },
  {
   "cell_type": "code",
   "execution_count": 4,
   "id": "269f839a",
   "metadata": {},
   "outputs": [
    {
     "data": {
      "text/plain": [
       "Decimal('21.99')"
      ]
     },
     "execution_count": 4,
     "metadata": {},
     "output_type": "execute_result"
    }
   ],
   "source": [
    "# Quantizing money to nearest penny\n",
    "\n",
    "penny = Decimal('0.01')\n",
    "total.quantize(penny)"
   ]
  },
  {
   "cell_type": "markdown",
   "id": "4eb2c841",
   "metadata": {},
   "source": [
    "### Scientific Python"
   ]
  },
  {
   "cell_type": "markdown",
   "id": "97cd7eff",
   "metadata": {},
   "source": [
    "The rest of this notebook covers third-party Python packages for science and maths. The main choices include Anaconda, Enthought Canopy, Python(x,y) and Pyzo."
   ]
  },
  {
   "cell_type": "markdown",
   "id": "11ea47e1",
   "metadata": {},
   "source": [
    "#### NumPy"
   ]
  },
  {
   "cell_type": "markdown",
   "id": "42eeff0d",
   "metadata": {},
   "source": [
    "NumPy is one of the main reasons for Python's popularity among scientists. Dynamic languages such as Python are often slower than compiled languages like C, or even other interpreted languages such as Java. NumPy was written to provide fast multidimensional numeric arrays, similar to scientific languages like FORTRAN. You get the speed of C with the developer-friendly nature of Python."
   ]
  },
  {
   "cell_type": "markdown",
   "id": "a4134c1f",
   "metadata": {},
   "source": [
    "Firstly, you should understand a core data structure, a multidimensional array called an ndarray (for N-dimensional array). Unlike Python's lists and tuples, each element needs to be of the same type. NumPy refers to an array's number of dimensions as its rank. The lengths of the dimensions need not be the same. Note that the NumPy array and the standard Python array are not the same thing. Why do we need an array?\n",
    "\n",
    "- Scientific data often consists of large sequences of data.\n",
    "- Scientific calculations on this data often use matrix math, regression, simulation, and other techniques that process many data points at a time.\n",
    "- NumPy handles arrays much faster than standard Python lists or tuples."
   ]
  },
  {
   "cell_type": "markdown",
   "id": "b89434dc",
   "metadata": {},
   "source": [
    "Having made an array, we can return the rank using ndim, the total number of values using size and the number of values in each rank using shape:"
   ]
  },
  {
   "cell_type": "code",
   "execution_count": 5,
   "id": "f68e224c",
   "metadata": {},
   "outputs": [],
   "source": [
    "import numpy as np"
   ]
  },
  {
   "cell_type": "code",
   "execution_count": 6,
   "id": "778b1463",
   "metadata": {},
   "outputs": [
    {
     "name": "stdout",
     "output_type": "stream",
     "text": [
      "The number of dimensions: 2\n",
      "The total length of the array: 12\n",
      "The length of each dimension of the array: (3, 4)\n"
     ]
    }
   ],
   "source": [
    "# An example array\n",
    "\n",
    "array_example = np.array([[1,2,3,4], [2,4,6,8], [3,6,9,12]])\n",
    "print('The number of dimensions: {}'.format(array_example.ndim))\n",
    "print('The total length of the array: {}'.format(array_example.size))\n",
    "print('The length of each dimension of the array: {}'.format(array_example.shape))"
   ]
  },
  {
   "cell_type": "markdown",
   "id": "2538ee1f",
   "metadata": {},
   "source": [
    "The zeros() method returns an array in which all the values are zero. The argument you provide is a tuple with the shape that you want. The other special function that fills an array with the same value is ones():"
   ]
  },
  {
   "cell_type": "code",
   "execution_count": 7,
   "id": "71cfe3f3",
   "metadata": {},
   "outputs": [
    {
     "data": {
      "text/plain": [
       "array([[0., 0.],\n",
       "       [0., 0.],\n",
       "       [0., 0.]])"
      ]
     },
     "execution_count": 7,
     "metadata": {},
     "output_type": "execute_result"
    }
   ],
   "source": [
    "# Creating an n-dimensional array of zeros\n",
    "\n",
    "zeros = np.zeros((3,2))\n",
    "zeros"
   ]
  },
  {
   "cell_type": "code",
   "execution_count": 8,
   "id": "543dcc12",
   "metadata": {},
   "outputs": [
    {
     "data": {
      "text/plain": [
       "array([[1., 1., 1.],\n",
       "       [1., 1., 1.],\n",
       "       [1., 1., 1.],\n",
       "       [1., 1., 1.],\n",
       "       [1., 1., 1.]])"
      ]
     },
     "execution_count": 8,
     "metadata": {},
     "output_type": "execute_result"
    }
   ],
   "source": [
    "# Creating an n-dimensional array of ones\n",
    "\n",
    "ones = np.ones((5,3))\n",
    "ones"
   ]
  },
  {
   "cell_type": "code",
   "execution_count": 10,
   "id": "b9191370",
   "metadata": {},
   "outputs": [
    {
     "data": {
      "text/plain": [
       "array([[0.16889136, 0.05670447, 0.55629968, 0.96055132],\n",
       "       [0.59634741, 0.41188977, 0.90488777, 0.97778928],\n",
       "       [0.31967765, 0.63403245, 0.17180013, 0.49221757],\n",
       "       [0.96152442, 0.01374753, 0.06139822, 0.62620978]])"
      ]
     },
     "execution_count": 10,
     "metadata": {},
     "output_type": "execute_result"
    }
   ],
   "source": [
    "# Creating an n-dimensional array of random values\n",
    "\n",
    "random_array = np.random.random((4,4))\n",
    "random_array"
   ]
  },
  {
   "cell_type": "markdown",
   "id": "1e2dc4bb",
   "metadata": {},
   "source": [
    "If the array has n-dimensions, we can use comma-separated indices within square brackets to get an element:"
   ]
  },
  {
   "cell_type": "code",
   "execution_count": 15,
   "id": "d892b0f8",
   "metadata": {},
   "outputs": [
    {
     "name": "stdout",
     "output_type": "stream",
     "text": [
      "[[0 1 2 3 4]\n",
      " [5 6 7 8 9]]\n",
      "7\n"
     ]
    }
   ],
   "source": [
    "# Creating an example n-dimenstional array and get element\n",
    "\n",
    "list_example = np.arange(10)\n",
    "ndimensional_array = list_example.reshape(2, 5)\n",
    "\n",
    "print(ndimensional_array)\n",
    "print(ndimensional_array[1,2])"
   ]
  },
  {
   "cell_type": "markdown",
   "id": "41383d5a",
   "metadata": {},
   "source": [
    "That is different from a two-dimensional Python list, which has its indexes in separate square brackets:"
   ]
  },
  {
   "cell_type": "code",
   "execution_count": 16,
   "id": "a52dcdf1",
   "metadata": {},
   "outputs": [
    {
     "data": {
      "text/plain": [
       "7"
      ]
     },
     "execution_count": 16,
     "metadata": {},
     "output_type": "execute_result"
    }
   ],
   "source": [
    "# Creating a two-dimensional list and getting an element\n",
    "\n",
    "l = [[0, 1, 2, 3, 4], [5, 6, 7, 8, 9]]\n",
    "l[1][2]"
   ]
  },
  {
   "cell_type": "markdown",
   "id": "67dc36a8",
   "metadata": {},
   "source": [
    "Slices also work on NumPy arrays, but again, only within one set of square brackets. You can also assign a value to more than one element with a slice. The following statement assigns the value 1000 to columns 2 and 3 of all rows:"
   ]
  },
  {
   "cell_type": "code",
   "execution_count": 17,
   "id": "1f4a49a3",
   "metadata": {},
   "outputs": [
    {
     "data": {
      "text/plain": [
       "array([[   0,    1, 1000, 1000,    4],\n",
       "       [   5,    6, 1000, 1000,    9]])"
      ]
     },
     "execution_count": 17,
     "metadata": {},
     "output_type": "execute_result"
    }
   ],
   "source": [
    "ndimensional_array[:, 2:4] = 1000\n",
    "ndimensional_array"
   ]
  },
  {
   "cell_type": "markdown",
   "id": "3aa33a33",
   "metadata": {},
   "source": [
    "We can use NumPy arrays to do array mathematics on whole arrays element-wise in one go. If you tried to do this using a normal Python list we would need a loop or a list comprehension. This all-at-once behaviour applies to all operations as well as other functions in the NumPy library. For example, below shows us multiplying a list by a constant and initializing all members of an array to some predefined value:"
   ]
  },
  {
   "cell_type": "code",
   "execution_count": 19,
   "id": "f312907a",
   "metadata": {},
   "outputs": [
    {
     "name": "stdout",
     "output_type": "stream",
     "text": [
      "[0 3 6 9] [0, 3, 6, 9]\n"
     ]
    }
   ],
   "source": [
    "# Multiplying element-wise\n",
    "\n",
    "# Using a NumPy array\n",
    "original_array = np.arange(4)\n",
    "new_array = original_array*3\n",
    "\n",
    "# Using a list comprehension\n",
    "original_list = list(range(4))\n",
    "new_list = [num*3 for num in original_list]\n",
    "\n",
    "print(new_array, new_list)"
   ]
  },
  {
   "cell_type": "code",
   "execution_count": 20,
   "id": "cc91e6d1",
   "metadata": {},
   "outputs": [
    {
     "data": {
      "text/plain": [
       "array([[15., 15., 15., 15., 15.],\n",
       "       [15., 15., 15., 15., 15.],\n",
       "       [15., 15., 15., 15., 15.]])"
      ]
     },
     "execution_count": 20,
     "metadata": {},
     "output_type": "execute_result"
    }
   ],
   "source": [
    "# Initializing all members of an array\n",
    "\n",
    "constant = 15\n",
    "initial_state = np.zeros((3, 5)) + constant\n",
    "initial_state"
   ]
  },
  {
   "cell_type": "markdown",
   "id": "c9e30e7f",
   "metadata": {},
   "source": [
    "NumPy includes many functions for linear algebra. For example, let us define this system of linear equations:\n",
    "\n",
    "    4x + 5y = 20\n",
    "     x + 2y = 13\n",
    "     \n",
    "How do we solve for x and y? We build two arrays: the coefficients and the dependent variables and use the solve() function in the linalg module:"
   ]
  },
  {
   "cell_type": "code",
   "execution_count": 21,
   "id": "61903558",
   "metadata": {},
   "outputs": [
    {
     "data": {
      "text/plain": [
       "array([-8.33333333, 10.66666667])"
      ]
     },
     "execution_count": 21,
     "metadata": {},
     "output_type": "execute_result"
    }
   ],
   "source": [
    "# Solving the above system of linear equations\n",
    "\n",
    "coefficients = np.array([[4, 5], [1, 2]])\n",
    "dependents = np.array([20, 13])\n",
    "answers = np.linalg.solve(coefficients, dependents)\n",
    "answers"
   ]
  },
  {
   "cell_type": "code",
   "execution_count": 23,
   "id": "75c6433a",
   "metadata": {},
   "outputs": [
    {
     "data": {
      "text/plain": [
       "array([20., 13.])"
      ]
     },
     "execution_count": 23,
     "metadata": {},
     "output_type": "execute_result"
    }
   ],
   "source": [
    "# Check the answer using the dot product\n",
    "\n",
    "product = np.dot(coefficients, answers)\n",
    "product"
   ]
  },
  {
   "cell_type": "markdown",
   "id": "f355bf4a",
   "metadata": {},
   "source": [
    "#### SciPy"
   ]
  },
  {
   "cell_type": "markdown",
   "id": "fbcc5b3c",
   "metadata": {},
   "source": [
    "There is even more in a library of mathematical and statistical functions built on top of NumPy: SciPy. The SciPy includes many modules, including some for the following tasks:\n",
    "\n",
    "- Optimization\n",
    "- Statistics\n",
    "- Interpolation\n",
    "- Linear regression\n",
    "- Integration\n",
    "- Image processing\n",
    "- Signal processing"
   ]
  },
  {
   "cell_type": "markdown",
   "id": "46c2791e",
   "metadata": {},
   "source": [
    "#### SciKit"
   ]
  },
  {
   "cell_type": "markdown",
   "id": "c1b8721a",
   "metadata": {},
   "source": [
    "In the same pattern of building on earlier software, SciKit is a group of scientific packages built on SciPy. SciKit-Learn is a prominent machine learning package: it supports modeling, classification, clustering and various algorithms."
   ]
  },
  {
   "cell_type": "markdown",
   "id": "a50aeba4",
   "metadata": {},
   "source": [
    "#### Pandas"
   ]
  },
  {
   "cell_type": "markdown",
   "id": "584f23d5",
   "metadata": {},
   "source": [
    "Pandas is a new package for interactive data analysis. It is especially useful for real-world data manipulation, b=combining the matrix mathematics of NumPy with the processing ability of spreadsheets and relational databases. NumPy is oriented toward scientific computing, which tends to manipulate multidimensional data sets of a single type. Pandas is more like a database editor, handling multiple data types in groups. In some languages, such groups are called records or structures. Pandas defines a base data structure called a DataFrame. This is an ordered collection of columns with names and types.Pandas is an ETL tool for real-world, messy data - missing values, strange formats, scattered measurements - of all data types. You can split, join, extend, fill in, convert, reshape, slice and load and save files. It integrates with NumPy, SciPy, iPython etc to calculate statistics, fit data to models, draw plots and so on."
   ]
  }
 ],
 "metadata": {
  "kernelspec": {
   "display_name": "Python 3 (ipykernel)",
   "language": "python",
   "name": "python3"
  },
  "language_info": {
   "codemirror_mode": {
    "name": "ipython",
    "version": 3
   },
   "file_extension": ".py",
   "mimetype": "text/x-python",
   "name": "python",
   "nbconvert_exporter": "python",
   "pygments_lexer": "ipython3",
   "version": "3.8.12"
  },
  "toc": {
   "base_numbering": 1,
   "nav_menu": {},
   "number_sections": false,
   "sideBar": true,
   "skip_h1_title": false,
   "title_cell": "Table of Contents",
   "title_sidebar": "Contents",
   "toc_cell": false,
   "toc_position": {},
   "toc_section_display": true,
   "toc_window_display": true
  }
 },
 "nbformat": 4,
 "nbformat_minor": 5
}
