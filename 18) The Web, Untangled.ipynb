{
 "cells": [
  {
   "cell_type": "markdown",
   "metadata": {},
   "source": [
    "# 18) The Web, Untangled <a class=\"tocSkip\">"
   ]
  },
  {
   "cell_type": "markdown",
   "metadata": {},
   "source": [
    "The World Wide Web is designed with three main ideas:\n",
    "\n",
    "    - HTTP (HyperText Transfer Protocol)\n",
    "    A protocol for web clients and servers to interchange requests and responses.\n",
    "    \n",
    "    - HTML (HyperText Markup Language)\n",
    "    A presentation format for results.\n",
    "    \n",
    "    - URL (Uniform Resource Locator)\n",
    "    A way to uniquely represent a server and a resource on that server."
   ]
  },
  {
   "cell_type": "markdown",
   "metadata": {},
   "source": [
    "In its simplest usage, a web client connected to a web server with HTTP, requested a URL and received HTML. Almost every computer language has been used to write web clients and web servers. The dynamic languages Perl, PHP and Ruby have been especially popular. The web is a client-server system. The client makes a request to a server: it opens a TCP/IP connection, sends the URL and other information via HTTP and receives a response. The format of the response is also defined by HTTP. It includes the status of the request and the response's data and format."
   ]
  },
  {
   "cell_type": "markdown",
   "metadata": {},
   "source": [
    "An important aspect of HTTP is that is stateless. Each HTTP connection that you make is independent of all other. This simplifies basic web operations but complicates others, for example:\n",
    "\n",
    "- Caching - Remote content that does not change should be saved by the web client and used to avoid downloading from the server again.\n",
    "\n",
    "- Sessions - A shopping website should remember the contents of your shopping cart.\n",
    "\n",
    "- Authentication - Sites that require your username and password should remember them while you are logged in."
   ]
  },
  {
   "cell_type": "markdown",
   "metadata": {},
   "source": [
    "Solutions to statelessness include cookies, in which the server sends the client enough specific information to be able to identify uniquely when the client sends the cookie back."
   ]
  },
  {
   "cell_type": "markdown",
   "metadata": {},
   "source": [
    "### Web clients"
   ]
  },
  {
   "cell_type": "markdown",
   "metadata": {},
   "source": [
    "Let us use Python's standard web library to get something from a website. The URL in the following example returns information from a test website:"
   ]
  },
  {
   "cell_type": "code",
   "execution_count": 6,
   "metadata": {},
   "outputs": [],
   "source": [
    "import urllib.request as ur"
   ]
  },
  {
   "cell_type": "code",
   "execution_count": 13,
   "metadata": {},
   "outputs": [],
   "source": [
    "# Connection\n",
    "\n",
    "url = 'http://www.example.com/'\n",
    "conn = ur.urlopen(url)"
   ]
  },
  {
   "cell_type": "code",
   "execution_count": 8,
   "metadata": {},
   "outputs": [
    {
     "name": "stdout",
     "output_type": "stream",
     "text": [
      "200\n"
     ]
    }
   ],
   "source": [
    "# Print the connection status\n",
    "\n",
    "print(conn.status)"
   ]
  },
  {
   "cell_type": "markdown",
   "metadata": {},
   "source": [
    "One of the most important parts of the response is the HTTP status code. A 200 means that everything worked fine. There are dozens of HTTP status codes, grouped into five ranges by their first digit:\n",
    "\n",
    "    1xx (information)\n",
    "    The server received the request but has some extra information for the client.\n",
    "    \n",
    "    2xx (success)\n",
    "    It worked; every success code other than 200 conveys extra details.\n",
    "    \n",
    "    3xx (redirection)\n",
    "    The resource moved, so the response returns the new URL to the client.\n",
    "    \n",
    "    4xx (client error)\n",
    "    Some problem from the client side, such as the well known 404 (not found).\n",
    "    \n",
    "    5xx (server error)\n",
    "    500 is the generic whoops; you might see a 502 (bad gateway) if there is some disconnect between a web server and a backend application server."
   ]
  },
  {
   "cell_type": "markdown",
   "metadata": {},
   "source": [
    "To get the data contents from the web page use the read() method of the connection variable. This returns a bytes value that can be converted to a string:"
   ]
  },
  {
   "cell_type": "code",
   "execution_count": 14,
   "metadata": {},
   "outputs": [
    {
     "data": {
      "text/plain": [
       "'<!doctype html>\\n<html>\\n<head>\\n    <title>Example Domain</title>\\n\\n    <meta charset=\"utf-8\" />\\n    <meta http-equiv=\"Content-type\" content=\"text/html; charset=utf-8\" />\\n    <meta name=\"viewport\" content=\"width=device-width, initial-scale=1\" />\\n    <style type=\"text/css\">\\n    body {\\n        background-color: #f0f0f2;\\n        margin: 0;\\n        padding: 0;\\n        font-family: -apple-system, system-ui, BlinkMacSystemFont, \"Segoe UI\", \"Open Sans\", \"Helvetica Neue\", Helvetica, Arial, sans-serif;\\n        \\n    }\\n    div {\\n        width: 600px;\\n        margin: 5em auto;\\n        padding: 2em;\\n        background-color: #fdfdff;\\n        border-radius: 0.5em;\\n        box-shadow: 2px 3px 7px 2px rgba(0,0,0,0.02);\\n    }\\n    a:link, a:visited {\\n        color: #38488f;\\n        text-decoration: none;\\n    }\\n    @media (max-width: 700px) {\\n        div {\\n            margin: 0 auto;\\n            width: auto;\\n        }\\n    }\\n    </style>    \\n</head>\\n\\n<body>\\n<div>\\n    <h1>Example Domain</h1>\\n    <p>This domain is for use in illustrative examples in documents. You may use this\\n    domain in literature without prior coordination or asking for permission.</p>\\n    <p><a href=\"https://www.iana.org/domains/example\">More information...</a></p>\\n</div>\\n</body>\\n</html>\\n'"
      ]
     },
     "execution_count": 14,
     "metadata": {},
     "output_type": "execute_result"
    }
   ],
   "source": [
    "# Get data and convert to string\n",
    "\n",
    "data = conn.read()\n",
    "str_data = data.decode('utf8')\n",
    "str_data"
   ]
  },
  {
   "cell_type": "code",
   "execution_count": null,
   "metadata": {},
   "outputs": [],
   "source": []
  }
 ],
 "metadata": {
  "kernelspec": {
   "display_name": "Python 3",
   "language": "python",
   "name": "python3"
  },
  "language_info": {
   "codemirror_mode": {
    "name": "ipython",
    "version": 3
   },
   "file_extension": ".py",
   "mimetype": "text/x-python",
   "name": "python",
   "nbconvert_exporter": "python",
   "pygments_lexer": "ipython3",
   "version": "3.8.3"
  },
  "toc": {
   "base_numbering": 1,
   "nav_menu": {},
   "number_sections": false,
   "sideBar": true,
   "skip_h1_title": false,
   "title_cell": "Table of Contents",
   "title_sidebar": "Contents",
   "toc_cell": false,
   "toc_position": {},
   "toc_section_display": true,
   "toc_window_display": true
  }
 },
 "nbformat": 4,
 "nbformat_minor": 4
}
