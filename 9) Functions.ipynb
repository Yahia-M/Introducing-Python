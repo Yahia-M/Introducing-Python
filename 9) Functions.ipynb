{
 "cells": [
  {
   "cell_type": "markdown",
   "metadata": {},
   "source": [
    "# 9) Functions <a class=\"tocSkip\">"
   ]
  },
  {
   "cell_type": "markdown",
   "metadata": {},
   "source": [
    "We do not wish to retype fragments of code all the time. The first step to code reuse is a function: a named piece of code that can take any number and type of input parameters and return any number and type of output results. You can define a function using zero or more parameters and call it to get zero or more results."
   ]
  },
  {
   "cell_type": "code",
   "execution_count": 4,
   "metadata": {},
   "outputs": [
    {
     "data": {
      "text/plain": [
       "\"It's a tomato\""
      ]
     },
     "execution_count": 4,
     "metadata": {},
     "output_type": "execute_result"
    }
   ],
   "source": [
    "# Example function\n",
    "\n",
    "def what_vegetable(colour):\n",
    "    if colour == 'red':\n",
    "        return \"It's a tomato\"\n",
    "    elif colour == 'green':\n",
    "        return \"It's a green pepper\"\n",
    "    else:\n",
    "        return \" This is not a vegetable\"\n",
    "    \n",
    "what_vegetable('red')"
   ]
  },
  {
   "cell_type": "markdown",
   "metadata": {
    "heading_collapsed": true
   },
   "source": [
    "### Arguments and parameters"
   ]
  },
  {
   "cell_type": "markdown",
   "metadata": {
    "hidden": true
   },
   "source": [
    "To avoid positional argument confusion, you can specify arguments by the names of their corresponding parameters, even in a different order from their definition in the function:"
   ]
  },
  {
   "cell_type": "code",
   "execution_count": 3,
   "metadata": {
    "hidden": true
   },
   "outputs": [],
   "source": [
    "# Define a function with arguments\n",
    "\n",
    "def menu(wine, entree, dessert):\n",
    "    return {'wine': wine, 'entree': entree, 'dessert': dessert}"
   ]
  },
  {
   "cell_type": "code",
   "execution_count": 4,
   "metadata": {
    "hidden": true
   },
   "outputs": [
    {
     "data": {
      "text/plain": [
       "{'wine': 'bordeaux', 'entree': 'fish', 'dessert': 'flan'}"
      ]
     },
     "execution_count": 4,
     "metadata": {},
     "output_type": "execute_result"
    }
   ],
   "source": [
    "# Call the function using parameter names\n",
    "\n",
    "menu(dessert = 'flan', entree = 'fish', wine = 'bordeaux')"
   ]
  },
  {
   "cell_type": "markdown",
   "metadata": {
    "hidden": true
   },
   "source": [
    "We can also specify default values for parameters. The default is used if the caller does not provide a corresponding argument. When used inside the function with a parameter, an asterisk groups a variable number of positional arguments into a single tuple of parameter values. For example:"
   ]
  },
  {
   "cell_type": "code",
   "execution_count": 8,
   "metadata": {
    "hidden": true
   },
   "outputs": [
    {
     "name": "stdout",
     "output_type": "stream",
     "text": [
      "This argument is required:  Item1\n",
      "This argument is required:  Item2\n",
      "These arguments are optional:  ('Item3', 'Item4', 'Item5')\n"
     ]
    }
   ],
   "source": [
    "# A function using *args\n",
    "\n",
    "def print_args(required1, required2, *args):\n",
    "    print('This argument is required: ', required1)\n",
    "    print('This argument is required: ', required2)\n",
    "    print('These arguments are optional: ', args)\n",
    "    \n",
    "print_args('Item1', 'Item2', 'Item3', 'Item4', 'Item5')"
   ]
  },
  {
   "cell_type": "markdown",
   "metadata": {
    "hidden": true
   },
   "source": [
    "Outside the function, *args explodes the tuple args into comma separated positional parameters. Inside the function, *args gathers all of the positional arguments into a single args tuple. You could use the names *params and params, but it is common practice to use *args for both the outside argument and inside parameter."
   ]
  },
  {
   "cell_type": "markdown",
   "metadata": {
    "hidden": true
   },
   "source": [
    "You can use two asterisks to group keyword arguments into a dictionary, where the argument names are the keys:"
   ]
  },
  {
   "cell_type": "code",
   "execution_count": 14,
   "metadata": {
    "hidden": true
   },
   "outputs": [
    {
     "name": "stdout",
     "output_type": "stream",
     "text": [
      "Keyword arguments: {'wine': 'merlot', 'entree': 'mutton', 'dessert': 'macaroon'}\n"
     ]
    }
   ],
   "source": [
    "# Function using **kwargs\n",
    "\n",
    "def print_kwargs(**kwargs):\n",
    "    print('Keyword arguments:', kwargs)\n",
    "    \n",
    "print_kwargs(wine = 'merlot', entree = 'mutton', dessert = 'macaroon')"
   ]
  },
  {
   "cell_type": "markdown",
   "metadata": {
    "hidden": true
   },
   "source": [
    "Inside the function, kwargs is a dictionary parameter. The argument order is: required positional arguments; optional positional arguments (*args); optional keyword arguments (**kwargs). As with args, you do not need to call this keyword argument kwargs, but it's common usage."
   ]
  },
  {
   "cell_type": "markdown",
   "metadata": {
    "hidden": true
   },
   "source": [
    "---"
   ]
  },
  {
   "cell_type": "markdown",
   "metadata": {
    "heading_collapsed": true
   },
   "source": [
    "### Docstrings"
   ]
  },
  {
   "cell_type": "markdown",
   "metadata": {
    "hidden": true
   },
   "source": [
    "You can attach documentation to a function definition by including a string at the beginning of the function body. You can make a docstring long and even add rich formatting if desired. to print a docstring we call call the help() function, or if you just want to see the raw docstring without formatting we can use the .__doc__ internal variable."
   ]
  },
  {
   "cell_type": "code",
   "execution_count": 17,
   "metadata": {
    "hidden": true
   },
   "outputs": [],
   "source": [
    "# An example function\n",
    "\n",
    "def cubic(x):\n",
    "    '''\n",
    "    This function cubes its input\n",
    "    input: x\n",
    "    output: x**3\n",
    "    '''\n",
    "    return x**3"
   ]
  },
  {
   "cell_type": "code",
   "execution_count": 18,
   "metadata": {
    "hidden": true
   },
   "outputs": [
    {
     "name": "stdout",
     "output_type": "stream",
     "text": [
      "Help on function cubic in module __main__:\n",
      "\n",
      "cubic(x)\n",
      "    This function cubes its input\n",
      "    input: x\n",
      "    output: x**3\n",
      "\n"
     ]
    }
   ],
   "source": [
    "# Print the help function\n",
    "\n",
    "help(cubic)"
   ]
  },
  {
   "cell_type": "code",
   "execution_count": 19,
   "metadata": {
    "hidden": true
   },
   "outputs": [
    {
     "data": {
      "text/plain": [
       "'\\n    This function cubes its input\\n    input: x\\n    output: x**3\\n    '"
      ]
     },
     "execution_count": 19,
     "metadata": {},
     "output_type": "execute_result"
    }
   ],
   "source": [
    "# Print just the docstring\n",
    "\n",
    "cubic.__doc__"
   ]
  },
  {
   "cell_type": "markdown",
   "metadata": {
    "hidden": true
   },
   "source": [
    "---"
   ]
  },
  {
   "cell_type": "markdown",
   "metadata": {
    "heading_collapsed": true
   },
   "source": [
    "### Functions are first-class citizens"
   ]
  },
  {
   "cell_type": "markdown",
   "metadata": {
    "hidden": true
   },
   "source": [
    "In Python everything is an object. Functions are first-class citizens in Python; you can assign them to variables, use them as arguments to other functions and return them from functions. Lets consider an example by running a function with arguments. We here define a test function that takes any number of positional arguments, calculate their sum using the sum() function an returns that sum: "
   ]
  },
  {
   "cell_type": "code",
   "execution_count": 20,
   "metadata": {
    "hidden": true
   },
   "outputs": [],
   "source": [
    "# Function to add any number of numbers\n",
    "\n",
    "def sum_args(*args):\n",
    "    return sum(args)"
   ]
  },
  {
   "cell_type": "markdown",
   "metadata": {
    "hidden": true
   },
   "source": [
    "We can then define a new function run_with_positional_args() which takes a function and any number of positional arguments to pass to it:"
   ]
  },
  {
   "cell_type": "code",
   "execution_count": 23,
   "metadata": {
    "hidden": true
   },
   "outputs": [],
   "source": [
    "# Define a function that has a functional input\n",
    "\n",
    "def run_with_positional_args(func, *args):\n",
    "    return func(*args)"
   ]
  },
  {
   "cell_type": "code",
   "execution_count": 25,
   "metadata": {
    "hidden": true
   },
   "outputs": [
    {
     "data": {
      "text/plain": [
       "6"
      ]
     },
     "execution_count": 25,
     "metadata": {},
     "output_type": "execute_result"
    }
   ],
   "source": [
    "# Example use of this function\n",
    "\n",
    "run_with_positional_args(sum_args, 1, 2, 3)"
   ]
  },
  {
   "cell_type": "markdown",
   "metadata": {
    "hidden": true
   },
   "source": [
    "---"
   ]
  },
  {
   "cell_type": "markdown",
   "metadata": {
    "heading_collapsed": true
   },
   "source": [
    "### Generators"
   ]
  },
  {
   "cell_type": "markdown",
   "metadata": {
    "hidden": true
   },
   "source": [
    "A generator is a Python sequence creation object. With it you can iterate through potentially huge sequences without creating and storing the entire sequence in memory at once. Every time you iterate through a generator, it keeps track of where it was the last time it was called and returns the next value. This is different to a normal function, which has no memory of previous calls and always starts at its first line with the same state."
   ]
  },
  {
   "cell_type": "markdown",
   "metadata": {
    "hidden": true
   },
   "source": [
    "If we want to create a large sequence we can write a generator function. It is like a normal function, but it returns its value with a yield statement rather than return:"
   ]
  },
  {
   "cell_type": "code",
   "execution_count": 27,
   "metadata": {
    "hidden": true
   },
   "outputs": [
    {
     "data": {
      "text/plain": [
       "<generator object create_range at 0x000001BC7420E190>"
      ]
     },
     "execution_count": 27,
     "metadata": {},
     "output_type": "execute_result"
    }
   ],
   "source": [
    "# An example generator function\n",
    "\n",
    "def create_range(first = 0, last = 10, step = 1):\n",
    "    number = first\n",
    "    while number < last:\n",
    "        yield number\n",
    "        number += step\n",
    "        \n",
    "create_range()"
   ]
  },
  {
   "cell_type": "markdown",
   "metadata": {
    "hidden": true
   },
   "source": [
    "We can iterate over this generator object:"
   ]
  },
  {
   "cell_type": "code",
   "execution_count": 29,
   "metadata": {
    "hidden": true
   },
   "outputs": [
    {
     "name": "stdout",
     "output_type": "stream",
     "text": [
      "0\n",
      "1\n",
      "2\n",
      "3\n",
      "4\n",
      "5\n",
      "6\n",
      "7\n",
      "8\n",
      "9\n"
     ]
    }
   ],
   "source": [
    "# Using the generator function\n",
    "\n",
    "for x in create_range():\n",
    "    print(x)"
   ]
  },
  {
   "cell_type": "markdown",
   "metadata": {
    "hidden": true
   },
   "source": [
    "A generator comprehension is surrounded by parentheses instead of square or curly brackets. It works as a shorthand version of a generator function, removing the yield command. It also returns a generator object."
   ]
  },
  {
   "cell_type": "markdown",
   "metadata": {
    "hidden": true
   },
   "source": [
    "---"
   ]
  },
  {
   "cell_type": "markdown",
   "metadata": {
    "heading_collapsed": true
   },
   "source": [
    "### Decorators"
   ]
  },
  {
   "cell_type": "markdown",
   "metadata": {
    "hidden": true
   },
   "source": [
    "Sometimes we want to modify a function without changing its source code. A common example is adding a debugging statement to see what arguments were passed in. A decorator is a function that takes one function as input and returns another function. We shall show an example using *args, **kwargs, inner functions and functions as arguments. We shall define a function document() that will act as a decorator to print the function's name and the values of its arguments, run the function with the arguments, print the result and return the modified function for use:"
   ]
  },
  {
   "cell_type": "code",
   "execution_count": 30,
   "metadata": {
    "hidden": true
   },
   "outputs": [],
   "source": [
    "# Our decorator function\n",
    "\n",
    "def document(func):\n",
    "    def new_function(*args, **kwargs):\n",
    "        print(\"Running function: \", func.__name__)\n",
    "        print(\"Positional arguments: \", args)\n",
    "        print(\"Keyword arguments: \", kwargs)\n",
    "        result = func(*args, **kwargs)\n",
    "        print(\"Result: \", result)\n",
    "        return result\n",
    "    return new_function"
   ]
  },
  {
   "cell_type": "markdown",
   "metadata": {
    "hidden": true
   },
   "source": [
    "We shall now use this to decorate a simple function that adds two numbers together:"
   ]
  },
  {
   "cell_type": "code",
   "execution_count": 31,
   "metadata": {
    "hidden": true
   },
   "outputs": [],
   "source": [
    "# Decorating a function\n",
    "\n",
    "@document\n",
    "def addition(a, b):\n",
    "    return a + b"
   ]
  },
  {
   "cell_type": "code",
   "execution_count": 32,
   "metadata": {
    "hidden": true
   },
   "outputs": [
    {
     "name": "stdout",
     "output_type": "stream",
     "text": [
      "Running function:  addition\n",
      "Positional arguments:  (3, 4)\n",
      "Keyword arguments:  {}\n",
      "Result:  7\n"
     ]
    },
    {
     "data": {
      "text/plain": [
       "7"
      ]
     },
     "execution_count": 32,
     "metadata": {},
     "output_type": "execute_result"
    }
   ],
   "source": [
    "# Running the decorated function\n",
    "\n",
    "addition(3, 4)"
   ]
  },
  {
   "cell_type": "markdown",
   "metadata": {
    "hidden": true
   },
   "source": [
    "If we decorate a function with more than one decorator, we start with the one closest to the function (just above the definition) and then continue to the one above."
   ]
  },
  {
   "cell_type": "markdown",
   "metadata": {
    "hidden": true
   },
   "source": [
    "---"
   ]
  },
  {
   "cell_type": "markdown",
   "metadata": {
    "heading_collapsed": true
   },
   "source": [
    "### Exceptions"
   ]
  },
  {
   "cell_type": "markdown",
   "metadata": {
    "hidden": true
   },
   "source": [
    "When things go wrong, Python uses exceptions: code that is executed when an associated error occurs. When you run code that might fail under some circumstances, you also need appropriate exception handlers to intercept any potential errors. It is good practice to add exception handling anywhere an exception might occur to let the user know what is happening. If you do not provide your own exception handler, Python prints an error message and some information about where the error occurred and then terminates the program. We can use try to wrap our code and except to provide the error handling:"
   ]
  },
  {
   "cell_type": "code",
   "execution_count": 37,
   "metadata": {
    "hidden": true
   },
   "outputs": [
    {
     "name": "stdout",
     "output_type": "stream",
     "text": [
      "Requires a position between 0 and 4 but received 7\n"
     ]
    }
   ],
   "source": [
    "# Handling an error with try and except\n",
    "\n",
    "num_list = [1, 2, 3, 4, 5]\n",
    "position = 7\n",
    "\n",
    "try:\n",
    "    num_list[position]\n",
    "except:\n",
    "    print(\"Requires a position between 0 and\", len(num_list)-1, \"but received\", position)"
   ]
  },
  {
   "cell_type": "markdown",
   "metadata": {
    "hidden": true
   },
   "source": [
    "Specifying a plain except with no arguments is a catchall for any exception type. If more than one type of exception could occur, it is best to provide a separate exception handler for each. Sometimes we want exception details beyond the type. You get the full exception object in the variable name if you use the form:\n",
    "\n",
    "except exceptiontype as name:"
   ]
  },
  {
   "cell_type": "markdown",
   "metadata": {
    "hidden": true
   },
   "source": [
    "Below is an example of a named error."
   ]
  },
  {
   "cell_type": "code",
   "execution_count": 39,
   "metadata": {
    "hidden": true
   },
   "outputs": [
    {
     "name": "stdout",
     "output_type": "stream",
     "text": [
      "Bad index: 7\n"
     ]
    }
   ],
   "source": [
    "# An example using a named error\n",
    "\n",
    "num_list = [1, 2, 3, 4, 5]\n",
    "position = 7\n",
    "\n",
    "try:\n",
    "    num_list[position]\n",
    "except IndexError as err:\n",
    "    print(\"Bad index:\", position)"
   ]
  },
  {
   "cell_type": "markdown",
   "metadata": {
    "hidden": true
   },
   "source": [
    "You can also define your own exception types to handle special situations that might arise in your own program. An exception is a class that is the child of the class Exception. Let us make an exception called UppercaseException and raise it when we encounter an uppercase word in a string:"
   ]
  },
  {
   "cell_type": "code",
   "execution_count": 40,
   "metadata": {
    "hidden": true
   },
   "outputs": [],
   "source": [
    "# Defining a new exception class\n",
    "\n",
    "class UppercaseException(Exception):\n",
    "    pass"
   ]
  },
  {
   "cell_type": "code",
   "execution_count": 41,
   "metadata": {
    "hidden": true
   },
   "outputs": [
    {
     "ename": "UppercaseException",
     "evalue": "FOUR",
     "output_type": "error",
     "traceback": [
      "\u001b[1;31m---------------------------------------------------------------------------\u001b[0m",
      "\u001b[1;31mUppercaseException\u001b[0m                        Traceback (most recent call last)",
      "\u001b[1;32m<ipython-input-41-0eb72b14fd13>\u001b[0m in \u001b[0;36m<module>\u001b[1;34m\u001b[0m\n\u001b[0;32m      5\u001b[0m \u001b[1;32mfor\u001b[0m \u001b[0mword\u001b[0m \u001b[1;32min\u001b[0m \u001b[0mwords\u001b[0m\u001b[1;33m:\u001b[0m\u001b[1;33m\u001b[0m\u001b[1;33m\u001b[0m\u001b[0m\n\u001b[0;32m      6\u001b[0m     \u001b[1;32mif\u001b[0m \u001b[0mword\u001b[0m\u001b[1;33m.\u001b[0m\u001b[0misupper\u001b[0m\u001b[1;33m(\u001b[0m\u001b[1;33m)\u001b[0m\u001b[1;33m:\u001b[0m\u001b[1;33m\u001b[0m\u001b[1;33m\u001b[0m\u001b[0m\n\u001b[1;32m----> 7\u001b[1;33m         \u001b[1;32mraise\u001b[0m \u001b[0mUppercaseException\u001b[0m\u001b[1;33m(\u001b[0m\u001b[0mword\u001b[0m\u001b[1;33m)\u001b[0m\u001b[1;33m\u001b[0m\u001b[1;33m\u001b[0m\u001b[0m\n\u001b[0m",
      "\u001b[1;31mUppercaseException\u001b[0m: FOUR"
     ]
    }
   ],
   "source": [
    "# Raising our newly defined exception\n",
    "\n",
    "words = ['one', 'two', 'three', 'FOUR']\n",
    "\n",
    "for word in words:\n",
    "    if word.isupper():\n",
    "        raise UppercaseException(word)"
   ]
  }
 ],
 "metadata": {
  "kernelspec": {
   "display_name": "Python 3",
   "language": "python",
   "name": "python3"
  },
  "language_info": {
   "codemirror_mode": {
    "name": "ipython",
    "version": 3
   },
   "file_extension": ".py",
   "mimetype": "text/x-python",
   "name": "python",
   "nbconvert_exporter": "python",
   "pygments_lexer": "ipython3",
   "version": "3.8.3"
  },
  "toc": {
   "base_numbering": 1,
   "nav_menu": {},
   "number_sections": false,
   "sideBar": true,
   "skip_h1_title": false,
   "title_cell": "Table of Contents",
   "title_sidebar": "Contents",
   "toc_cell": false,
   "toc_position": {},
   "toc_section_display": true,
   "toc_window_display": true
  }
 },
 "nbformat": 4,
 "nbformat_minor": 4
}
