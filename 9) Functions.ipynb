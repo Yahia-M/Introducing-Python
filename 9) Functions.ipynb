{
 "cells": [
  {
   "cell_type": "markdown",
   "metadata": {},
   "source": [
    "# 9) Functions"
   ]
  },
  {
   "cell_type": "markdown",
   "metadata": {},
   "source": [
    "We do not wish to retype fragments of code all the time. The first step to code reuse is a function: a named piece of code that can take any number and type of input parameters and return any number and type of output results. You can define a function using zero or more parameters and call it to get zero or more results."
   ]
  },
  {
   "cell_type": "code",
   "execution_count": 4,
   "metadata": {},
   "outputs": [
    {
     "data": {
      "text/plain": [
       "\"It's a tomato\""
      ]
     },
     "execution_count": 4,
     "metadata": {},
     "output_type": "execute_result"
    }
   ],
   "source": [
    "# Example function\n",
    "\n",
    "def what_vegetable(colour):\n",
    "    if colour == 'red':\n",
    "        return \"It's a tomato\"\n",
    "    elif colour == 'green':\n",
    "        return \"It's a green pepper\"\n",
    "    else:\n",
    "        return \" This is not a vegetable\"\n",
    "    \n",
    "what_vegetable('red')"
   ]
  },
  {
   "cell_type": "markdown",
   "metadata": {},
   "source": [
    "### Arguments and parameters"
   ]
  },
  {
   "cell_type": "markdown",
   "metadata": {},
   "source": [
    "To avoid positional argument confusion, you can specify arguments by the names of their corresponding parameters, even in a different order from their definition in the function:"
   ]
  },
  {
   "cell_type": "code",
   "execution_count": 3,
   "metadata": {},
   "outputs": [],
   "source": [
    "# Define a function with arguments\n",
    "\n",
    "def menu(wine, entree, dessert):\n",
    "    return {'wine': wine, 'entree': entree, 'dessert': dessert}"
   ]
  },
  {
   "cell_type": "code",
   "execution_count": 4,
   "metadata": {},
   "outputs": [
    {
     "data": {
      "text/plain": [
       "{'wine': 'bordeaux', 'entree': 'fish', 'dessert': 'flan'}"
      ]
     },
     "execution_count": 4,
     "metadata": {},
     "output_type": "execute_result"
    }
   ],
   "source": [
    "# Call the function using parameter names\n",
    "\n",
    "menu(dessert = 'flan', entree = 'fish', wine = 'bordeaux')"
   ]
  },
  {
   "cell_type": "markdown",
   "metadata": {},
   "source": [
    "We can also specify default values for parameters. The default is used if the caller does not provide a corresponding argument. When used inside the function with a parameter, an asterisk groups a variable number of positional arguments into a single tuple of parameter values. For example:"
   ]
  },
  {
   "cell_type": "code",
   "execution_count": 8,
   "metadata": {},
   "outputs": [
    {
     "name": "stdout",
     "output_type": "stream",
     "text": [
      "This argument is required:  Item1\n",
      "This argument is required:  Item2\n",
      "These arguments are optional:  ('Item3', 'Item4', 'Item5')\n"
     ]
    }
   ],
   "source": [
    "# A function using *args\n",
    "\n",
    "def print_args(required1, required2, *args):\n",
    "    print('This argument is required: ', required1)\n",
    "    print('This argument is required: ', required2)\n",
    "    print('These arguments are optional: ', args)\n",
    "    \n",
    "print_args('Item1', 'Item2', 'Item3', 'Item4', 'Item5')"
   ]
  },
  {
   "cell_type": "markdown",
   "metadata": {},
   "source": [
    "Outside the function, *args explodes the tuple args into comma separated positional parameters. Inside the function, *args gathers all of the positional arguments into a single args tuple. You could use the names *params and params, but it is common practice to use *args for both the outside argument and inside parameter."
   ]
  },
  {
   "cell_type": "markdown",
   "metadata": {},
   "source": [
    "You can use two asterisks to group keyword arguments into a dictionary, where the argument names are the keys:"
   ]
  },
  {
   "cell_type": "code",
   "execution_count": 14,
   "metadata": {},
   "outputs": [
    {
     "name": "stdout",
     "output_type": "stream",
     "text": [
      "Keyword arguments: {'wine': 'merlot', 'entree': 'mutton', 'dessert': 'macaroon'}\n"
     ]
    }
   ],
   "source": [
    "# Function using **kwargs\n",
    "\n",
    "def print_kwargs(**kwargs):\n",
    "    print('Keyword arguments:', kwargs)\n",
    "    \n",
    "print_kwargs(wine = 'merlot', entree = 'mutton', dessert = 'macaroon')"
   ]
  },
  {
   "cell_type": "markdown",
   "metadata": {},
   "source": [
    "Inside the function, kwargs is a dictionary parameter. The argument order is: required positional arguments; optional positional arguments (*args); optional keyword arguments (**kwargs). As with args, you do not need to call this keyword argument kwargs, but it's common usage."
   ]
  },
  {
   "cell_type": "markdown",
   "metadata": {},
   "source": [
    "### Docstrings"
   ]
  },
  {
   "cell_type": "markdown",
   "metadata": {},
   "source": [
    "You can attach documentation to a function definition by including a string at the beginning of the function body. You can make a docstring long and even add rich formatting if desired. to print a docstring we call call the help() function, or if you just want to see the raw docstring without formatting we can use the .__doc__ internal variable."
   ]
  },
  {
   "cell_type": "code",
   "execution_count": 17,
   "metadata": {},
   "outputs": [],
   "source": [
    "# An example function\n",
    "\n",
    "def cubic(x):\n",
    "    '''\n",
    "    This function cubes its input\n",
    "    input: x\n",
    "    output: x**3\n",
    "    '''\n",
    "    return x**3"
   ]
  },
  {
   "cell_type": "code",
   "execution_count": 18,
   "metadata": {},
   "outputs": [
    {
     "name": "stdout",
     "output_type": "stream",
     "text": [
      "Help on function cubic in module __main__:\n",
      "\n",
      "cubic(x)\n",
      "    This function cubes its input\n",
      "    input: x\n",
      "    output: x**3\n",
      "\n"
     ]
    }
   ],
   "source": [
    "# Print the help function\n",
    "\n",
    "help(cubic)"
   ]
  },
  {
   "cell_type": "code",
   "execution_count": 19,
   "metadata": {},
   "outputs": [
    {
     "data": {
      "text/plain": [
       "'\\n    This function cubes its input\\n    input: x\\n    output: x**3\\n    '"
      ]
     },
     "execution_count": 19,
     "metadata": {},
     "output_type": "execute_result"
    }
   ],
   "source": [
    "# Print just the docstring\n",
    "\n",
    "cubic.__doc__"
   ]
  },
  {
   "cell_type": "markdown",
   "metadata": {},
   "source": [
    "### Functions are first-class citizens"
   ]
  },
  {
   "cell_type": "markdown",
   "metadata": {},
   "source": [
    "In Python everything is an object. Functions are first-class citizens in Python; you can assign them to variables, use them as arguments to other functions and return them from functions. Lets consider an example by running a function with arguments. We here define a test function that takes any number of positional arguments, calculate their sum using the sum() function an returns that sum: "
   ]
  },
  {
   "cell_type": "code",
   "execution_count": 20,
   "metadata": {},
   "outputs": [],
   "source": [
    "# Function to add any number of numbers\n",
    "\n",
    "def sum_args(*args):\n",
    "    return sum(args)"
   ]
  },
  {
   "cell_type": "markdown",
   "metadata": {},
   "source": [
    "We can then define a new function run_with_positional_args() which takes a function and any number of positional arguments to pass to it:"
   ]
  },
  {
   "cell_type": "code",
   "execution_count": 23,
   "metadata": {},
   "outputs": [],
   "source": [
    "# Define a function that has a functional input\n",
    "\n",
    "def run_with_positional_args(func, *args):\n",
    "    return func(*args)"
   ]
  },
  {
   "cell_type": "code",
   "execution_count": 25,
   "metadata": {},
   "outputs": [
    {
     "data": {
      "text/plain": [
       "6"
      ]
     },
     "execution_count": 25,
     "metadata": {},
     "output_type": "execute_result"
    }
   ],
   "source": [
    "# Example use of this function\n",
    "\n",
    "run_with_positional_args(sum_args, 1, 2, 3)"
   ]
  }
 ],
 "metadata": {
  "kernelspec": {
   "display_name": "Python 3",
   "language": "python",
   "name": "python3"
  },
  "language_info": {
   "codemirror_mode": {
    "name": "ipython",
    "version": 3
   },
   "file_extension": ".py",
   "mimetype": "text/x-python",
   "name": "python",
   "nbconvert_exporter": "python",
   "pygments_lexer": "ipython3",
   "version": "3.8.3"
  },
  "toc": {
   "base_numbering": 1,
   "nav_menu": {},
   "number_sections": false,
   "sideBar": true,
   "skip_h1_title": false,
   "title_cell": "Table of Contents",
   "title_sidebar": "Contents",
   "toc_cell": false,
   "toc_position": {},
   "toc_section_display": true,
   "toc_window_display": false
  }
 },
 "nbformat": 4,
 "nbformat_minor": 4
}
